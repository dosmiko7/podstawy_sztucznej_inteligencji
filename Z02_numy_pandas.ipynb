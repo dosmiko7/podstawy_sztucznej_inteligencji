{
  "cells": [
    {
      "cell_type": "markdown",
      "metadata": {
        "collapsed": true,
        "id": "HCU2H9Zp7Cc_"
      },
      "source": [
        "# NumPy - operacje arytmetyczne w Pythonie\n",
        "\n",
        "Standardowe typy danych i procedury Pythona nie nadają się do poważnych zastosowań numerycznych. Konieczne było opracowanie zoptymalizowanych pod względem typowych operacji numerycznych typów danych i procedur. Stworzony został Numerical Python, zwany w skrócie NumPy. Podczas rozwoju tego pakietu kierowano się podejściem zastosowanym w takich językach jak Basis, MATLAB, rodzina języków APL, FORTRAN i innych. Tak więc NumPy jest biblioteką Pythona służącą do obliczeń naukowych. Dostarcza ona listę matematycznych funkcji użytecznych w takich zagadnieniach jak:\n",
        "  \n",
        "  * algebra liniowa,\n",
        "  * transformacje Fouriera,\n",
        "  * generowanie liczb losowych,\n",
        "  * oraz wszystkie operacje na tablicach i macierzach, które są podstawowymi obiektami w Numpy.\n",
        "  \n",
        "Żeby można korzystać z dobrodziejstwa tej biblioteki należy ją zaimportować:"
      ]
    },
    {
      "cell_type": "code",
      "execution_count": 1,
      "metadata": {
        "id": "xsqHXP0b7CdB"
      },
      "outputs": [],
      "source": [
        "import numpy\n",
        "# lub\n",
        "import numpy as np "
      ]
    },
    {
      "cell_type": "markdown",
      "metadata": {
        "id": "xKMLaeZa7CdC"
      },
      "source": [
        "## Tworzenie macierzy\n",
        "Do stworzenia tablicy jedno-, dwu- i wielowymiarowej używamy funkcji **array**:"
      ]
    },
    {
      "cell_type": "code",
      "execution_count": null,
      "metadata": {
        "id": "ul60FMhv7CdC",
        "outputId": "cb627d30-68f8-48d2-a8fa-cf103c39ebe0"
      },
      "outputs": [
        {
          "name": "stdout",
          "output_type": "stream",
          "text": [
            "[1 2 3]\n",
            "\n",
            " \n",
            "\n",
            "[[1 2 3]\n",
            " [4 5 6]]\n",
            "\n",
            " \n",
            "\n",
            "[[[1 1 1]\n",
            "  [1 1 1]]\n",
            "\n",
            " [[2 2 2]\n",
            "  [2 2 2]]]\n"
          ]
        }
      ],
      "source": [
        "x = np.array([1,2,3]) # tablica jednowymiarowa\n",
        "A = np.array([[1,2,3] , [4,5,6]]) # tablica dwuwymiarowa\n",
        "B = np.array( [[[1,1,1],[1,1,1]], [[2,2,2],[2,2,2]]]) # wielowymiarowa\n",
        "\n",
        "print(x)\n",
        "print(\"\\n \\n\")\n",
        "print(A)\n",
        "print(\"\\n \\n\")\n",
        "print(B)"
      ]
    },
    {
      "cell_type": "markdown",
      "metadata": {
        "id": "FeUWSvHT7CdD"
      },
      "source": [
        "Przy tworzeniu tablicy istnieje możliwość zadeklarowania jej typu:"
      ]
    },
    {
      "cell_type": "code",
      "execution_count": null,
      "metadata": {
        "id": "UtZqyzqv7CdD",
        "outputId": "af974cda-c35c-45de-90a0-d56803964415"
      },
      "outputs": [
        {
          "name": "stdout",
          "output_type": "stream",
          "text": [
            "[[1.+0.j 0.+0.j]\n",
            " [0.+0.j 1.+0.j]]\n"
          ]
        }
      ],
      "source": [
        "z = np.array( [[1,0], [0,1]], dtype=complex) # tablica liczb zespolonych\n",
        "print(z) "
      ]
    },
    {
      "cell_type": "markdown",
      "metadata": {
        "id": "wX6vE4Di7CdD"
      },
      "source": [
        "Do tworzenia tablicy jednowymiarowej (wektora) składającego się z elementów z danego zakresu używamy polecenia **arange(start, stop, krok)**:"
      ]
    },
    {
      "cell_type": "code",
      "execution_count": null,
      "metadata": {
        "id": "MIMPdFW17CdE",
        "outputId": "c2b57355-9ca3-46b4-e83c-b68885cf2007"
      },
      "outputs": [
        {
          "name": "stdout",
          "output_type": "stream",
          "text": [
            "[0 1 2 3 4 5 6 7 8 9]\n",
            " \n",
            "[0 2 4 6 8]\n",
            " \n",
            "[0.  0.5 1.  1.5 2.  2.5 3.  3.5 4.  4.5 5.  5.5 6.  6.5 7.  7.5 8.  8.5\n",
            " 9.  9.5]\n"
          ]
        }
      ],
      "source": [
        "print(np.arange(10), end='\\n \\n')\n",
        "print(np.arange(0, 10, 2), end='\\n \\n')\n",
        "print(np.arange(0., 10, 0.5))"
      ]
    },
    {
      "cell_type": "markdown",
      "metadata": {
        "id": "W1mQyozL7CdE"
      },
      "source": [
        "Jeśli chcemy wygenerować tablicę o określonej liczbie z danego przedziału, używamy funkcji **linspace**:"
      ]
    },
    {
      "cell_type": "code",
      "execution_count": null,
      "metadata": {
        "id": "uEvmcIxt7CdE",
        "outputId": "cce3c094-a42b-4588-d8c4-df3ee5c54326"
      },
      "outputs": [
        {
          "name": "stdout",
          "output_type": "stream",
          "text": [
            "[ 0.  5. 10.]\n",
            " \n",
            "[0.   0.25 0.5  0.75 1.  ]\n"
          ]
        },
        {
          "name": "stderr",
          "output_type": "stream",
          "text": [
            "C:\\ProgramData\\Anaconda3\\lib\\site-packages\\ipykernel_launcher.py:1: DeprecationWarning: object of type <class 'float'> cannot be safely interpreted as an integer.\n",
            "  \"\"\"Entry point for launching an IPython kernel.\n"
          ]
        }
      ],
      "source": [
        "print(np.linspace(0., 10., 3.), end='\\n \\n')\n",
        "print(np.linspace(0., 1, 5) )"
      ]
    },
    {
      "cell_type": "markdown",
      "metadata": {
        "id": "LZJddrBG7CdE"
      },
      "source": [
        "Biblioteka Numpy oferuje wiele możliwości budowania typowych tablic:"
      ]
    },
    {
      "cell_type": "code",
      "execution_count": null,
      "metadata": {
        "id": "rrsGtm-H7CdE",
        "outputId": "676589e3-b429-4df1-e3bc-630317b38a0f"
      },
      "outputs": [
        {
          "name": "stdout",
          "output_type": "stream",
          "text": [
            "[[1. 1. 1.]\n",
            " [1. 1. 1.]\n",
            " [1. 1. 1.]] \n",
            "\n",
            "[[0. 0.]\n",
            " [0. 0.]\n",
            " [0. 0.]] \n",
            "\n",
            "[[1. 0. 0. 0.]\n",
            " [0. 1. 0. 0.]\n",
            " [0. 0. 1. 0.]\n",
            " [0. 0. 0. 1.]]\n"
          ]
        }
      ],
      "source": [
        "print(np.ones((3,3)), '\\n') # dwuwymiarowa tablica (3x3) wypełniona jedynkami\n",
        "print(np.zeros((3,2)), '\\n') # dwuwymiarowa tablica (3x2) wypełniona zerami\n",
        "print(np.eye(4)) # macierz jednostkowa 4x4"
      ]
    },
    {
      "cell_type": "markdown",
      "metadata": {
        "id": "XJ0UnFgm7CdF"
      },
      "source": [
        "Korzystając z powyższych funkcji możemy w łatwy sposób tworzyć dowolne macierze, zmieniając ich rozmiary."
      ]
    },
    {
      "cell_type": "code",
      "execution_count": null,
      "metadata": {
        "id": "a4QGlV2q7CdF",
        "outputId": "0897f567-2d3a-48b6-dce6-2f6a2ac43e98"
      },
      "outputs": [
        {
          "name": "stdout",
          "output_type": "stream",
          "text": [
            "[[ 0  1  2]\n",
            " [ 3  4  5]\n",
            " [ 6  7  8]\n",
            " [ 9 10 11]\n",
            " [12 13 14]] \n",
            "\n",
            "[[0.         0.07142857 0.14285714]\n",
            " [0.21428571 0.28571429 0.35714286]\n",
            " [0.42857143 0.5        0.57142857]\n",
            " [0.64285714 0.71428571 0.78571429]\n",
            " [0.85714286 0.92857143 1.        ]]\n"
          ]
        }
      ],
      "source": [
        "print(np.arange(15).reshape(5,3), '\\n')\n",
        "print(np.linspace(0., 1, 15).reshape(5,3))"
      ]
    },
    {
      "cell_type": "markdown",
      "metadata": {
        "id": "stOomrqi7CdF"
      },
      "source": [
        "# Operacje na indeksach tablicy\n",
        "Żeby odwołać się do konkretnej wartości tablicy należy użyć **[]** z odpowiednim indeksem (pamiętamy, że w Pythonie zaczynamy indeksować od 0)."
      ]
    },
    {
      "cell_type": "code",
      "execution_count": null,
      "metadata": {
        "id": "utWmr_al7CdF",
        "outputId": "56510d84-74c1-4e25-e526-7ef676323767"
      },
      "outputs": [
        {
          "name": "stdout",
          "output_type": "stream",
          "text": [
            "[ 0  1  2  3  4  5  6  7  8  9 10 11 12 13 14] \n",
            "\n",
            "3 \n",
            "\n",
            "[[ 0  1  2  3]\n",
            " [ 4  5  6  7]\n",
            " [ 8  9 10 11]\n",
            " [12 13 14 15]\n",
            " [16 17 18 19]] \n",
            "\n",
            "11\n",
            "11 \n",
            "\n",
            "[ 8  9 10 11] \n",
            "\n",
            "[ 2  6 10 14 18]\n"
          ]
        }
      ],
      "source": [
        "x = np.arange(15)\n",
        "print(x, '\\n')\n",
        "print(x[3], '\\n')\n",
        "\n",
        "A = np.arange(20).reshape(5,4)\n",
        "print(A, '\\n')\n",
        "print(A[2, 3])\n",
        "print(A[2][3], '\\n') # równoważnie\n",
        "print(A[2], '\\n') # trzeci wiersz\n",
        "print(A[:, 2]) # trzecia kolumna"
      ]
    },
    {
      "cell_type": "markdown",
      "metadata": {
        "id": "H5A65lB47CdG"
      },
      "source": [
        "Aby wyświetlić fragment tablicy od  $n-1$  do  $m-1$  elementów używamy składni: **tablica[n:m]**, analogicznie aby wyświetlić elementy tablicy pomiędzy  $n-1$ , a  $m-1$  przesuwając się o wartość  $k$  używamy składni **tablica[n:m:k]**. \n"
      ]
    },
    {
      "cell_type": "code",
      "execution_count": null,
      "metadata": {
        "id": "eXBzZm_u7CdG",
        "outputId": "301def34-33a8-414c-949d-122d9c9a02c9",
        "colab": {
          "base_uri": "https://localhost:8080/"
        }
      },
      "outputs": [
        {
          "output_type": "stream",
          "name": "stdout",
          "text": [
            "[ 0  1  2  3  4  5  6  7  8  9 10 11 12 13 14] \n",
            "\n",
            "[ 3  4  5  6  7  8  9 10]\n",
            "[3 5 7 9] \n",
            "\n",
            "[[ 8  9 10 11]\n",
            " [12 13 14 15]] \n",
            "\n",
            "[[ 2  3]\n",
            " [ 6  7]\n",
            " [10 11]\n",
            " [14 15]\n",
            " [18 19]] \n",
            "\n",
            "[[ 2  3]\n",
            " [ 6  7]\n",
            " [10 11]\n",
            " [14 15]\n",
            " [18 19]]\n"
          ]
        }
      ],
      "source": [
        "x = np.arange(15)\n",
        "print(x, '\\n')\n",
        "print(x[3:11])\n",
        "print(x[3:11:2], '\\n')\n",
        "\n",
        "A = np.arange(20).reshape(5,4)\n",
        "print(A[2:4], '\\n') # wiersze od trzeciego do czwartego\n",
        "print(A[:,2:4], '\\n') # trzecia i czwarta kolumnę\n",
        "print(A[:,[2,3]]) # równoważnie"
      ]
    },
    {
      "cell_type": "markdown",
      "metadata": {
        "id": "-6MkPlYB7CdG"
      },
      "source": [
        "Jak widać z powyższych przykładów, przecinek w nawiasach **[]** rozdziela poszczególne wymiary tablic."
      ]
    },
    {
      "cell_type": "code",
      "execution_count": null,
      "metadata": {
        "id": "Cnyocp-o7CdG",
        "outputId": "c252fc13-c541-473e-ad94-afe173609f46"
      },
      "outputs": [
        {
          "name": "stdout",
          "output_type": "stream",
          "text": [
            "[5 6 7] \n",
            "\n",
            "[[4 5]\n",
            " [8 9]] \n",
            "\n",
            "[4 6]\n"
          ]
        }
      ],
      "source": [
        "print(A[1,1:5], '\\n') # elementy z drugiego wiersza i od drugiej do piątej kolumny \n",
        "print(A[1:3, :2], '\\n') # elementy od drugiego do trzeciego wiersza, \n",
        "                 # znajdujące się w kolumnach od pierwszej do drugiej\n",
        "print(A[1,0:5:2]) # elementy drugiego wiersza i kolumny od pierwszej do piątej co dwie"
      ]
    },
    {
      "cell_type": "markdown",
      "metadata": {
        "id": "Gp1z3QG47CdH"
      },
      "source": [
        "Tablice można też budować w oparciu o już istniejące:"
      ]
    },
    {
      "cell_type": "code",
      "execution_count": null,
      "metadata": {
        "id": "minZHZc17CdH",
        "outputId": "6942ea20-2eb5-4527-d7ff-56cf165216e6"
      },
      "outputs": [
        {
          "name": "stdout",
          "output_type": "stream",
          "text": [
            "[[ 0  1  2  3]\n",
            " [ 4  5  6  7]\n",
            " [ 8  9 10 11]\n",
            " [12 13 14 15]\n",
            " [16 17 18 19]] \n",
            "\n",
            "[[10 11]\n",
            " [14 15]]\n"
          ]
        }
      ],
      "source": [
        "A = np.arange(20).reshape(5,4)\n",
        "print(A, '\\n')\n",
        "\n",
        "B = A[2:4, 2:]\n",
        "print(B)"
      ]
    },
    {
      "cell_type": "markdown",
      "metadata": {
        "id": "qALNhze07CdH"
      },
      "source": [
        "# Zmiana rozmiaru, kształtu tablicy\n",
        "Do zmiany rozmiaru tablicy już utworzonej służy funkcja: reshape. Operacja ta nie zmieni zawartości oryginalnej tablicy, pokaże jedynie jej elementy w zadanej postaci."
      ]
    },
    {
      "cell_type": "code",
      "execution_count": null,
      "metadata": {
        "id": "66CzrqZd7CdH",
        "outputId": "0bcea2cb-e188-4eb2-939a-eff44b7333c5"
      },
      "outputs": [
        {
          "name": "stdout",
          "output_type": "stream",
          "text": [
            "[0 1 2 3 4 5 6 7] \n",
            "\n",
            "[[0 1 2 3]\n",
            " [4 5 6 7]] \n",
            "\n",
            "[0 1 2 3 4 5 6 7]\n"
          ]
        }
      ],
      "source": [
        "A = np.arange(8)\n",
        "print(A,'\\n')\n",
        "print(A.reshape((2, 4)), '\\n')\n",
        "print(A)"
      ]
    },
    {
      "cell_type": "markdown",
      "metadata": {
        "id": "y51Y9r5w7CdH"
      },
      "source": [
        "Aby zmienić kształt tablicy za pomocą funkcji reshape możemy zrobić tak:"
      ]
    },
    {
      "cell_type": "code",
      "execution_count": null,
      "metadata": {
        "id": "DoLSngyp7CdI",
        "outputId": "c419979e-2865-48f8-d72d-8e4bd28ff4a3"
      },
      "outputs": [
        {
          "name": "stdout",
          "output_type": "stream",
          "text": [
            "[0 1 2 3 4 5 6 7] \n",
            "\n",
            "[[0 1 2 3]\n",
            " [4 5 6 7]]\n"
          ]
        }
      ],
      "source": [
        "A = np.arange(8)\n",
        "print(A,'\\n')\n",
        "A = A.reshape((2, 4))\n",
        "print(A)"
      ]
    },
    {
      "cell_type": "markdown",
      "metadata": {
        "id": "Z3kEKbWI7CdI"
      },
      "source": [
        "lub użyć funkcję **resize**:"
      ]
    },
    {
      "cell_type": "code",
      "execution_count": null,
      "metadata": {
        "id": "G4bzj4FR7CdI",
        "outputId": "e1634443-68a3-455d-84c6-792186978c12"
      },
      "outputs": [
        {
          "name": "stdout",
          "output_type": "stream",
          "text": [
            "[0 1 2 3 4 5 6 7] \n",
            "\n",
            "[[0 1 2 3]\n",
            " [4 5 6 7]]\n"
          ]
        }
      ],
      "source": [
        "A = np.arange(8)\n",
        "print(A,'\\n')\n",
        "A.resize(2, 4)\n",
        "# print A.resize(2, 4), '\\n'\n",
        "print(A)"
      ]
    },
    {
      "cell_type": "markdown",
      "metadata": {
        "id": "VAhym17H7CdI"
      },
      "source": [
        "Do sprawdzenia wymiaru tablicy służy funkcja **shape**:"
      ]
    },
    {
      "cell_type": "code",
      "execution_count": null,
      "metadata": {
        "id": "7vkjc8G_7CdI",
        "outputId": "4b171335-e0d6-4dbf-c610-efbf37f79456"
      },
      "outputs": [
        {
          "name": "stdout",
          "output_type": "stream",
          "text": [
            "(5, 4) \n",
            "\n",
            "5 \n",
            "\n",
            "4 \n",
            "\n",
            "20\n"
          ]
        }
      ],
      "source": [
        "A = np.arange(20).reshape(5,4)\n",
        "print(A.shape, '\\n') # wymiar tablicy\n",
        "print(A.shape[0], '\\n') # pierwszy wymiar\n",
        "print(A.shape[1], '\\n') # drugi wymiar\n",
        "print(A.size) # liczba wszystkich elementów w tablicy "
      ]
    },
    {
      "cell_type": "markdown",
      "metadata": {
        "id": "vS7ytpMh7CdJ"
      },
      "source": [
        "Transpozycja macierzy:"
      ]
    },
    {
      "cell_type": "code",
      "execution_count": null,
      "metadata": {
        "id": "xqHy0kxi7CdJ",
        "outputId": "7c61972c-a5c8-4579-c4b5-5b83f4c7408f"
      },
      "outputs": [
        {
          "name": "stdout",
          "output_type": "stream",
          "text": [
            "[[0 1 2 3]\n",
            " [4 5 6 7]] \n",
            "\n",
            "[[0 4]\n",
            " [1 5]\n",
            " [2 6]\n",
            " [3 7]] \n",
            "\n",
            "[[0 4]\n",
            " [1 5]\n",
            " [2 6]\n",
            " [3 7]]\n"
          ]
        }
      ],
      "source": [
        "A = np.arange(8).reshape(2,4)\n",
        "print(A, '\\n')\n",
        "print(A.T, '\\n')\n",
        "print(np.transpose(A))"
      ]
    },
    {
      "cell_type": "markdown",
      "metadata": {
        "id": "RMZ1y6ih7CdJ"
      },
      "source": [
        "Podobnie jak przy funkcji reshape aby zachować wynik transpozycji macierzy musimy go przypisać do nowej zmiennej."
      ]
    },
    {
      "cell_type": "code",
      "execution_count": null,
      "metadata": {
        "id": "bZMfMQDA7CdJ",
        "outputId": "54399dc5-a8f2-4b18-c380-7aea82048e7e"
      },
      "outputs": [
        {
          "name": "stdout",
          "output_type": "stream",
          "text": [
            "[[0 1 2 3]\n",
            " [4 5 6 7]] \n",
            "\n",
            "[[0 4]\n",
            " [1 5]\n",
            " [2 6]\n",
            " [3 7]]\n"
          ]
        }
      ],
      "source": [
        "print(A, '\\n')\n",
        "A = A.T\n",
        "print(A)"
      ]
    },
    {
      "cell_type": "markdown",
      "metadata": {
        "id": "Ky6ihtFo7CdJ"
      },
      "source": [
        "Podobnie jest z poleceniem **swapaxes(tablica, oś1, oś2)**, które wyświetli zmienione wiersze z kolumnami dla tablicy dwuwymiarowej. Dla wielowymiarowych tablic zmieni ono elementy dla zadanych osi."
      ]
    },
    {
      "cell_type": "code",
      "execution_count": null,
      "metadata": {
        "id": "Sz8ywjEh7CdJ",
        "outputId": "9a89aef4-096e-40e1-c5a2-aef3586d348d"
      },
      "outputs": [
        {
          "name": "stdout",
          "output_type": "stream",
          "text": [
            "[[1 2 3]] \n",
            "\n",
            "[[1]\n",
            " [2]\n",
            " [3]] \n",
            "\n",
            "[[[0 1]\n",
            "  [2 3]]\n",
            "\n",
            " [[4 5]\n",
            "  [6 7]]] \n",
            "\n",
            "[[[0 4]\n",
            "  [2 6]]\n",
            "\n",
            " [[1 5]\n",
            "  [3 7]]]\n"
          ]
        }
      ],
      "source": [
        "x = np.array([[1,2,3]])\n",
        "print(x, '\\n')\n",
        "print(np.swapaxes(x,0,1), '\\n')\n",
        "\n",
        "x = np.array([[[0,1],[2,3]],[[4,5],[6,7]]])\n",
        "print(x, '\\n')\n",
        "print(np.swapaxes(x, 0, 2))"
      ]
    },
    {
      "cell_type": "markdown",
      "metadata": {
        "id": "02EaXCax7CdK"
      },
      "source": [
        "Aby zmienić tablicę na jednowymiarową, możemy użyć polecenia:"
      ]
    },
    {
      "cell_type": "code",
      "execution_count": null,
      "metadata": {
        "id": "zklK7Gp-7CdK",
        "outputId": "d7a6bc10-cf15-4d73-a818-c0b02f8066e2"
      },
      "outputs": [
        {
          "name": "stdout",
          "output_type": "stream",
          "text": [
            "[[0 1 2 3]\n",
            " [4 5 6 7]] \n",
            "\n",
            "[0 1 2 3 4 5 6 7] \n",
            "\n",
            "[0 1 2 3 4 5 6 7]\n"
          ]
        }
      ],
      "source": [
        "A = np.arange(8).reshape(2,4)\n",
        "print(A, '\\n')\n",
        "print(np.ravel(A), '\\n')\n",
        "print(A.reshape(-1,))"
      ]
    },
    {
      "cell_type": "markdown",
      "metadata": {
        "id": "TRfcCH4q7CdK"
      },
      "source": [
        "# Podstawowe operacje na tablicach\n",
        "\n",
        "  * dodawanie:"
      ]
    },
    {
      "cell_type": "code",
      "execution_count": null,
      "metadata": {
        "id": "zhnGSqV-7CdK",
        "outputId": "e4b6cafe-aebf-4cff-cfaa-e6bd5ef088c8"
      },
      "outputs": [
        {
          "name": "stdout",
          "output_type": "stream",
          "text": [
            "[1 5 8 5 9]\n",
            "[1 5 8 5 9] \n",
            "\n",
            "[2 5 7 3 6] \n",
            "\n",
            "[[15 17 19]\n",
            " [21 23 25]\n",
            " [27 29 31]\n",
            " [33 35 37]\n",
            " [39 41 43]]\n",
            "[[15 17 19]\n",
            " [21 23 25]\n",
            " [27 29 31]\n",
            " [33 35 37]\n",
            " [39 41 43]] \n",
            "\n",
            "[[20 21 22]\n",
            " [23 24 25]\n",
            " [26 27 28]\n",
            " [29 30 31]\n",
            " [32 33 34]] \n",
            "\n",
            "[[15 16 17]\n",
            " [18 19 20]\n",
            " [21 22 23]\n",
            " [24 25 26]\n",
            " [27 28 29]] \n",
            "\n",
            "[1 2 3] \n",
            "\n",
            "[[16 18 20]\n",
            " [19 21 23]\n",
            " [22 24 26]\n",
            " [25 27 29]\n",
            " [28 30 32]]\n"
          ]
        }
      ],
      "source": [
        "x = np.array([1,4,6,2,5])\n",
        "v = np.arange(5)\n",
        "print(x+v)\n",
        "print(np.add(x, v), '\\n') # równoważnie\n",
        "print(x+1, '\\n')\n",
        "\n",
        "A = np.arange(15, 30).reshape((5, 3))\n",
        "B = np.arange(15).reshape((5, 3))\n",
        "print(A+B)\n",
        "print(np.add(A, B), '\\n')\n",
        "print(A+5, '\\n')\n",
        "\n",
        "x = np.array([1,2,3])\n",
        "print(A, '\\n')\n",
        "print(x, '\\n')\n",
        "print(np.add(A, x)) # dodawanie do każdego wiersza wektora x"
      ]
    },
    {
      "cell_type": "markdown",
      "metadata": {
        "id": "tlq1sXST7CdL"
      },
      "source": [
        "* odejmowanie:"
      ]
    },
    {
      "cell_type": "code",
      "execution_count": null,
      "metadata": {
        "id": "o9BLj4nS7CdL",
        "outputId": "fe2a6c1e-b6f6-4698-90f7-5d764c118a65"
      },
      "outputs": [
        {
          "name": "stdout",
          "output_type": "stream",
          "text": [
            "[ 1  3  4 -1  1]\n",
            "[ 1  3  4 -1  1] \n",
            "\n",
            "[0 3 5 1 4]\n",
            "[[15 15 15]\n",
            " [15 15 15]\n",
            " [15 15 15]\n",
            " [15 15 15]\n",
            " [15 15 15]]\n",
            "[[15 15 15]\n",
            " [15 15 15]\n",
            " [15 15 15]\n",
            " [15 15 15]\n",
            " [15 15 15]] \n",
            "\n",
            "[[14 15 16]\n",
            " [17 18 19]\n",
            " [20 21 22]\n",
            " [23 24 25]\n",
            " [26 27 28]] \n",
            "\n",
            "[[14 14 14]\n",
            " [17 17 17]\n",
            " [20 20 20]\n",
            " [23 23 23]\n",
            " [26 26 26]]\n"
          ]
        }
      ],
      "source": [
        "x = np.array([1,4,6,2,5])\n",
        "v = np.arange(5)\n",
        "print(x-v)\n",
        "print(np.subtract(x, v), '\\n') # równoważnie\n",
        "print(x-1)\n",
        "\n",
        "A = np.arange(15, 30).reshape((5, 3))\n",
        "B = np.arange(15).reshape((5, 3))\n",
        "print(A-B)\n",
        "print(np.subtract(A, B), '\\n')\n",
        "print(A-1, '\\n')\n",
        "\n",
        "x = np.array([1,2,3])\n",
        "print(np.subtract(A, x)) # odjęcie od każdego wiersza wektora x"
      ]
    },
    {
      "cell_type": "markdown",
      "metadata": {
        "id": "4J5HmPKh7CdL"
      },
      "source": [
        "* mnożenie:"
      ]
    },
    {
      "cell_type": "code",
      "execution_count": null,
      "metadata": {
        "id": "_Yvf0OyM7CdL",
        "outputId": "79db0e42-2d87-4453-9a2d-9e190d5407c9"
      },
      "outputs": [
        {
          "name": "stdout",
          "output_type": "stream",
          "text": [
            "[ 5 20 30 10 25] \n",
            "\n",
            "42 \n",
            "\n",
            "[ 0  4 12  6 20] \n",
            "\n",
            "[[ 5 15]\n",
            " [ 0 30]] \n",
            "\n",
            "[[ 22   0]\n",
            " [ 48 -12]] \n",
            "\n",
            "[[ -2  18]\n",
            " [  0 -12]]\n"
          ]
        }
      ],
      "source": [
        "x = np.array([1,4,6,2,5])\n",
        "v = np.arange(5)\n",
        "print(x*5, '\\n')\n",
        "print(np.dot(x,v), '\\n') # iloczyn skalarny\n",
        "print(x*v, '\\n' )# to nie, mnożony jest element przez element! \n",
        "\n",
        "A = np.array([[1, 3], [0, 6]])\n",
        "print(A*5, '\\n')\n",
        "\n",
        "B = np.array([[-2, 6], [8, -2]])\n",
        "print(np.dot(A, B), '\\n')\n",
        "print(A*B) # to nie, mnożony jest element przez element! "
      ]
    },
    {
      "cell_type": "markdown",
      "metadata": {
        "id": "unucQzZ67CdL"
      },
      "source": [
        "NumPy ma możliwość deklarowania macierzy, różnią się one w tym środowisku od tablic tym, że operacja mnożenia nie dotyczy mnożenia elementów, tylko klasycznego mnożenia macierzy:"
      ]
    },
    {
      "cell_type": "code",
      "execution_count": null,
      "metadata": {
        "id": "IxB6wjD67CdM",
        "outputId": "71ee1c21-7d1c-464b-a152-e28db7e228b5"
      },
      "outputs": [
        {
          "name": "stdout",
          "output_type": "stream",
          "text": [
            "[[17  1]\n",
            " [28  1]] \n",
            "\n",
            "[[17  1]\n",
            " [28  1]]\n"
          ]
        }
      ],
      "source": [
        "A = np.matrix( ((2,3), (3, 5)) )\n",
        "B = np.matrix( ((1,2), (5, -1)) )\n",
        "\n",
        "print(A * B, '\\n')\n",
        "print(np.dot(A, B))"
      ]
    },
    {
      "cell_type": "markdown",
      "metadata": {
        "id": "s6D4Ggw37CdM"
      },
      "source": [
        "  * potęgowanie:"
      ]
    },
    {
      "cell_type": "code",
      "execution_count": null,
      "metadata": {
        "id": "_fc5L-co7CdM",
        "outputId": "3c10d227-997f-4832-838d-80ab32d18e76"
      },
      "outputs": [
        {
          "name": "stdout",
          "output_type": "stream",
          "text": [
            "[1 4 6 2 5] \n",
            "\n",
            "[ 1 16 36  4 25]\n",
            "[ 1 16 36  4 25] \n",
            "\n",
            "[[0 1 2]\n",
            " [3 4 5]\n",
            " [6 7 8]] \n",
            "\n",
            "[[ 0  1  4]\n",
            " [ 9 16 25]\n",
            " [36 49 64]] \n",
            "\n",
            "[[ 0  1  4]\n",
            " [ 9 16 25]\n",
            " [36 49 64]]\n"
          ]
        }
      ],
      "source": [
        "x = np.array([1,4,6,2,5])\n",
        "print(x, '\\n')\n",
        "\n",
        "print(x**2)\n",
        "print(np.power(x, 2), '\\n') # równoważnie\n",
        "\n",
        "A = np.arange(9).reshape((3, 3))\n",
        "print(A, '\\n')\n",
        "print(A**2, '\\n') # kwadrat elementów tablicy\n",
        "print(np.power(A, 2)) # równoważnie"
      ]
    },
    {
      "cell_type": "markdown",
      "metadata": {
        "id": "C1g50xG-7CdM"
      },
      "source": [
        "Więcej funkcji można znaleźć tutaj: [https://docs.scipy.org/doc/numpy/reference/routines.math.html]."
      ]
    },
    {
      "cell_type": "markdown",
      "metadata": {
        "id": "9qcnTPzq7CdM"
      },
      "source": [
        "## Porównania elementów tablic"
      ]
    },
    {
      "cell_type": "code",
      "execution_count": null,
      "metadata": {
        "id": "U2Fc4VCG7CdN",
        "outputId": "dd9d4538-1a55-419d-c7ff-d719ba06d62c"
      },
      "outputs": [
        {
          "name": "stdout",
          "output_type": "stream",
          "text": [
            "[[False False False]\n",
            " [False False False]\n",
            " [False False False]\n",
            " [False False False]\n",
            " [False False False]] \n",
            "\n",
            "[[ True  True  True]\n",
            " [ True  True  True]\n",
            " [ True  True  True]\n",
            " [ True  True  True]\n",
            " [ True  True  True]] \n",
            "\n",
            "[[False False False]\n",
            " [False False False]\n",
            " [False False False]\n",
            " [False False False]\n",
            " [ True False False]] \n",
            "\n",
            "True \n",
            "\n",
            "False\n"
          ]
        }
      ],
      "source": [
        "A = np.arange(5, 20).reshape((5, 3))\n",
        "B = np.arange(15).reshape((5, 3))\n",
        "\n",
        "print(A < B, '\\n')\n",
        "print(A == A, '\\n')\n",
        "print(A == 17, '\\n')\n",
        "print(np.any( A > 17 ), '\\n') # prawdziwe, jeśli każdy element z osobna spełnia warunek \n",
        "print(np.all( A > 17 )) # prawdziwe jeśli wszystkie elementy spełniają warunek"
      ]
    },
    {
      "cell_type": "markdown",
      "metadata": {
        "id": "3kom049M7CdN"
      },
      "source": [
        "## Łączenie i dzielenie tablic\n",
        "Biblioteka <i>NumPy</i> daje nam narzędzia dzięki, którym możemy łączyć i dzielić tablice. Zaczniemy od omówienia problemu łączenia tablic:"
      ]
    },
    {
      "cell_type": "code",
      "execution_count": null,
      "metadata": {
        "id": "h6t2WcmF7CdN",
        "outputId": "2ad90c1b-061a-472e-ac71-e25eeae11c7a"
      },
      "outputs": [
        {
          "name": "stdout",
          "output_type": "stream",
          "text": [
            "[[1 2]\n",
            " [3 4]] \n",
            "\n",
            "[[5 6]] \n",
            "\n",
            "[[1 2]\n",
            " [3 4]\n",
            " [5 6]] \n",
            "\n",
            "[[1 2]\n",
            " [3 4]\n",
            " [5 6]] \n",
            "\n",
            "[[1 2 5]\n",
            " [3 4 6]] \n",
            "\n",
            "[[1 2 5]\n",
            " [3 4 6]]\n"
          ]
        }
      ],
      "source": [
        "x = np.array([[1, 2], [3, 4]])\n",
        "y = np.array([[5, 6]])\n",
        "\n",
        "print(x, '\\n')\n",
        "print(y, '\\n')\n",
        "\n",
        "# łączenie wierszowe\n",
        "print(np.concatenate((x, y), axis=0), '\\n')\n",
        "print(np.vstack((x,y)), '\\n')\n",
        "\n",
        "# łączenie kolumnowe\n",
        "print(np.concatenate((x,y.T), axis=1), '\\n')\n",
        "print(np.hstack((x,y.T)))"
      ]
    },
    {
      "cell_type": "markdown",
      "metadata": {
        "id": "qJ77h9qq7CdN"
      },
      "source": [
        "## Wybrane metody z algebry linowej\n",
        "Do części funkcji typowych dla algebry liniowej możemy się odwołać po zaimportowaniu biblioteki **linalg** będącej integralną częścią biblioteki NumPy."
      ]
    },
    {
      "cell_type": "code",
      "execution_count": 2,
      "metadata": {
        "id": "cdQMCH_N7CdN"
      },
      "outputs": [],
      "source": [
        "import numpy.linalg as alg "
      ]
    },
    {
      "cell_type": "markdown",
      "metadata": {
        "id": "UGkuwoPD7CdO"
      },
      "source": [
        "Można tam znaleźć funkcję obliczającą:\n",
        "\n",
        "* macierz odwrotną:"
      ]
    },
    {
      "cell_type": "code",
      "execution_count": null,
      "metadata": {
        "id": "K79MWkDP7CdO",
        "outputId": "4fcc58ac-8999-484a-fc06-6c0912b15d5d"
      },
      "outputs": [
        {
          "name": "stdout",
          "output_type": "stream",
          "text": [
            "[[-2.   1. ]\n",
            " [ 1.5 -0.5]] \n",
            "\n",
            "[[1.00000000e+00 1.11022302e-16]\n",
            " [0.00000000e+00 1.00000000e+00]]\n"
          ]
        }
      ],
      "source": [
        "A = np.array([[1., 2.], [3., 4.]])\n",
        "invA = alg.inv(A)\n",
        "print(invA, '\\n')\n",
        "print(np.dot(A, invA))"
      ]
    },
    {
      "cell_type": "markdown",
      "metadata": {
        "id": "hFI3zPS37CdO"
      },
      "source": [
        "  * wyznacznik:"
      ]
    },
    {
      "cell_type": "code",
      "execution_count": null,
      "metadata": {
        "id": "FjA0h6cV7CdO",
        "outputId": "d7989467-67b1-4038-d5b1-b6d29e9ac736"
      },
      "outputs": [
        {
          "name": "stdout",
          "output_type": "stream",
          "text": [
            "[[1. 2.]\n",
            " [3. 4.]] \n",
            "\n",
            "-2.0000000000000004\n"
          ]
        }
      ],
      "source": [
        "print(A, '\\n')\n",
        "print(alg.det(A))"
      ]
    },
    {
      "cell_type": "markdown",
      "metadata": {
        "id": "Hm58PcbO7CdO"
      },
      "source": [
        "  * ślad:"
      ]
    },
    {
      "cell_type": "code",
      "execution_count": null,
      "metadata": {
        "id": "rKQi9ew07CdP",
        "outputId": "aba2347b-218e-470b-b551-3be1526c4708"
      },
      "outputs": [
        {
          "name": "stdout",
          "output_type": "stream",
          "text": [
            "[[1. 2.]\n",
            " [3. 4.]] \n",
            "\n",
            "5.0\n"
          ]
        }
      ],
      "source": [
        "print(A, '\\n')\n",
        "print(np.trace(A))"
      ]
    },
    {
      "cell_type": "markdown",
      "metadata": {
        "id": "FFoP4ycG7CdP"
      },
      "source": [
        "  * normę dla macierz lub wektora:"
      ]
    },
    {
      "cell_type": "code",
      "execution_count": null,
      "metadata": {
        "id": "rNZbkNxX7CdP",
        "outputId": "edaa353a-06a9-4cee-ee92-ffe7bf34e7f4"
      },
      "outputs": [
        {
          "name": "stdout",
          "output_type": "stream",
          "text": [
            "5.477225575051661 \n",
            "\n",
            "5.477225575051661 \n",
            "\n",
            "7.0 \n",
            "\n",
            "[3.16227766 4.47213595] \n",
            "\n",
            "[2.23606798 5.        ] \n",
            "\n"
          ]
        }
      ],
      "source": [
        "print(alg.norm(A), '\\n') # Euklidesowa\n",
        "print(alg.norm(A, 'fro'), '\\n') # Frobeniusa\n",
        "print(alg.norm(A, np.inf), '\\n') # maksimum\n",
        "\n",
        "print(alg.norm(A, axis=0), '\\n') # wierszy\n",
        "print(alg.norm(A, axis=1), '\\n') # kolumn"
      ]
    },
    {
      "cell_type": "markdown",
      "metadata": {
        "id": "wYhs8XIn7CdP"
      },
      "source": [
        "  * rozwiązywanie układów równań:"
      ]
    },
    {
      "cell_type": "code",
      "execution_count": null,
      "metadata": {
        "id": "leWDq5Z17CdQ",
        "outputId": "5fe33805-e051-4c7c-f318-e9011214ba11"
      },
      "outputs": [
        {
          "name": "stdout",
          "output_type": "stream",
          "text": [
            "[2.33333333 0.66666667]\n"
          ]
        }
      ],
      "source": [
        "# 4*x_1 + x_2 = 10\n",
        "# 3*x_1 = 7\n",
        "A = np.array([[4,1], [3,0]])\n",
        "b = np.array([10,7])\n",
        "print(np.linalg.solve(A, b))"
      ]
    },
    {
      "cell_type": "markdown",
      "metadata": {
        "id": "OPVUOhFW7CdQ"
      },
      "source": [
        "## Statystyka\n",
        "<i>NumPy</i> oferuje dużo możliwości generacji liczb losowych. Poniżej podaję niektóre z nich, więcej można znaleźć tutaj:\n",
        "[https://docs.scipy.org/doc/numpy/reference/routines.random.html]"
      ]
    },
    {
      "cell_type": "code",
      "execution_count": null,
      "metadata": {
        "id": "C8gLP77A7CdQ",
        "outputId": "f337e7ce-2b67-48b3-adc7-cd8facb0b384"
      },
      "outputs": [
        {
          "name": "stdout",
          "output_type": "stream",
          "text": [
            "[[0.51331593 0.71828258]\n",
            " [0.31437938 0.42175377]\n",
            " [0.87209429 0.01614226]] \n",
            "\n",
            "[[ 3.26489408 -0.84423382  3.17960921]\n",
            " [ 2.38894145  2.36848575  4.27726106]] \n",
            "\n",
            "[[4 0 3]\n",
            " [0 1 2]\n",
            " [2 4 0]] \n",
            "\n",
            "[0 4 3] \n",
            "\n",
            "[[0.08460561 0.13215186 1.05790284]\n",
            " [0.19639517 1.74343072 1.35525228]] \n",
            "\n",
            "[[4 1 2 5]\n",
            " [1 2 2 4]] \n",
            "\n",
            "[ 1.16642122 -0.83369971  0.71169424 -0.6633981   0.97364497 -0.80360861\n",
            " -0.01146566] \n",
            "\n",
            "[10  7  7  3  1  4  8  5  6  6] \n",
            "\n",
            "[[ 1.46862811 -1.7177219 ]\n",
            " [ 0.83913167 -3.46827871]\n",
            " [10.02853104 -7.21854854]\n",
            " [ 3.5565149  -4.51507624]\n",
            " [ 2.96303611 -3.70456031]\n",
            " [ 2.14766288 -3.65611269]\n",
            " [ 6.03688058 -4.68693286]] \n",
            "\n"
          ]
        }
      ],
      "source": [
        "# macierz losowa 3x2 (liczby z przedziału [0, 1)) \n",
        "print(np.random.rand(3,2), '\\n')\n",
        "\n",
        "# macierz losowa 2x3 o elementach z rozkładu N(mu, sigma^2) = N(1, 4)\n",
        "print(2 * np.random.randn(2, 3) + 1, '\\n')\n",
        "\n",
        "# macierz losowa 3x3 o elementach całkowitych z przedziału [0, 5)\n",
        "print(np.random.randint(5, size=(3, 3)), '\\n')\n",
        "\n",
        "# losowe wybranie 3 liczb z [0, 1, 2, 3, 4]\n",
        "print(np.random.choice(5, 3, replace=False), '\\n')\n",
        "\n",
        "# rozkład wykładniczy (scale = 1/lambda)\n",
        "print(numpy.random.exponential(scale=1.0, size=(2, 3)), '\\n')\n",
        "\n",
        "# rozkład geometryczny\n",
        "print(np.random.geometric(p=0.35, size=(2,4)), '\\n')\n",
        "\n",
        "# rozkład normalny N(mu, sigma)\n",
        "print(np.random.normal(0.0, 1, size=7), '\\n')\n",
        "\n",
        "# rozkład Poissona\n",
        "print(np.random.poisson(5, 10), '\\n')\n",
        "\n",
        "# rozkład wielowymiarowy rozkład normalny\n",
        "mean = [5, -5]\n",
        "cov = [[10, -6], [-6, 5]]\n",
        "print(np.random.multivariate_normal(mean, cov, 7), '\\n')"
      ]
    },
    {
      "cell_type": "markdown",
      "metadata": {
        "id": "zx37O21L7CdR"
      },
      "source": [
        "Proste statystyki:"
      ]
    },
    {
      "cell_type": "code",
      "execution_count": null,
      "metadata": {
        "id": "aJL4CD5O7CdR",
        "outputId": "4c06bd1e-6542-4cc7-945c-5427f7c2bfc4"
      },
      "outputs": [
        {
          "name": "stdout",
          "output_type": "stream",
          "text": [
            "3.8359494419580757 \n",
            "\n",
            "-1.3538077707295026 \n",
            "\n",
            "7.957616559033794 \n",
            "\n",
            "2.9097761372025803 \n",
            "\n",
            "1.1368023655762562\n",
            "1.1368023655762562 \n",
            "\n",
            "1.486329163903139 \n",
            "\n",
            "1.6628696116007926\n",
            "1.6628696116007926 \n",
            "\n",
            "2.765135345185371\n",
            "2.765135345185371\n"
          ]
        }
      ],
      "source": [
        "x = np.random.normal(2.0, 2.5, size=7)\n",
        "\n",
        "print(x.max(),'\\n') #maksymalna wartość\n",
        "\n",
        "print(x.min(),'\\n') # minimalna wartość \n",
        "\n",
        "print(x.sum(),'\\n') # suma wszystkich elementów \n",
        "\n",
        "print(x.prod(),'\\n') # iloczyn wszystkich elementów \n",
        "\n",
        "print(x.mean()) # średnia z wszystkich elementów\n",
        "print(np.mean(x),'\\n')\n",
        "\n",
        "print(np.median(x),'\\n') # mediana\n",
        "\n",
        "print(x.std()) # odchylenie standardowe \n",
        "print(np.std(x),'\\n')\n",
        "\n",
        "print(x.var()) # wariancja\n",
        "print(np.var(x))"
      ]
    },
    {
      "cell_type": "markdown",
      "metadata": {
        "id": "eS4qU6-E7CdR"
      },
      "source": [
        "# Zadanie 1\n",
        "Wygeneruj losową tablice 100 x 10, która będzie reprezentować 100 punktów w 10 wymiarowej przestrzeni. Napisz funkcję, która policzy odległość euklidesową pomiędzy każdą parą punktów, czy potrafisz zrobić to w jednej linijce, bez użycia żadnych pętli/wytworników pętli? Przypomnienie, dla dwóch wektorów  xx  i  yy  odległość euklidesową liczymy ze wzoru: \n",
        "\n",
        "$$\n",
        "d(x,y)=\\|x-y\\|_2^2=\\sum_{i=1}^n |x_i-y_i|^2.\n",
        "$$"
      ]
    },
    {
      "cell_type": "code",
      "execution_count": 57,
      "metadata": {
        "id": "U6sLX1b77CdR",
        "outputId": "2181f5b6-0237-4039-e302-74f1962a5654",
        "colab": {
          "base_uri": "https://localhost:8080/"
        }
      },
      "outputs": [
        {
          "output_type": "stream",
          "name": "stdout",
          "text": [
            "[[0.         0.98887577 1.23971535 ... 1.32731178 1.65603781 1.25093157]\n",
            " [0.98887577 0.         0.77142651 ... 1.26578469 1.20195262 0.96558009]\n",
            " [1.23971535 0.77142651 0.         ... 1.18699019 1.30540493 1.23609633]\n",
            " ...\n",
            " [1.32731178 1.26578469 1.18699019 ... 0.         1.03483374 1.30595633]\n",
            " [1.65603781 1.20195262 1.30540493 ... 1.03483374 0.         1.18879393]\n",
            " [1.25093157 0.96558009 1.23609633 ... 1.30595633 1.18879393 0.        ]]\n"
          ]
        }
      ],
      "source": [
        "randomized = np.random.rand(100,10)\n",
        "to_print = np.sqrt(np.sum((randomized.reshape(100, 1, 10)-randomized)**2, axis=2))\n",
        "print(to_print)"
      ]
    },
    {
      "cell_type": "markdown",
      "metadata": {
        "id": "l6LI_oYh7CdS"
      },
      "source": [
        "# Zadanie 2\n",
        "\n",
        "Wygeneruj losową tablicę z wielowymiarowego rozkładu normalnego (procedura random.multivariate_normal), która będzie reprezentować 100 punktów w 5 wymiarowej przestrzeni. Napisz funkcję do normalizacji zbioru punktów (zrób to w jednej linijce, bez użycia pętli):\n",
        "\n",
        "$$\n",
        "x_{ij} = \\frac{x_{ij}-\\mu_j}{\\sigma_j},\n",
        "$$\n",
        "\n",
        "gdzie  $μ_j$  to średnia, a  $σ_j$  to odchylenie standardowe po  $j$-tej kolumnie, zaś  $x_{ij}$  to  $j$-ta współrzędna  $i$ -tego wektora.\n",
        "\n",
        "Policz średnią i macierz kowariancji tak przekształconych danych. Co zaobserwowałeś?"
      ]
    },
    {
      "cell_type": "code",
      "execution_count": 58,
      "metadata": {
        "id": "TowgDOma7CdS",
        "outputId": "6ad101f4-11d9-470d-f024-9349a5a76d72",
        "colab": {
          "base_uri": "https://localhost:8080/"
        }
      },
      "outputs": [
        {
          "output_type": "stream",
          "name": "stdout",
          "text": [
            "-2.842170943040401e-17\n",
            "[[ 1.01010101e+00 -1.53888895e-01 -1.52293767e-02 -1.35500700e-01\n",
            "  -5.22862398e-03]\n",
            " [-1.53888895e-01  1.01010101e+00 -6.22671816e-02  9.64233413e-02\n",
            "  -1.44471123e-01]\n",
            " [-1.52293767e-02 -6.22671816e-02  1.01010101e+00  4.69561789e-06\n",
            "   1.42625055e-01]\n",
            " [-1.35500700e-01  9.64233413e-02  4.69561789e-06  1.01010101e+00\n",
            "  -7.47629461e-03]\n",
            " [-5.22862398e-03 -1.44471123e-01  1.42625055e-01 -7.47629461e-03\n",
            "   1.01010101e+00]]\n"
          ]
        }
      ],
      "source": [
        "mean = np.zeros(5)\n",
        "cov = np.eye(5)\n",
        "A = np.random.multivariate_normal(mean, cov, 100)\n",
        "A = (A - A.mean(0))/A.std(0)\n",
        "print(A.mean())\n",
        "print(np.cov(A.T))"
      ]
    },
    {
      "cell_type": "markdown",
      "metadata": {
        "id": "3If-Ulfc7CdS"
      },
      "source": [
        "# Zadanie 3\n",
        "\n",
        "Wypełni 100-elementową tablicę liczbami losowymi naturalnymi z zakresu  $[5,15]$  i policz liczbę wystąpień tych liczb. Która z tych liczb najczęściej występuje w tak wygenerowanej tablicy?\n",
        "Wskazówka: zobacz funkcje: bincount, argmax."
      ]
    },
    {
      "cell_type": "markdown",
      "source": [],
      "metadata": {
        "id": "YMTlTimb_ibY"
      }
    },
    {
      "cell_type": "code",
      "execution_count": 59,
      "metadata": {
        "id": "scnrDuFZ7CdS",
        "outputId": "70d420cc-6853-49a7-ef90-3fb166315974",
        "colab": {
          "base_uri": "https://localhost:8080/"
        }
      },
      "outputs": [
        {
          "output_type": "stream",
          "name": "stdout",
          "text": [
            "[14  8  7  8 15  6 11  7 14  7  8  9 10 13  9  6  7 15  7  8 14  5  9 15\n",
            " 11  5  8  7 11  9  7 11  9  9  6 13 14 10  6  6 12  5  9  8 10 13  9 14\n",
            " 11 15 10 11  5  9  8  7 13 11 11 13 10 10 13  5  9 10  9 11 11  8  7  5\n",
            " 14  9  9 10 15  6 12  5  8  9 13 13  7 15  6  7  8  5  6 12  6  9  7 11\n",
            "  8 15 10 14]\n",
            "[ 8  9 12 11 15  9 11  3  8  7  7]\n",
            "9\n"
          ]
        }
      ],
      "source": [
        "array = np.random.randint(11,size=100) + 5\n",
        "print(array)\n",
        "count = np.bincount(array)\n",
        "print(count[5:])\n",
        "print(np.argmax(count))\n"
      ]
    },
    {
      "cell_type": "markdown",
      "metadata": {
        "id": "5bhujm-x7CdS"
      },
      "source": [
        "# Zadanie 4\n",
        "\n",
        "Korzystając z poniższego kodu zaimportuj dane **breast cancer**, który składa się z 2 elementów: macierzy  $X$  o wymiarach 569 x 30 oraz wektora  $y$ o długości 569. Macierz  $X$  opisuje badania 683 pacjentów, a wektor  $y$  ich diagnozy."
      ]
    },
    {
      "cell_type": "code",
      "execution_count": 16,
      "metadata": {
        "id": "Ihi8OEOg7CdS",
        "outputId": "97bc695c-97c6-4b34-c5bf-cec014473426",
        "colab": {
          "base_uri": "https://localhost:8080/"
        }
      },
      "outputs": [
        {
          "output_type": "stream",
          "name": "stdout",
          "text": [
            "(569, 30)\n",
            "(569,)\n"
          ]
        }
      ],
      "source": [
        "from sklearn.datasets import load_breast_cancer\n",
        "X, y  = load_breast_cancer(return_X_y=True)\n",
        "print(X.shape)\n",
        "print(y.shape)"
      ]
    },
    {
      "cell_type": "markdown",
      "metadata": {
        "id": "Ztq2PDG97CdT"
      },
      "source": [
        "Za pomocą biblioteki **numpy** przenumeruj wektor  $y$ , tzn zamień wartości $0$ i $1$ na $-1$ i $+1$. Przeskaluj macierz  $X$ , tak żeby wartości w każdej kolumnie mieściły się w zakresie  $[0,1]$ , innymi słowy przeskaluj niezależnie każdą kolumnę  $X_i$  według poniższej procedury: \n",
        "\n",
        "$$\n",
        "X_i=\\frac{X_i-min(X_i)}{max(X_i)-min(X_i)}.\n",
        "$$"
      ]
    },
    {
      "cell_type": "code",
      "execution_count": 60,
      "metadata": {
        "id": "IW8Lc6S77CdT",
        "colab": {
          "base_uri": "https://localhost:8080/"
        },
        "outputId": "ae34abda-bdde-4436-c4b1-7942cd1c1fc0"
      },
      "outputs": [
        {
          "output_type": "stream",
          "name": "stdout",
          "text": [
            "[[0.52103744 0.0226581  0.54598853 ... 0.91202749 0.59846245 0.41886396]\n",
            " [0.64314449 0.27257355 0.61578329 ... 0.63917526 0.23358959 0.22287813]\n",
            " [0.60149557 0.3902604  0.59574321 ... 0.83505155 0.40370589 0.21343303]\n",
            " ...\n",
            " [0.45525108 0.62123774 0.44578813 ... 0.48728522 0.12872068 0.1519087 ]\n",
            " [0.64456434 0.66351031 0.66553797 ... 0.91065292 0.49714173 0.45231536]\n",
            " [0.03686876 0.50152181 0.02853984 ... 0.         0.25744136 0.10068215]]\n"
          ]
        }
      ],
      "source": [
        "y = np.where(y == 0, -1, +1) \n",
        "new_matrix = X.transpose()\n",
        "i = 0\n",
        "for element in new_matrix:\n",
        "    new_matrix[i]=(element-min(element))/(max(element)-min(element))\n",
        "    i+=1\n",
        "X=new_matrix.transpose()\n",
        "print(X)"
      ]
    },
    {
      "cell_type": "markdown",
      "metadata": {
        "id": "QAKYQPUC7CdT"
      },
      "source": [
        "# Biblioteka Pandas\n",
        "\n",
        "**Pandas** jest darmową biblioteką języka Python, która służy do analizy danych. Zawiera łatwe w użyciu struktury i narzędzia do analizy danych spotykane w języku R.\n",
        "\n",
        "Biblioteka ta pozwala między innymi na:\n",
        "  \n",
        "  * tworzenie własnych danych w odpowiednich strukturach,\n",
        "  * importowanie i eksportowanie danych do różnych plików,\n",
        "  * przygotowanie danych do analizy (pozbycie się anomalii w danych, np. brakujących wartości),\n",
        "  * analizę danych,\n",
        "  * prezentację danych.\n",
        "\n",
        "Do instalacji tej biblioteki można użyć procedury **pip** albo **conda** [http://pandas.pydata.org/pandas-docs/stable/install.html]"
      ]
    },
    {
      "cell_type": "markdown",
      "metadata": {
        "id": "hS_3-VB_7CdT"
      },
      "source": [
        "Aby skorzystać z biblioteki pandas należy ją wcześniej zaimportować, np.:"
      ]
    },
    {
      "cell_type": "code",
      "execution_count": 20,
      "metadata": {
        "id": "gZoB7IVI7CdT",
        "outputId": "56a43c1b-5fb9-4229-85cb-ddfab17d40df",
        "colab": {
          "base_uri": "https://localhost:8080/"
        }
      },
      "outputs": [
        {
          "output_type": "stream",
          "name": "stdout",
          "text": [
            "1.4.4\n"
          ]
        }
      ],
      "source": [
        "# import pandas\n",
        "import pandas as pd\n",
        "\n",
        "print(pd.__version__) # wersja biblioteki\n",
        "%matplotlib inline"
      ]
    },
    {
      "cell_type": "markdown",
      "metadata": {
        "id": "wLcr-_0z7CdT"
      },
      "source": [
        "## Struktury danych\n",
        "\n",
        "Biblioteka pandas wprowadza dwie nowe struktury danych do Pythona: **Series** i **DataFrame**.\n",
        "\n",
        "1. **Serie**\n",
        "\n",
        "Seria to jednowymiarowy obiekt podobny do tablicy, listy, który może zawierać różnego rodzaju dane (liczby całkowite, zmiennoprzecinkowe, ciągi, obiekty Pythona, itd.). Każdy element serii ma przypisany indeks/etykietę (domyślnie od 0 do N, gdzie N jest długość serii minus 1)."
      ]
    },
    {
      "cell_type": "code",
      "execution_count": null,
      "metadata": {
        "id": "9DUcp-xA7CdU",
        "outputId": "f113bb40-362c-4f53-fd95-a9ff62f8f691"
      },
      "outputs": [
        {
          "name": "stdout",
          "output_type": "stream",
          "text": [
            "0                7\n",
            "1       Heisenberg\n",
            "2             3.14\n",
            "3      -1789710578\n",
            "4    Happy Eating!\n",
            "dtype: object\n"
          ]
        }
      ],
      "source": [
        "from pandas import Series, DataFrame\n",
        "import pandas as pd\n",
        "s = pd.Series([7, 'Heisenberg', 3.14, -1789710578, 'Happy Eating!'])\n",
        "print(s)"
      ]
    },
    {
      "cell_type": "markdown",
      "metadata": {
        "id": "d7HSyJde7CdU"
      },
      "source": [
        "Alternatywnie, można zdefiniować indeksy elementów serii w trakcje jej definicji:"
      ]
    },
    {
      "cell_type": "code",
      "execution_count": null,
      "metadata": {
        "id": "E_W6gdpI7CdU",
        "outputId": "53cdd738-6396-4ecb-bdc9-2dd376964ba7"
      },
      "outputs": [
        {
          "name": "stdout",
          "output_type": "stream",
          "text": [
            "a   -0.549234\n",
            "b    0.679250\n",
            "c    2.144546\n",
            "i   -0.261919\n",
            "e   -0.151553\n",
            "dtype: float64\n"
          ]
        }
      ],
      "source": [
        "import numpy as np\n",
        "\n",
        "# Series(dane, index=indeks)\n",
        "s = Series(np.random.randn(5), index=['a', 'b', 'c', 'i', 'e'])\n",
        "print(s)"
      ]
    },
    {
      "cell_type": "markdown",
      "metadata": {
        "id": "EeeqE_ae7CdV"
      },
      "source": [
        "Konstruktor **Series** może przetwarzać słowniki Pythona:"
      ]
    },
    {
      "cell_type": "code",
      "execution_count": null,
      "metadata": {
        "id": "ioTi5GJ67CdV",
        "outputId": "57fe63dd-480f-4166-e75e-6008670a23ce"
      },
      "outputs": [
        {
          "name": "stdout",
          "output_type": "stream",
          "text": [
            "a    0.0\n",
            "b    1.0\n",
            "c    2.0\n",
            "dtype: float64\n"
          ]
        }
      ],
      "source": [
        "d = {'a' : 0., 'b' : 1., 'c' : 2.}\n",
        "print(Series(d))"
      ]
    },
    {
      "cell_type": "code",
      "execution_count": null,
      "metadata": {
        "id": "fLEBY2aB7CdV",
        "outputId": "d419031c-d496-4a5f-e514-61d55d4ebce6"
      },
      "outputs": [
        {
          "name": "stdout",
          "output_type": "stream",
          "text": [
            "b    1.0\n",
            "c    2.0\n",
            "d    NaN\n",
            "a    0.0\n",
            "dtype: float64\n"
          ]
        }
      ],
      "source": [
        "print(Series(d, index=['b', 'c', 'd', 'a']))"
      ]
    },
    {
      "cell_type": "code",
      "execution_count": null,
      "metadata": {
        "id": "c1L0_VzW7CdV",
        "outputId": "8450dc35-87b5-40e6-ccca-92b2c869a92c"
      },
      "outputs": [
        {
          "name": "stdout",
          "output_type": "stream",
          "text": [
            "a    1\n",
            "b    1\n",
            "c    1\n",
            "d    1\n",
            "e    1\n",
            "dtype: int64 \n",
            "\n",
            "a    1.0\n",
            "b    1.0\n",
            "c    1.0\n",
            "d    1.0\n",
            "e    1.0\n",
            "dtype: float64\n"
          ]
        }
      ],
      "source": [
        "print(Series(1, index=['a', 'b', 'c', 'd', 'e']), '\\n')\n",
        "print(Series(1., index=['a', 'b', 'c', 'd', 'e']))"
      ]
    },
    {
      "cell_type": "markdown",
      "metadata": {
        "id": "DdzimtyM7CdV"
      },
      "source": [
        "## 1.1 Odwoływanie się do elementów serii\n",
        "\n",
        "Struktura Series działa jak tablica. Można odwołać się do poszczególnego elementu serii za pomocą indeksu, używać logicznego indeksowania, itd.:"
      ]
    },
    {
      "cell_type": "code",
      "execution_count": null,
      "metadata": {
        "id": "DfNj1PMV7CdW",
        "outputId": "76399491-dfc3-4583-ab63-815d35041d18"
      },
      "outputs": [
        {
          "name": "stdout",
          "output_type": "stream",
          "text": [
            "a    0.658887\n",
            "b    0.786614\n",
            "c   -0.452638\n",
            "i   -1.455700\n",
            "e   -1.199088\n",
            "dtype: float64 \n",
            "\n",
            "0.6588874879366847 -1.455700308849256\n"
          ]
        }
      ],
      "source": [
        "s = Series(np.random.randn(5), index=['a', 'b', 'c', 'i', 'e'])\n",
        "print(s, '\\n')\n",
        "\n",
        "print(s[0], s[3])"
      ]
    },
    {
      "cell_type": "code",
      "execution_count": null,
      "metadata": {
        "id": "of8o_1hj7CdW",
        "outputId": "7f52d863-dde1-4280-d1d8-c10bfcb944f0"
      },
      "outputs": [
        {
          "name": "stdout",
          "output_type": "stream",
          "text": [
            "a    0.658887\n",
            "b    0.786614\n",
            "dtype: float64 \n",
            "\n",
            "a    0.658887\n",
            "b    0.786614\n",
            "dtype: float64\n"
          ]
        }
      ],
      "source": [
        "print(s[s > 0.5], '\\n')\n",
        "print(s[s > s.mean()])"
      ]
    },
    {
      "cell_type": "markdown",
      "metadata": {
        "id": "EswHdq_17CdW"
      },
      "source": [
        "## 1.2 Zmiana wartości wybranych elementów"
      ]
    },
    {
      "cell_type": "code",
      "execution_count": null,
      "metadata": {
        "id": "YtNXuI4h7CdW",
        "outputId": "1d06b262-51b3-48fd-be89-a57f2a72ce46"
      },
      "outputs": [
        {
          "name": "stdout",
          "output_type": "stream",
          "text": [
            "a    0.350033\n",
            "b   -0.471139\n",
            "c   -0.461294\n",
            "i    1.322515\n",
            "e   -0.983739\n",
            "dtype: float64 \n",
            "\n",
            "stara wartosc: 0.35003295927739314\n",
            "nowa wartosc: 10.0 \n",
            "\n",
            "stara wartosc: -0.47113931749810284\n",
            "nowa wartosc: 15.0\n"
          ]
        }
      ],
      "source": [
        "s = Series(np.random.randn(5), index=['a', 'b', 'c', 'i', 'e'])\n",
        "print(s, '\\n')\n",
        "print(\"stara wartosc:\",  s[0])\n",
        "s[0] = 10. \n",
        "print(\"nowa wartosc:\",  s[0], '\\n')\n",
        "\n",
        "print(\"stara wartosc:\",  s['b'])\n",
        "s['b'] = 15. \n",
        "print(\"nowa wartosc:\",  s['b'])"
      ]
    },
    {
      "cell_type": "code",
      "execution_count": null,
      "metadata": {
        "id": "-9u6KvI07CdW",
        "outputId": "907f8b18-091c-4b50-ebc0-1d8b582aeeb8"
      },
      "outputs": [
        {
          "name": "stdout",
          "output_type": "stream",
          "text": [
            "stare:\n",
            " a    0.704046\n",
            "b   -0.885024\n",
            "c    0.156746\n",
            "i    1.339003\n",
            "e   -0.157302\n",
            "dtype: float64 \n",
            "\n",
            "nowe:\n",
            " a    0.704046\n",
            "b    1.000000\n",
            "c    1.000000\n",
            "i    1.339003\n",
            "e    1.000000\n",
            "dtype: float64\n"
          ]
        }
      ],
      "source": [
        "s = Series(np.random.randn(5), index=['a', 'b', 'c', 'i', 'e'])\n",
        "print(\"stare:\\n\",  s, '\\n')\n",
        "s[s < s.mean()] = 1\n",
        "print(\"nowe:\\n\",  s)"
      ]
    },
    {
      "cell_type": "markdown",
      "metadata": {
        "id": "PuuN3ato7CdX"
      },
      "source": [
        "## 1.5 Niezdefiniowane wartości, obiekty"
      ]
    },
    {
      "cell_type": "code",
      "execution_count": null,
      "metadata": {
        "id": "xX7ts3RA7CdX",
        "outputId": "7cd85976-26e7-4db3-815a-a4a49e6ec8eb"
      },
      "outputs": [
        {
          "name": "stdout",
          "output_type": "stream",
          "text": [
            "Chicago          1000.0\n",
            "New York         1300.0\n",
            "Portland          900.0\n",
            "San Francisco    1100.0\n",
            "Austin            450.0\n",
            "Boston              NaN\n",
            "dtype: float64 \n",
            "\n",
            "False\n",
            "True\n"
          ]
        }
      ],
      "source": [
        "cities = Series({'Chicago': 1000, 'New York': 1300, 'Portland': 900,\n",
        "                 'San Francisco': 1100, 'Austin': 450, 'Boston': None})\n",
        "print(cities, '\\n')\n",
        "\n",
        "print('Seattle' in cities)\n",
        "print('San Francisco' in cities)"
      ]
    },
    {
      "cell_type": "code",
      "execution_count": null,
      "metadata": {
        "id": "cGIYhm5B7CdX",
        "outputId": "f92cdcc2-03b7-4327-e9fb-c4cff7081002"
      },
      "outputs": [
        {
          "name": "stdout",
          "output_type": "stream",
          "text": [
            "Chicago          1000.0\n",
            "New York         1300.0\n",
            "Portland          900.0\n",
            "San Francisco    1100.0\n",
            "Austin            450.0\n",
            "Boston              NaN\n",
            "dtype: float64 \n",
            "\n",
            "Chicago           True\n",
            "New York          True\n",
            "Portland          True\n",
            "San Francisco     True\n",
            "Austin            True\n",
            "Boston           False\n",
            "dtype: bool\n"
          ]
        }
      ],
      "source": [
        "print(cities, '\\n')\n",
        "print(cities.notnull()) # które są zdefiniowane"
      ]
    },
    {
      "cell_type": "code",
      "execution_count": null,
      "metadata": {
        "id": "DJtQZQeq7CdX",
        "outputId": "8bbf89fb-e8f3-4bbf-fa2d-d8c8e99c4545"
      },
      "outputs": [
        {
          "name": "stdout",
          "output_type": "stream",
          "text": [
            "Chicago          False\n",
            "New York         False\n",
            "Portland         False\n",
            "San Francisco    False\n",
            "Austin           False\n",
            "Boston            True\n",
            "dtype: bool\n"
          ]
        }
      ],
      "source": [
        "print(cities.isnull()) # które nie są zdefiniowane"
      ]
    },
    {
      "cell_type": "code",
      "execution_count": null,
      "metadata": {
        "id": "_qRU4EER7CdX",
        "outputId": "522892a4-2783-49ad-fc95-c1995a7c9196"
      },
      "outputs": [
        {
          "name": "stdout",
          "output_type": "stream",
          "text": [
            "Boston   NaN\n",
            "dtype: float64\n",
            "\n",
            "Chicago          False\n",
            "New York         False\n",
            "Portland         False\n",
            "San Francisco    False\n",
            "Austin           False\n",
            "Boston           False\n",
            "dtype: bool\n",
            "\n",
            "Chicago          1000.0\n",
            "New York         1300.0\n",
            "Portland          900.0\n",
            "San Francisco    1100.0\n",
            "Austin            450.0\n",
            "Boston              1.0\n",
            "dtype: float64\n"
          ]
        }
      ],
      "source": [
        "print(cities[cities.isnull()]) # tylko te które nie są zdefiniowane \n",
        "cities[cities.isnull()] = 1\n",
        "print() \n",
        "print(cities.isnull())\n",
        "print()\n",
        "print(cities)"
      ]
    },
    {
      "cell_type": "markdown",
      "metadata": {
        "id": "UtAFwJfN7CdY"
      },
      "source": [
        "# 2. DataFrame\n",
        "\n",
        "<i>DataFrame</i> to struktura danych składa się z wierszy i kolumn, podobna do arkusza kalkulacyjnego, baz danych, tabeli 2-wymiarowej lub data.frame obiektu z języka R.\n",
        "\n",
        "Poniżej przedstawiam kilka sposobów definiowania struktury DataFrame:\n",
        "\n",
        "  * ze słownika list/tablic"
      ]
    },
    {
      "cell_type": "code",
      "execution_count": null,
      "metadata": {
        "id": "xs7EoAs67CdY",
        "outputId": "fb06bdf3-965a-4321-a055-eb04807f55d8"
      },
      "outputs": [
        {
          "name": "stdout",
          "output_type": "stream",
          "text": [
            "   one  two\n",
            "0  1.0  4.0\n",
            "1  2.0  3.0\n",
            "2  3.0  2.0\n",
            "3  4.0  1.0\n"
          ]
        },
        {
          "data": {
            "text/html": [
              "<div>\n",
              "<style scoped>\n",
              "    .dataframe tbody tr th:only-of-type {\n",
              "        vertical-align: middle;\n",
              "    }\n",
              "\n",
              "    .dataframe tbody tr th {\n",
              "        vertical-align: top;\n",
              "    }\n",
              "\n",
              "    .dataframe thead th {\n",
              "        text-align: right;\n",
              "    }\n",
              "</style>\n",
              "<table border=\"1\" class=\"dataframe\">\n",
              "  <thead>\n",
              "    <tr style=\"text-align: right;\">\n",
              "      <th></th>\n",
              "      <th>one</th>\n",
              "      <th>two</th>\n",
              "    </tr>\n",
              "  </thead>\n",
              "  <tbody>\n",
              "    <tr>\n",
              "      <th>0</th>\n",
              "      <td>1.0</td>\n",
              "      <td>4.0</td>\n",
              "    </tr>\n",
              "    <tr>\n",
              "      <th>1</th>\n",
              "      <td>2.0</td>\n",
              "      <td>3.0</td>\n",
              "    </tr>\n",
              "    <tr>\n",
              "      <th>2</th>\n",
              "      <td>3.0</td>\n",
              "      <td>2.0</td>\n",
              "    </tr>\n",
              "    <tr>\n",
              "      <th>3</th>\n",
              "      <td>4.0</td>\n",
              "      <td>1.0</td>\n",
              "    </tr>\n",
              "  </tbody>\n",
              "</table>\n",
              "</div>"
            ],
            "text/plain": [
              "   one  two\n",
              "0  1.0  4.0\n",
              "1  2.0  3.0\n",
              "2  3.0  2.0\n",
              "3  4.0  1.0"
            ]
          },
          "execution_count": 50,
          "metadata": {},
          "output_type": "execute_result"
        }
      ],
      "source": [
        "d = {'one' : [1., 2., 3., 4.],\n",
        "     'two' : [4., 3., 2., 1.]}\n",
        "print(DataFrame(d))\n",
        "DataFrame(d)"
      ]
    },
    {
      "cell_type": "code",
      "execution_count": null,
      "metadata": {
        "id": "-hh9pBNx7CdY",
        "outputId": "79355d39-20ee-4a69-d311-7704974e787b"
      },
      "outputs": [
        {
          "data": {
            "text/html": [
              "<div>\n",
              "<style scoped>\n",
              "    .dataframe tbody tr th:only-of-type {\n",
              "        vertical-align: middle;\n",
              "    }\n",
              "\n",
              "    .dataframe tbody tr th {\n",
              "        vertical-align: top;\n",
              "    }\n",
              "\n",
              "    .dataframe thead th {\n",
              "        text-align: right;\n",
              "    }\n",
              "</style>\n",
              "<table border=\"1\" class=\"dataframe\">\n",
              "  <thead>\n",
              "    <tr style=\"text-align: right;\">\n",
              "      <th></th>\n",
              "      <th>year</th>\n",
              "      <th>team</th>\n",
              "      <th>wins</th>\n",
              "      <th>losses</th>\n",
              "    </tr>\n",
              "  </thead>\n",
              "  <tbody>\n",
              "    <tr>\n",
              "      <th>0</th>\n",
              "      <td>2010</td>\n",
              "      <td>Bears</td>\n",
              "      <td>11</td>\n",
              "      <td>5</td>\n",
              "    </tr>\n",
              "    <tr>\n",
              "      <th>1</th>\n",
              "      <td>2011</td>\n",
              "      <td>Bears</td>\n",
              "      <td>8</td>\n",
              "      <td>8</td>\n",
              "    </tr>\n",
              "    <tr>\n",
              "      <th>2</th>\n",
              "      <td>2012</td>\n",
              "      <td>Bears</td>\n",
              "      <td>10</td>\n",
              "      <td>6</td>\n",
              "    </tr>\n",
              "    <tr>\n",
              "      <th>3</th>\n",
              "      <td>2011</td>\n",
              "      <td>Packers</td>\n",
              "      <td>15</td>\n",
              "      <td>1</td>\n",
              "    </tr>\n",
              "    <tr>\n",
              "      <th>4</th>\n",
              "      <td>2012</td>\n",
              "      <td>Packers</td>\n",
              "      <td>11</td>\n",
              "      <td>5</td>\n",
              "    </tr>\n",
              "    <tr>\n",
              "      <th>5</th>\n",
              "      <td>2010</td>\n",
              "      <td>Lions</td>\n",
              "      <td>6</td>\n",
              "      <td>10</td>\n",
              "    </tr>\n",
              "    <tr>\n",
              "      <th>6</th>\n",
              "      <td>2011</td>\n",
              "      <td>Lions</td>\n",
              "      <td>10</td>\n",
              "      <td>6</td>\n",
              "    </tr>\n",
              "    <tr>\n",
              "      <th>7</th>\n",
              "      <td>2012</td>\n",
              "      <td>Lions</td>\n",
              "      <td>4</td>\n",
              "      <td>12</td>\n",
              "    </tr>\n",
              "  </tbody>\n",
              "</table>\n",
              "</div>"
            ],
            "text/plain": [
              "   year     team  wins  losses\n",
              "0  2010    Bears    11       5\n",
              "1  2011    Bears     8       8\n",
              "2  2012    Bears    10       6\n",
              "3  2011  Packers    15       1\n",
              "4  2012  Packers    11       5\n",
              "5  2010    Lions     6      10\n",
              "6  2011    Lions    10       6\n",
              "7  2012    Lions     4      12"
            ]
          },
          "execution_count": 51,
          "metadata": {},
          "output_type": "execute_result"
        }
      ],
      "source": [
        "data = {'year': [2010, 2011, 2012, 2011, 2012, 2010, 2011, 2012],\n",
        "        'team': ['Bears', 'Bears', 'Bears', 'Packers', 'Packers', 'Lions', 'Lions', 'Lions'],\n",
        "        'wins': [11, 8, 10, 15, 11, 6, 10, 4],\n",
        "        'losses': [5, 8, 6, 1, 5, 10, 6, 12]}\n",
        "football = pd.DataFrame(data, columns=['year', 'team', 'wins', 'losses'])\n",
        "football"
      ]
    },
    {
      "cell_type": "markdown",
      "metadata": {
        "id": "J7rzbO127CdY"
      },
      "source": [
        "## 2.1 Podstawowe informacje\n",
        "Biblioteka pandas ma wiele funkcji, które dostarczają nam podstawowej informacji na DataFrame. Jedną z takich funkcji jest metoda **info**."
      ]
    },
    {
      "cell_type": "code",
      "execution_count": null,
      "metadata": {
        "id": "JZftZAex7CdY",
        "outputId": "bb0e1591-3a6a-46c5-bf79-37d65726aefc"
      },
      "outputs": [
        {
          "name": "stdout",
          "output_type": "stream",
          "text": [
            "<class 'pandas.core.frame.DataFrame'>\n",
            "RangeIndex: 2 entries, 0 to 1\n",
            "Data columns (total 3 columns):\n",
            "a    2 non-null int64\n",
            "b    2 non-null int64\n",
            "c    1 non-null float64\n",
            "dtypes: float64(1), int64(2)\n",
            "memory usage: 128.0 bytes\n"
          ]
        }
      ],
      "source": [
        "data = [{'a': 1, 'b': 2}, \n",
        "         {'a': 5, 'b': 10, 'c': 20}]\n",
        "df = DataFrame(data)\n",
        "\n",
        "df.info()"
      ]
    },
    {
      "cell_type": "markdown",
      "metadata": {
        "id": "gfC7CV4L7CdY"
      },
      "source": [
        "## 2.2 Wybieranie rekordów, kolumn, elementów\n",
        "\n",
        "Jak już wspomniałem strukturę DataFrame możemy traktować jako grupę/tablicę serii, które dzielą indeks (w tym przypadku nagłówki kolumn). Dzięki temu możemy w łatwy sposób wybrać konkretne rekordy."
      ]
    },
    {
      "cell_type": "code",
      "execution_count": null,
      "metadata": {
        "id": "XPaE8yIf7CdZ",
        "outputId": "708c926a-10e1-4c11-9fe8-afc6ea7b2d47"
      },
      "outputs": [
        {
          "name": "stdout",
          "output_type": "stream",
          "text": [
            "   year     team  wins  losses\n",
            "0  2010    Bears    11       5\n",
            "1  2011    Bears     8       8\n",
            "2  2012    Bears    10       6\n",
            "3  2011  Packers    15       1\n",
            "4  2012  Packers    11       5\n",
            "5  2010    Lions     6      10\n",
            "6  2011    Lions    10       6\n",
            "7  2012    Lions     4      12\n"
          ]
        },
        {
          "data": {
            "text/html": [
              "<div>\n",
              "<style scoped>\n",
              "    .dataframe tbody tr th:only-of-type {\n",
              "        vertical-align: middle;\n",
              "    }\n",
              "\n",
              "    .dataframe tbody tr th {\n",
              "        vertical-align: top;\n",
              "    }\n",
              "\n",
              "    .dataframe thead th {\n",
              "        text-align: right;\n",
              "    }\n",
              "</style>\n",
              "<table border=\"1\" class=\"dataframe\">\n",
              "  <thead>\n",
              "    <tr style=\"text-align: right;\">\n",
              "      <th></th>\n",
              "      <th>year</th>\n",
              "      <th>team</th>\n",
              "      <th>wins</th>\n",
              "      <th>losses</th>\n",
              "    </tr>\n",
              "  </thead>\n",
              "  <tbody>\n",
              "    <tr>\n",
              "      <th>0</th>\n",
              "      <td>2010</td>\n",
              "      <td>Bears</td>\n",
              "      <td>11</td>\n",
              "      <td>5</td>\n",
              "    </tr>\n",
              "    <tr>\n",
              "      <th>1</th>\n",
              "      <td>2011</td>\n",
              "      <td>Bears</td>\n",
              "      <td>8</td>\n",
              "      <td>8</td>\n",
              "    </tr>\n",
              "    <tr>\n",
              "      <th>2</th>\n",
              "      <td>2012</td>\n",
              "      <td>Bears</td>\n",
              "      <td>10</td>\n",
              "      <td>6</td>\n",
              "    </tr>\n",
              "  </tbody>\n",
              "</table>\n",
              "</div>"
            ],
            "text/plain": [
              "   year   team  wins  losses\n",
              "0  2010  Bears    11       5\n",
              "1  2011  Bears     8       8\n",
              "2  2012  Bears    10       6"
            ]
          },
          "execution_count": 53,
          "metadata": {},
          "output_type": "execute_result"
        }
      ],
      "source": [
        "data = {'year': [2010, 2011, 2012, 2011, 2012, 2010, 2011, 2012],\n",
        "        'team': ['Bears', 'Bears', 'Bears', 'Packers', 'Packers', 'Lions', 'Lions', 'Lions'],\n",
        "        'wins': [11, 8, 10, 15, 11, 6, 10, 4],\n",
        "        'losses': [5, 8, 6, 1, 5, 10, 6, 12]}\n",
        "football = pd.DataFrame(data, columns=['year', 'team', 'wins', 'losses'])\n",
        "print (football)\n",
        "\n",
        "football.head(3)"
      ]
    },
    {
      "cell_type": "code",
      "execution_count": null,
      "metadata": {
        "id": "1DCuIMLK7CdZ",
        "outputId": "94a29724-4ec0-403b-a12e-dd4ab70a5168"
      },
      "outputs": [
        {
          "data": {
            "text/plain": [
              "0    2010\n",
              "1    2011\n",
              "2    2012\n",
              "3    2011\n",
              "Name: year, dtype: int64"
            ]
          },
          "execution_count": 54,
          "metadata": {},
          "output_type": "execute_result"
        }
      ],
      "source": [
        "football['year'].head(4)"
      ]
    },
    {
      "cell_type": "code",
      "execution_count": null,
      "metadata": {
        "id": "eV4mc4XE7CdZ",
        "outputId": "a3b5f30d-6d47-4cdb-b7bc-0ecc7c0da778"
      },
      "outputs": [
        {
          "data": {
            "text/html": [
              "<div>\n",
              "<style scoped>\n",
              "    .dataframe tbody tr th:only-of-type {\n",
              "        vertical-align: middle;\n",
              "    }\n",
              "\n",
              "    .dataframe tbody tr th {\n",
              "        vertical-align: top;\n",
              "    }\n",
              "\n",
              "    .dataframe thead th {\n",
              "        text-align: right;\n",
              "    }\n",
              "</style>\n",
              "<table border=\"1\" class=\"dataframe\">\n",
              "  <thead>\n",
              "    <tr style=\"text-align: right;\">\n",
              "      <th></th>\n",
              "      <th>year</th>\n",
              "      <th>team</th>\n",
              "      <th>wins</th>\n",
              "      <th>losses</th>\n",
              "    </tr>\n",
              "  </thead>\n",
              "  <tbody>\n",
              "    <tr>\n",
              "      <th>5</th>\n",
              "      <td>2010</td>\n",
              "      <td>Lions</td>\n",
              "      <td>6</td>\n",
              "      <td>10</td>\n",
              "    </tr>\n",
              "    <tr>\n",
              "      <th>6</th>\n",
              "      <td>2011</td>\n",
              "      <td>Lions</td>\n",
              "      <td>10</td>\n",
              "      <td>6</td>\n",
              "    </tr>\n",
              "    <tr>\n",
              "      <th>7</th>\n",
              "      <td>2012</td>\n",
              "      <td>Lions</td>\n",
              "      <td>4</td>\n",
              "      <td>12</td>\n",
              "    </tr>\n",
              "  </tbody>\n",
              "</table>\n",
              "</div>"
            ],
            "text/plain": [
              "   year   team  wins  losses\n",
              "5  2010  Lions     6      10\n",
              "6  2011  Lions    10       6\n",
              "7  2012  Lions     4      12"
            ]
          },
          "execution_count": 55,
          "metadata": {},
          "output_type": "execute_result"
        }
      ],
      "source": [
        "football.tail(3)"
      ]
    },
    {
      "cell_type": "markdown",
      "metadata": {
        "id": "THEFBOFy7CdZ"
      },
      "source": [
        "Możemy też modyfikować DataFrame na podstawie wybranej kolumny."
      ]
    },
    {
      "cell_type": "code",
      "execution_count": null,
      "metadata": {
        "id": "jSY-sz1e7CdZ",
        "outputId": "2a864f2a-dbb8-4eaa-ff31-1a70c74ff6eb"
      },
      "outputs": [
        {
          "data": {
            "text/html": [
              "<div>\n",
              "<style scoped>\n",
              "    .dataframe tbody tr th:only-of-type {\n",
              "        vertical-align: middle;\n",
              "    }\n",
              "\n",
              "    .dataframe tbody tr th {\n",
              "        vertical-align: top;\n",
              "    }\n",
              "\n",
              "    .dataframe thead th {\n",
              "        text-align: right;\n",
              "    }\n",
              "</style>\n",
              "<table border=\"1\" class=\"dataframe\">\n",
              "  <thead>\n",
              "    <tr style=\"text-align: right;\">\n",
              "      <th></th>\n",
              "      <th>year</th>\n",
              "      <th>wins</th>\n",
              "      <th>losses</th>\n",
              "    </tr>\n",
              "    <tr>\n",
              "      <th>team</th>\n",
              "      <th></th>\n",
              "      <th></th>\n",
              "      <th></th>\n",
              "    </tr>\n",
              "  </thead>\n",
              "  <tbody>\n",
              "    <tr>\n",
              "      <th>Bears</th>\n",
              "      <td>2010</td>\n",
              "      <td>11</td>\n",
              "      <td>5</td>\n",
              "    </tr>\n",
              "    <tr>\n",
              "      <th>Bears</th>\n",
              "      <td>2011</td>\n",
              "      <td>8</td>\n",
              "      <td>8</td>\n",
              "    </tr>\n",
              "    <tr>\n",
              "      <th>Bears</th>\n",
              "      <td>2012</td>\n",
              "      <td>10</td>\n",
              "      <td>6</td>\n",
              "    </tr>\n",
              "    <tr>\n",
              "      <th>Packers</th>\n",
              "      <td>2011</td>\n",
              "      <td>15</td>\n",
              "      <td>1</td>\n",
              "    </tr>\n",
              "    <tr>\n",
              "      <th>Packers</th>\n",
              "      <td>2012</td>\n",
              "      <td>11</td>\n",
              "      <td>5</td>\n",
              "    </tr>\n",
              "    <tr>\n",
              "      <th>Lions</th>\n",
              "      <td>2010</td>\n",
              "      <td>6</td>\n",
              "      <td>10</td>\n",
              "    </tr>\n",
              "    <tr>\n",
              "      <th>Lions</th>\n",
              "      <td>2011</td>\n",
              "      <td>10</td>\n",
              "      <td>6</td>\n",
              "    </tr>\n",
              "    <tr>\n",
              "      <th>Lions</th>\n",
              "      <td>2012</td>\n",
              "      <td>4</td>\n",
              "      <td>12</td>\n",
              "    </tr>\n",
              "  </tbody>\n",
              "</table>\n",
              "</div>"
            ],
            "text/plain": [
              "         year  wins  losses\n",
              "team                       \n",
              "Bears    2010    11       5\n",
              "Bears    2011     8       8\n",
              "Bears    2012    10       6\n",
              "Packers  2011    15       1\n",
              "Packers  2012    11       5\n",
              "Lions    2010     6      10\n",
              "Lions    2011    10       6\n",
              "Lions    2012     4      12"
            ]
          },
          "execution_count": 56,
          "metadata": {},
          "output_type": "execute_result"
        }
      ],
      "source": [
        "football.set_index('team')"
      ]
    },
    {
      "cell_type": "markdown",
      "metadata": {
        "id": "z1W42Skh7Cda"
      },
      "source": [
        "Aby wybrać którąś z kolumn należy użyć jej nazwy:"
      ]
    },
    {
      "cell_type": "code",
      "execution_count": null,
      "metadata": {
        "id": "-1gxNv_b7Cda",
        "outputId": "a95fae3d-3bb9-41dc-cc60-d4a387b0641e"
      },
      "outputs": [
        {
          "data": {
            "text/plain": [
              "0    2010\n",
              "1    2011\n",
              "2    2012\n",
              "3    2011\n",
              "4    2012\n",
              "5    2010\n",
              "6    2011\n",
              "7    2012\n",
              "Name: year, dtype: int64"
            ]
          },
          "execution_count": 57,
          "metadata": {},
          "output_type": "execute_result"
        }
      ],
      "source": [
        "data = {'year': [2010, 2011, 2012, 2011, 2012, 2010, 2011, 2012],\n",
        "        'team': ['Bears', 'Bears', 'Bears', 'Packers', 'Packers', 'Lions', 'Lions', 'Lions'],\n",
        "        'wins': [11, 8, 10, 15, 11, 6, 10, 4],\n",
        "        'losses': [5, 8, 6, 1, 5, 10, 6, 12]}\n",
        "football = pd.DataFrame(data, columns=['year', 'team', 'wins', 'losses'])\n",
        "\n",
        "football['year'] # wybieramy kolumnę 'year'"
      ]
    },
    {
      "cell_type": "code",
      "execution_count": null,
      "metadata": {
        "id": "w9tQFg_H7Cda",
        "outputId": "79544f28-c099-4ad6-ede1-290e60076627"
      },
      "outputs": [
        {
          "data": {
            "text/plain": [
              "0    2010\n",
              "1    2011\n",
              "2    2012\n",
              "3    2011\n",
              "4    2012\n",
              "5    2010\n",
              "6    2011\n",
              "7    2012\n",
              "Name: year, dtype: int64"
            ]
          },
          "execution_count": 58,
          "metadata": {},
          "output_type": "execute_result"
        }
      ],
      "source": [
        "football.year"
      ]
    },
    {
      "cell_type": "code",
      "execution_count": null,
      "metadata": {
        "id": "QZAOB11B7Cda",
        "outputId": "82ecc0fd-a906-417d-d929-948dbb019302"
      },
      "outputs": [
        {
          "data": {
            "text/html": [
              "<div>\n",
              "<style scoped>\n",
              "    .dataframe tbody tr th:only-of-type {\n",
              "        vertical-align: middle;\n",
              "    }\n",
              "\n",
              "    .dataframe tbody tr th {\n",
              "        vertical-align: top;\n",
              "    }\n",
              "\n",
              "    .dataframe thead th {\n",
              "        text-align: right;\n",
              "    }\n",
              "</style>\n",
              "<table border=\"1\" class=\"dataframe\">\n",
              "  <thead>\n",
              "    <tr style=\"text-align: right;\">\n",
              "      <th></th>\n",
              "      <th>year</th>\n",
              "      <th>wins</th>\n",
              "    </tr>\n",
              "  </thead>\n",
              "  <tbody>\n",
              "    <tr>\n",
              "      <th>0</th>\n",
              "      <td>2010</td>\n",
              "      <td>11</td>\n",
              "    </tr>\n",
              "    <tr>\n",
              "      <th>1</th>\n",
              "      <td>2011</td>\n",
              "      <td>8</td>\n",
              "    </tr>\n",
              "    <tr>\n",
              "      <th>2</th>\n",
              "      <td>2012</td>\n",
              "      <td>10</td>\n",
              "    </tr>\n",
              "    <tr>\n",
              "      <th>3</th>\n",
              "      <td>2011</td>\n",
              "      <td>15</td>\n",
              "    </tr>\n",
              "    <tr>\n",
              "      <th>4</th>\n",
              "      <td>2012</td>\n",
              "      <td>11</td>\n",
              "    </tr>\n",
              "    <tr>\n",
              "      <th>5</th>\n",
              "      <td>2010</td>\n",
              "      <td>6</td>\n",
              "    </tr>\n",
              "    <tr>\n",
              "      <th>6</th>\n",
              "      <td>2011</td>\n",
              "      <td>10</td>\n",
              "    </tr>\n",
              "    <tr>\n",
              "      <th>7</th>\n",
              "      <td>2012</td>\n",
              "      <td>4</td>\n",
              "    </tr>\n",
              "  </tbody>\n",
              "</table>\n",
              "</div>"
            ],
            "text/plain": [
              "   year  wins\n",
              "0  2010    11\n",
              "1  2011     8\n",
              "2  2012    10\n",
              "3  2011    15\n",
              "4  2012    11\n",
              "5  2010     6\n",
              "6  2011    10\n",
              "7  2012     4"
            ]
          },
          "execution_count": 59,
          "metadata": {},
          "output_type": "execute_result"
        }
      ],
      "source": [
        "football[['year', 'wins']]"
      ]
    },
    {
      "cell_type": "markdown",
      "metadata": {
        "id": "FzpHMT-n7Cda"
      },
      "source": [
        "Do wybierania wierszy/obserwacji służy funkcja **loc** (indeksowanie oparte na etykietach) lub **iloc** (indeksowanie oparte na pozycji)."
      ]
    },
    {
      "cell_type": "code",
      "execution_count": null,
      "metadata": {
        "id": "-Z-hNsBH7Cda",
        "outputId": "0671feed-f0b2-425e-b5c8-c34576323e36"
      },
      "outputs": [
        {
          "data": {
            "text/plain": [
              "year       2010\n",
              "team      Bears\n",
              "wins         11\n",
              "losses        5\n",
              "Name: 0, dtype: object"
            ]
          },
          "execution_count": 60,
          "metadata": {},
          "output_type": "execute_result"
        }
      ],
      "source": [
        "football.loc[0]"
      ]
    },
    {
      "cell_type": "code",
      "execution_count": null,
      "metadata": {
        "id": "aS0TEARq7Cdb",
        "outputId": "cb5e228f-3d2f-42c8-f73a-4b201951d1d1"
      },
      "outputs": [
        {
          "data": {
            "text/html": [
              "<div>\n",
              "<style scoped>\n",
              "    .dataframe tbody tr th:only-of-type {\n",
              "        vertical-align: middle;\n",
              "    }\n",
              "\n",
              "    .dataframe tbody tr th {\n",
              "        vertical-align: top;\n",
              "    }\n",
              "\n",
              "    .dataframe thead th {\n",
              "        text-align: right;\n",
              "    }\n",
              "</style>\n",
              "<table border=\"1\" class=\"dataframe\">\n",
              "  <thead>\n",
              "    <tr style=\"text-align: right;\">\n",
              "      <th></th>\n",
              "      <th>year</th>\n",
              "      <th>team</th>\n",
              "      <th>wins</th>\n",
              "      <th>losses</th>\n",
              "    </tr>\n",
              "  </thead>\n",
              "  <tbody>\n",
              "    <tr>\n",
              "      <th>0</th>\n",
              "      <td>2010</td>\n",
              "      <td>Bears</td>\n",
              "      <td>11</td>\n",
              "      <td>5</td>\n",
              "    </tr>\n",
              "    <tr>\n",
              "      <th>3</th>\n",
              "      <td>2011</td>\n",
              "      <td>Packers</td>\n",
              "      <td>15</td>\n",
              "      <td>1</td>\n",
              "    </tr>\n",
              "  </tbody>\n",
              "</table>\n",
              "</div>"
            ],
            "text/plain": [
              "   year     team  wins  losses\n",
              "0  2010    Bears    11       5\n",
              "3  2011  Packers    15       1"
            ]
          },
          "execution_count": 61,
          "metadata": {},
          "output_type": "execute_result"
        }
      ],
      "source": [
        "football.loc[[0,3]]"
      ]
    },
    {
      "cell_type": "markdown",
      "metadata": {
        "id": "jQn4-cVP7Cdb"
      },
      "source": [
        "# 2.3 Podstawowe operacje na DataFrame"
      ]
    },
    {
      "cell_type": "code",
      "execution_count": null,
      "metadata": {
        "id": "9_5JLjGZ7Cdb",
        "outputId": "c4554267-dd35-4c3c-c7ef-60b1c22b755a"
      },
      "outputs": [
        {
          "data": {
            "text/html": [
              "<div>\n",
              "<style scoped>\n",
              "    .dataframe tbody tr th:only-of-type {\n",
              "        vertical-align: middle;\n",
              "    }\n",
              "\n",
              "    .dataframe tbody tr th {\n",
              "        vertical-align: top;\n",
              "    }\n",
              "\n",
              "    .dataframe thead th {\n",
              "        text-align: right;\n",
              "    }\n",
              "</style>\n",
              "<table border=\"1\" class=\"dataframe\">\n",
              "  <thead>\n",
              "    <tr style=\"text-align: right;\">\n",
              "      <th></th>\n",
              "      <th>year</th>\n",
              "      <th>team</th>\n",
              "      <th>wins</th>\n",
              "      <th>losses</th>\n",
              "    </tr>\n",
              "  </thead>\n",
              "  <tbody>\n",
              "    <tr>\n",
              "      <th>0</th>\n",
              "      <td>2010</td>\n",
              "      <td>Bears</td>\n",
              "      <td>11</td>\n",
              "      <td>5</td>\n",
              "    </tr>\n",
              "    <tr>\n",
              "      <th>3</th>\n",
              "      <td>2011</td>\n",
              "      <td>Packers</td>\n",
              "      <td>15</td>\n",
              "      <td>1</td>\n",
              "    </tr>\n",
              "    <tr>\n",
              "      <th>4</th>\n",
              "      <td>2012</td>\n",
              "      <td>Packers</td>\n",
              "      <td>11</td>\n",
              "      <td>5</td>\n",
              "    </tr>\n",
              "  </tbody>\n",
              "</table>\n",
              "</div>"
            ],
            "text/plain": [
              "   year     team  wins  losses\n",
              "0  2010    Bears    11       5\n",
              "3  2011  Packers    15       1\n",
              "4  2012  Packers    11       5"
            ]
          },
          "execution_count": 62,
          "metadata": {},
          "output_type": "execute_result"
        }
      ],
      "source": [
        "football[football.wins > 10]"
      ]
    },
    {
      "cell_type": "code",
      "execution_count": null,
      "metadata": {
        "id": "uq_nVVJG7Cdb",
        "outputId": "722282dc-71e7-4369-80d5-75ce794a078c"
      },
      "outputs": [
        {
          "data": {
            "text/plain": [
              "15"
            ]
          },
          "execution_count": 63,
          "metadata": {},
          "output_type": "execute_result"
        }
      ],
      "source": [
        "football['wins'].max()"
      ]
    },
    {
      "cell_type": "code",
      "execution_count": null,
      "metadata": {
        "id": "cSiVPFMc7Cdb",
        "outputId": "536ec84b-5454-44c0-f405-000bef65ff45"
      },
      "outputs": [
        {
          "data": {
            "text/plain": [
              "wins      9.375\n",
              "losses    6.625\n",
              "dtype: float64"
            ]
          },
          "execution_count": 64,
          "metadata": {},
          "output_type": "execute_result"
        }
      ],
      "source": [
        "football[['wins', 'losses']].mean()"
      ]
    },
    {
      "cell_type": "code",
      "execution_count": null,
      "metadata": {
        "id": "TkYP47PO7Cdc",
        "outputId": "458b6a1a-49fa-44d6-b4ea-0588b027d37b"
      },
      "outputs": [
        {
          "data": {
            "text/html": [
              "<div>\n",
              "<style scoped>\n",
              "    .dataframe tbody tr th:only-of-type {\n",
              "        vertical-align: middle;\n",
              "    }\n",
              "\n",
              "    .dataframe tbody tr th {\n",
              "        vertical-align: top;\n",
              "    }\n",
              "\n",
              "    .dataframe thead th {\n",
              "        text-align: right;\n",
              "    }\n",
              "</style>\n",
              "<table border=\"1\" class=\"dataframe\">\n",
              "  <thead>\n",
              "    <tr style=\"text-align: right;\">\n",
              "      <th></th>\n",
              "      <th>year</th>\n",
              "      <th>team</th>\n",
              "      <th>wins</th>\n",
              "      <th>losses</th>\n",
              "    </tr>\n",
              "  </thead>\n",
              "  <tbody>\n",
              "    <tr>\n",
              "      <th>0</th>\n",
              "      <td>2010</td>\n",
              "      <td>Bears</td>\n",
              "      <td>0</td>\n",
              "      <td>5</td>\n",
              "    </tr>\n",
              "    <tr>\n",
              "      <th>1</th>\n",
              "      <td>2011</td>\n",
              "      <td>Bears</td>\n",
              "      <td>0</td>\n",
              "      <td>8</td>\n",
              "    </tr>\n",
              "    <tr>\n",
              "      <th>2</th>\n",
              "      <td>2012</td>\n",
              "      <td>Bears</td>\n",
              "      <td>0</td>\n",
              "      <td>6</td>\n",
              "    </tr>\n",
              "    <tr>\n",
              "      <th>3</th>\n",
              "      <td>2011</td>\n",
              "      <td>Packers</td>\n",
              "      <td>0</td>\n",
              "      <td>1</td>\n",
              "    </tr>\n",
              "    <tr>\n",
              "      <th>4</th>\n",
              "      <td>2012</td>\n",
              "      <td>Packers</td>\n",
              "      <td>0</td>\n",
              "      <td>5</td>\n",
              "    </tr>\n",
              "    <tr>\n",
              "      <th>5</th>\n",
              "      <td>2010</td>\n",
              "      <td>Lions</td>\n",
              "      <td>0</td>\n",
              "      <td>0</td>\n",
              "    </tr>\n",
              "    <tr>\n",
              "      <th>6</th>\n",
              "      <td>2011</td>\n",
              "      <td>Lions</td>\n",
              "      <td>0</td>\n",
              "      <td>6</td>\n",
              "    </tr>\n",
              "    <tr>\n",
              "      <th>7</th>\n",
              "      <td>2012</td>\n",
              "      <td>Lions</td>\n",
              "      <td>0</td>\n",
              "      <td>12</td>\n",
              "    </tr>\n",
              "  </tbody>\n",
              "</table>\n",
              "</div>"
            ],
            "text/plain": [
              "   year     team  wins  losses\n",
              "0  2010    Bears     0       5\n",
              "1  2011    Bears     0       8\n",
              "2  2012    Bears     0       6\n",
              "3  2011  Packers     0       1\n",
              "4  2012  Packers     0       5\n",
              "5  2010    Lions     0       0\n",
              "6  2011    Lions     0       6\n",
              "7  2012    Lions     0      12"
            ]
          },
          "execution_count": 65,
          "metadata": {},
          "output_type": "execute_result"
        }
      ],
      "source": [
        "football['wins'] = 0\n",
        "football.at[5, 'losses'] = 0\n",
        "football"
      ]
    },
    {
      "cell_type": "markdown",
      "metadata": {
        "id": "fMpIK2U07Cdc"
      },
      "source": [
        "## 2.6 Importowanie i eksportowanie danych\n",
        "\n",
        "  * eksport to CSV:"
      ]
    },
    {
      "cell_type": "code",
      "execution_count": null,
      "metadata": {
        "id": "gWX6UfgB7Cdc"
      },
      "outputs": [],
      "source": [
        "data = {'year': [2010, 2011, 2012, 2011, 2012, 2010, 2011, 2012],\n",
        "        'team': ['Bears', 'Bears', 'Bears', 'Packers', 'Packers', 'Lions', 'Lions', 'Lions'],\n",
        "        'wins': [11, 8, 10, 15, 11, 6, 10, 4],\n",
        "        'losses': [5, 8, 6, 1, 5, 10, 6, 12]}\n",
        "football = pd.DataFrame(data, columns=['year', 'team', 'wins', 'losses'])\n",
        "\n",
        "football.to_csv('dane.csv', index=False)"
      ]
    },
    {
      "cell_type": "markdown",
      "metadata": {
        "id": "m-LXjdXi7Cdc"
      },
      "source": [
        "  * import z CSV:"
      ]
    },
    {
      "cell_type": "code",
      "execution_count": null,
      "metadata": {
        "id": "VaI4oVdm7Cdc",
        "outputId": "b3cdae42-f7cf-4097-d5d3-f18e0480ab8d",
        "colab": {
          "base_uri": "https://localhost:8080/",
          "height": 300
        }
      },
      "outputs": [
        {
          "output_type": "execute_result",
          "data": {
            "text/plain": [
              "   year     team  wins  losses\n",
              "0  2010    Bears    11       5\n",
              "1  2011    Bears     8       8\n",
              "2  2012    Bears    10       6\n",
              "3  2011  Packers    15       1\n",
              "4  2012  Packers    11       5\n",
              "5  2010    Lions     6      10\n",
              "6  2011    Lions    10       6\n",
              "7  2012    Lions     4      12"
            ],
            "text/html": [
              "\n",
              "  <div id=\"df-e92b36fe-3e23-4d81-9a6b-f805c711e6fd\">\n",
              "    <div class=\"colab-df-container\">\n",
              "      <div>\n",
              "<style scoped>\n",
              "    .dataframe tbody tr th:only-of-type {\n",
              "        vertical-align: middle;\n",
              "    }\n",
              "\n",
              "    .dataframe tbody tr th {\n",
              "        vertical-align: top;\n",
              "    }\n",
              "\n",
              "    .dataframe thead th {\n",
              "        text-align: right;\n",
              "    }\n",
              "</style>\n",
              "<table border=\"1\" class=\"dataframe\">\n",
              "  <thead>\n",
              "    <tr style=\"text-align: right;\">\n",
              "      <th></th>\n",
              "      <th>year</th>\n",
              "      <th>team</th>\n",
              "      <th>wins</th>\n",
              "      <th>losses</th>\n",
              "    </tr>\n",
              "  </thead>\n",
              "  <tbody>\n",
              "    <tr>\n",
              "      <th>0</th>\n",
              "      <td>2010</td>\n",
              "      <td>Bears</td>\n",
              "      <td>11</td>\n",
              "      <td>5</td>\n",
              "    </tr>\n",
              "    <tr>\n",
              "      <th>1</th>\n",
              "      <td>2011</td>\n",
              "      <td>Bears</td>\n",
              "      <td>8</td>\n",
              "      <td>8</td>\n",
              "    </tr>\n",
              "    <tr>\n",
              "      <th>2</th>\n",
              "      <td>2012</td>\n",
              "      <td>Bears</td>\n",
              "      <td>10</td>\n",
              "      <td>6</td>\n",
              "    </tr>\n",
              "    <tr>\n",
              "      <th>3</th>\n",
              "      <td>2011</td>\n",
              "      <td>Packers</td>\n",
              "      <td>15</td>\n",
              "      <td>1</td>\n",
              "    </tr>\n",
              "    <tr>\n",
              "      <th>4</th>\n",
              "      <td>2012</td>\n",
              "      <td>Packers</td>\n",
              "      <td>11</td>\n",
              "      <td>5</td>\n",
              "    </tr>\n",
              "    <tr>\n",
              "      <th>5</th>\n",
              "      <td>2010</td>\n",
              "      <td>Lions</td>\n",
              "      <td>6</td>\n",
              "      <td>10</td>\n",
              "    </tr>\n",
              "    <tr>\n",
              "      <th>6</th>\n",
              "      <td>2011</td>\n",
              "      <td>Lions</td>\n",
              "      <td>10</td>\n",
              "      <td>6</td>\n",
              "    </tr>\n",
              "    <tr>\n",
              "      <th>7</th>\n",
              "      <td>2012</td>\n",
              "      <td>Lions</td>\n",
              "      <td>4</td>\n",
              "      <td>12</td>\n",
              "    </tr>\n",
              "  </tbody>\n",
              "</table>\n",
              "</div>\n",
              "      <button class=\"colab-df-convert\" onclick=\"convertToInteractive('df-e92b36fe-3e23-4d81-9a6b-f805c711e6fd')\"\n",
              "              title=\"Convert this dataframe to an interactive table.\"\n",
              "              style=\"display:none;\">\n",
              "        \n",
              "  <svg xmlns=\"http://www.w3.org/2000/svg\" height=\"24px\"viewBox=\"0 0 24 24\"\n",
              "       width=\"24px\">\n",
              "    <path d=\"M0 0h24v24H0V0z\" fill=\"none\"/>\n",
              "    <path d=\"M18.56 5.44l.94 2.06.94-2.06 2.06-.94-2.06-.94-.94-2.06-.94 2.06-2.06.94zm-11 1L8.5 8.5l.94-2.06 2.06-.94-2.06-.94L8.5 2.5l-.94 2.06-2.06.94zm10 10l.94 2.06.94-2.06 2.06-.94-2.06-.94-.94-2.06-.94 2.06-2.06.94z\"/><path d=\"M17.41 7.96l-1.37-1.37c-.4-.4-.92-.59-1.43-.59-.52 0-1.04.2-1.43.59L10.3 9.45l-7.72 7.72c-.78.78-.78 2.05 0 2.83L4 21.41c.39.39.9.59 1.41.59.51 0 1.02-.2 1.41-.59l7.78-7.78 2.81-2.81c.8-.78.8-2.07 0-2.86zM5.41 20L4 18.59l7.72-7.72 1.47 1.35L5.41 20z\"/>\n",
              "  </svg>\n",
              "      </button>\n",
              "      \n",
              "  <style>\n",
              "    .colab-df-container {\n",
              "      display:flex;\n",
              "      flex-wrap:wrap;\n",
              "      gap: 12px;\n",
              "    }\n",
              "\n",
              "    .colab-df-convert {\n",
              "      background-color: #E8F0FE;\n",
              "      border: none;\n",
              "      border-radius: 50%;\n",
              "      cursor: pointer;\n",
              "      display: none;\n",
              "      fill: #1967D2;\n",
              "      height: 32px;\n",
              "      padding: 0 0 0 0;\n",
              "      width: 32px;\n",
              "    }\n",
              "\n",
              "    .colab-df-convert:hover {\n",
              "      background-color: #E2EBFA;\n",
              "      box-shadow: 0px 1px 2px rgba(60, 64, 67, 0.3), 0px 1px 3px 1px rgba(60, 64, 67, 0.15);\n",
              "      fill: #174EA6;\n",
              "    }\n",
              "\n",
              "    [theme=dark] .colab-df-convert {\n",
              "      background-color: #3B4455;\n",
              "      fill: #D2E3FC;\n",
              "    }\n",
              "\n",
              "    [theme=dark] .colab-df-convert:hover {\n",
              "      background-color: #434B5C;\n",
              "      box-shadow: 0px 1px 3px 1px rgba(0, 0, 0, 0.15);\n",
              "      filter: drop-shadow(0px 1px 2px rgba(0, 0, 0, 0.3));\n",
              "      fill: #FFFFFF;\n",
              "    }\n",
              "  </style>\n",
              "\n",
              "      <script>\n",
              "        const buttonEl =\n",
              "          document.querySelector('#df-e92b36fe-3e23-4d81-9a6b-f805c711e6fd button.colab-df-convert');\n",
              "        buttonEl.style.display =\n",
              "          google.colab.kernel.accessAllowed ? 'block' : 'none';\n",
              "\n",
              "        async function convertToInteractive(key) {\n",
              "          const element = document.querySelector('#df-e92b36fe-3e23-4d81-9a6b-f805c711e6fd');\n",
              "          const dataTable =\n",
              "            await google.colab.kernel.invokeFunction('convertToInteractive',\n",
              "                                                     [key], {});\n",
              "          if (!dataTable) return;\n",
              "\n",
              "          const docLinkHtml = 'Like what you see? Visit the ' +\n",
              "            '<a target=\"_blank\" href=https://colab.research.google.com/notebooks/data_table.ipynb>data table notebook</a>'\n",
              "            + ' to learn more about interactive tables.';\n",
              "          element.innerHTML = '';\n",
              "          dataTable['output_type'] = 'display_data';\n",
              "          await google.colab.output.renderOutput(dataTable, element);\n",
              "          const docLink = document.createElement('div');\n",
              "          docLink.innerHTML = docLinkHtml;\n",
              "          element.appendChild(docLink);\n",
              "        }\n",
              "      </script>\n",
              "    </div>\n",
              "  </div>\n",
              "  "
            ]
          },
          "metadata": {},
          "execution_count": 24
        }
      ],
      "source": [
        "pd.read_csv('dane.csv')"
      ]
    },
    {
      "cell_type": "markdown",
      "metadata": {
        "id": "ijyEq0_c7Cdd"
      },
      "source": [
        "Więcej informacji na temat biblioteki pandas można znaleźć tutaj: [http://pandas.pydata.org]"
      ]
    },
    {
      "cell_type": "code",
      "source": [],
      "metadata": {
        "id": "RxxCwD1H0gWc"
      },
      "execution_count": null,
      "outputs": []
    },
    {
      "cell_type": "markdown",
      "metadata": {
        "id": "_zAGNbJZ7Cdd"
      },
      "source": [
        "# Zadanie 5\n",
        "\n",
        "Zaimportuj dane z pliku ,,airports.csv'' i wykonaj na nich poniższe polecenia:\n",
        "\n",
        "  * wybierz nazwy państw ostatnich 12 lotnisk w tabeli,\n",
        "  * wybierz wiersz o indeksie 1 korzystając z indeksera .loc oraz .iloc (porównaj otrzymane wyniki),\n",
        "  * wybierz wszystkie lotniska w Polsce,\n",
        "  * wybierz wszystkie lotniska, których nazwa różni się od nazwy miasta, w którym się znajdują.\n",
        "  * przelicz wartości wysokości na metry i zapisz zmodyfikowaną kolumnę w miejsce starej (w naszej tabeli wysokość jest podana w   * stopach nad poziomem morza; jedna stopa angielska równa się 30,48 cm),\n",
        "  * znajdź wszystkie państwa, w których znajduje się wyłącznie 1 lotnisko (zobacz procedurę .unique())."
      ]
    },
    {
      "cell_type": "code",
      "execution_count": 54,
      "metadata": {
        "id": "yyLw3xNT7Cdd",
        "outputId": "85549a06-c56c-43ea-bb08-18a93a6635b7",
        "colab": {
          "base_uri": "https://localhost:8080/",
          "height": 423
        }
      },
      "outputs": [
        {
          "output_type": "execute_result",
          "data": {
            "text/plain": [
              "        0                                  1                2   \\\n",
              "0        1                             Goroka           Goroka   \n",
              "1        2                             Madang           Madang   \n",
              "2        3                        Mount Hagen      Mount Hagen   \n",
              "3        4                             Nadzab           Nadzab   \n",
              "4        5         Port Moresby Jacksons Intl     Port Moresby   \n",
              "...    ...                                ...              ...   \n",
              "8102  9537    Mansons Landing Water Aerodrome  Mansons Landing   \n",
              "8103  9538               Port McNeill Airport     Port McNeill   \n",
              "8104  9539       Sullivan Bay Water Aerodrome     Sullivan Bay   \n",
              "8105  9540               Deer Harbor Seaplane      Deer Harbor   \n",
              "8106  9541  San Diego Old Town Transit Center        San Diego   \n",
              "\n",
              "                    3    4     5          6           7     8     9  10  \\\n",
              "0     Papua New Guinea  GKA  AYGA  -6.081689  145.391881  5282  10.0  U   \n",
              "1     Papua New Guinea  MAG  AYMD  -5.207083  145.788700    20  10.0  U   \n",
              "2     Papua New Guinea  HGU  AYMH  -5.826789  144.295861  5388  10.0  U   \n",
              "3     Papua New Guinea  LAE  AYNZ  -6.569828  146.726242   239  10.0  U   \n",
              "4     Papua New Guinea  POM  AYPY  -9.443383  147.220050   146  10.0  U   \n",
              "...                ...  ...   ...        ...         ...   ...   ... ..   \n",
              "8102            Canada  YMU    \\N  50.066667 -124.983333     0  -8.0  A   \n",
              "8103            Canada  YMP    \\N  50.575556 -127.028611   225  -8.0  A   \n",
              "8104            Canada  YTG    \\N  50.883333 -126.833333     0  -8.0  A   \n",
              "8105     United States  DHB    \\N  48.618397 -123.005960     0  -8.0  A   \n",
              "8106     United States  OLT    \\N  32.755200 -117.199500     0  -8.0  A   \n",
              "\n",
              "                        11  \n",
              "0     Pacific/Port_Moresby  \n",
              "1     Pacific/Port_Moresby  \n",
              "2     Pacific/Port_Moresby  \n",
              "3     Pacific/Port_Moresby  \n",
              "4     Pacific/Port_Moresby  \n",
              "...                    ...  \n",
              "8102     America/Vancouver  \n",
              "8103     America/Vancouver  \n",
              "8104     America/Vancouver  \n",
              "8105   America/Los_Angeles  \n",
              "8106   America/Los_Angeles  \n",
              "\n",
              "[8107 rows x 12 columns]"
            ],
            "text/html": [
              "\n",
              "  <div id=\"df-efc96de1-23a1-4964-b56b-9266449ed24f\">\n",
              "    <div class=\"colab-df-container\">\n",
              "      <div>\n",
              "<style scoped>\n",
              "    .dataframe tbody tr th:only-of-type {\n",
              "        vertical-align: middle;\n",
              "    }\n",
              "\n",
              "    .dataframe tbody tr th {\n",
              "        vertical-align: top;\n",
              "    }\n",
              "\n",
              "    .dataframe thead th {\n",
              "        text-align: right;\n",
              "    }\n",
              "</style>\n",
              "<table border=\"1\" class=\"dataframe\">\n",
              "  <thead>\n",
              "    <tr style=\"text-align: right;\">\n",
              "      <th></th>\n",
              "      <th>0</th>\n",
              "      <th>1</th>\n",
              "      <th>2</th>\n",
              "      <th>3</th>\n",
              "      <th>4</th>\n",
              "      <th>5</th>\n",
              "      <th>6</th>\n",
              "      <th>7</th>\n",
              "      <th>8</th>\n",
              "      <th>9</th>\n",
              "      <th>10</th>\n",
              "      <th>11</th>\n",
              "    </tr>\n",
              "  </thead>\n",
              "  <tbody>\n",
              "    <tr>\n",
              "      <th>0</th>\n",
              "      <td>1</td>\n",
              "      <td>Goroka</td>\n",
              "      <td>Goroka</td>\n",
              "      <td>Papua New Guinea</td>\n",
              "      <td>GKA</td>\n",
              "      <td>AYGA</td>\n",
              "      <td>-6.081689</td>\n",
              "      <td>145.391881</td>\n",
              "      <td>5282</td>\n",
              "      <td>10.0</td>\n",
              "      <td>U</td>\n",
              "      <td>Pacific/Port_Moresby</td>\n",
              "    </tr>\n",
              "    <tr>\n",
              "      <th>1</th>\n",
              "      <td>2</td>\n",
              "      <td>Madang</td>\n",
              "      <td>Madang</td>\n",
              "      <td>Papua New Guinea</td>\n",
              "      <td>MAG</td>\n",
              "      <td>AYMD</td>\n",
              "      <td>-5.207083</td>\n",
              "      <td>145.788700</td>\n",
              "      <td>20</td>\n",
              "      <td>10.0</td>\n",
              "      <td>U</td>\n",
              "      <td>Pacific/Port_Moresby</td>\n",
              "    </tr>\n",
              "    <tr>\n",
              "      <th>2</th>\n",
              "      <td>3</td>\n",
              "      <td>Mount Hagen</td>\n",
              "      <td>Mount Hagen</td>\n",
              "      <td>Papua New Guinea</td>\n",
              "      <td>HGU</td>\n",
              "      <td>AYMH</td>\n",
              "      <td>-5.826789</td>\n",
              "      <td>144.295861</td>\n",
              "      <td>5388</td>\n",
              "      <td>10.0</td>\n",
              "      <td>U</td>\n",
              "      <td>Pacific/Port_Moresby</td>\n",
              "    </tr>\n",
              "    <tr>\n",
              "      <th>3</th>\n",
              "      <td>4</td>\n",
              "      <td>Nadzab</td>\n",
              "      <td>Nadzab</td>\n",
              "      <td>Papua New Guinea</td>\n",
              "      <td>LAE</td>\n",
              "      <td>AYNZ</td>\n",
              "      <td>-6.569828</td>\n",
              "      <td>146.726242</td>\n",
              "      <td>239</td>\n",
              "      <td>10.0</td>\n",
              "      <td>U</td>\n",
              "      <td>Pacific/Port_Moresby</td>\n",
              "    </tr>\n",
              "    <tr>\n",
              "      <th>4</th>\n",
              "      <td>5</td>\n",
              "      <td>Port Moresby Jacksons Intl</td>\n",
              "      <td>Port Moresby</td>\n",
              "      <td>Papua New Guinea</td>\n",
              "      <td>POM</td>\n",
              "      <td>AYPY</td>\n",
              "      <td>-9.443383</td>\n",
              "      <td>147.220050</td>\n",
              "      <td>146</td>\n",
              "      <td>10.0</td>\n",
              "      <td>U</td>\n",
              "      <td>Pacific/Port_Moresby</td>\n",
              "    </tr>\n",
              "    <tr>\n",
              "      <th>...</th>\n",
              "      <td>...</td>\n",
              "      <td>...</td>\n",
              "      <td>...</td>\n",
              "      <td>...</td>\n",
              "      <td>...</td>\n",
              "      <td>...</td>\n",
              "      <td>...</td>\n",
              "      <td>...</td>\n",
              "      <td>...</td>\n",
              "      <td>...</td>\n",
              "      <td>...</td>\n",
              "      <td>...</td>\n",
              "    </tr>\n",
              "    <tr>\n",
              "      <th>8102</th>\n",
              "      <td>9537</td>\n",
              "      <td>Mansons Landing Water Aerodrome</td>\n",
              "      <td>Mansons Landing</td>\n",
              "      <td>Canada</td>\n",
              "      <td>YMU</td>\n",
              "      <td>\\N</td>\n",
              "      <td>50.066667</td>\n",
              "      <td>-124.983333</td>\n",
              "      <td>0</td>\n",
              "      <td>-8.0</td>\n",
              "      <td>A</td>\n",
              "      <td>America/Vancouver</td>\n",
              "    </tr>\n",
              "    <tr>\n",
              "      <th>8103</th>\n",
              "      <td>9538</td>\n",
              "      <td>Port McNeill Airport</td>\n",
              "      <td>Port McNeill</td>\n",
              "      <td>Canada</td>\n",
              "      <td>YMP</td>\n",
              "      <td>\\N</td>\n",
              "      <td>50.575556</td>\n",
              "      <td>-127.028611</td>\n",
              "      <td>225</td>\n",
              "      <td>-8.0</td>\n",
              "      <td>A</td>\n",
              "      <td>America/Vancouver</td>\n",
              "    </tr>\n",
              "    <tr>\n",
              "      <th>8104</th>\n",
              "      <td>9539</td>\n",
              "      <td>Sullivan Bay Water Aerodrome</td>\n",
              "      <td>Sullivan Bay</td>\n",
              "      <td>Canada</td>\n",
              "      <td>YTG</td>\n",
              "      <td>\\N</td>\n",
              "      <td>50.883333</td>\n",
              "      <td>-126.833333</td>\n",
              "      <td>0</td>\n",
              "      <td>-8.0</td>\n",
              "      <td>A</td>\n",
              "      <td>America/Vancouver</td>\n",
              "    </tr>\n",
              "    <tr>\n",
              "      <th>8105</th>\n",
              "      <td>9540</td>\n",
              "      <td>Deer Harbor Seaplane</td>\n",
              "      <td>Deer Harbor</td>\n",
              "      <td>United States</td>\n",
              "      <td>DHB</td>\n",
              "      <td>\\N</td>\n",
              "      <td>48.618397</td>\n",
              "      <td>-123.005960</td>\n",
              "      <td>0</td>\n",
              "      <td>-8.0</td>\n",
              "      <td>A</td>\n",
              "      <td>America/Los_Angeles</td>\n",
              "    </tr>\n",
              "    <tr>\n",
              "      <th>8106</th>\n",
              "      <td>9541</td>\n",
              "      <td>San Diego Old Town Transit Center</td>\n",
              "      <td>San Diego</td>\n",
              "      <td>United States</td>\n",
              "      <td>OLT</td>\n",
              "      <td>\\N</td>\n",
              "      <td>32.755200</td>\n",
              "      <td>-117.199500</td>\n",
              "      <td>0</td>\n",
              "      <td>-8.0</td>\n",
              "      <td>A</td>\n",
              "      <td>America/Los_Angeles</td>\n",
              "    </tr>\n",
              "  </tbody>\n",
              "</table>\n",
              "<p>8107 rows × 12 columns</p>\n",
              "</div>\n",
              "      <button class=\"colab-df-convert\" onclick=\"convertToInteractive('df-efc96de1-23a1-4964-b56b-9266449ed24f')\"\n",
              "              title=\"Convert this dataframe to an interactive table.\"\n",
              "              style=\"display:none;\">\n",
              "        \n",
              "  <svg xmlns=\"http://www.w3.org/2000/svg\" height=\"24px\"viewBox=\"0 0 24 24\"\n",
              "       width=\"24px\">\n",
              "    <path d=\"M0 0h24v24H0V0z\" fill=\"none\"/>\n",
              "    <path d=\"M18.56 5.44l.94 2.06.94-2.06 2.06-.94-2.06-.94-.94-2.06-.94 2.06-2.06.94zm-11 1L8.5 8.5l.94-2.06 2.06-.94-2.06-.94L8.5 2.5l-.94 2.06-2.06.94zm10 10l.94 2.06.94-2.06 2.06-.94-2.06-.94-.94-2.06-.94 2.06-2.06.94z\"/><path d=\"M17.41 7.96l-1.37-1.37c-.4-.4-.92-.59-1.43-.59-.52 0-1.04.2-1.43.59L10.3 9.45l-7.72 7.72c-.78.78-.78 2.05 0 2.83L4 21.41c.39.39.9.59 1.41.59.51 0 1.02-.2 1.41-.59l7.78-7.78 2.81-2.81c.8-.78.8-2.07 0-2.86zM5.41 20L4 18.59l7.72-7.72 1.47 1.35L5.41 20z\"/>\n",
              "  </svg>\n",
              "      </button>\n",
              "      \n",
              "  <style>\n",
              "    .colab-df-container {\n",
              "      display:flex;\n",
              "      flex-wrap:wrap;\n",
              "      gap: 12px;\n",
              "    }\n",
              "\n",
              "    .colab-df-convert {\n",
              "      background-color: #E8F0FE;\n",
              "      border: none;\n",
              "      border-radius: 50%;\n",
              "      cursor: pointer;\n",
              "      display: none;\n",
              "      fill: #1967D2;\n",
              "      height: 32px;\n",
              "      padding: 0 0 0 0;\n",
              "      width: 32px;\n",
              "    }\n",
              "\n",
              "    .colab-df-convert:hover {\n",
              "      background-color: #E2EBFA;\n",
              "      box-shadow: 0px 1px 2px rgba(60, 64, 67, 0.3), 0px 1px 3px 1px rgba(60, 64, 67, 0.15);\n",
              "      fill: #174EA6;\n",
              "    }\n",
              "\n",
              "    [theme=dark] .colab-df-convert {\n",
              "      background-color: #3B4455;\n",
              "      fill: #D2E3FC;\n",
              "    }\n",
              "\n",
              "    [theme=dark] .colab-df-convert:hover {\n",
              "      background-color: #434B5C;\n",
              "      box-shadow: 0px 1px 3px 1px rgba(0, 0, 0, 0.15);\n",
              "      filter: drop-shadow(0px 1px 2px rgba(0, 0, 0, 0.3));\n",
              "      fill: #FFFFFF;\n",
              "    }\n",
              "  </style>\n",
              "\n",
              "      <script>\n",
              "        const buttonEl =\n",
              "          document.querySelector('#df-efc96de1-23a1-4964-b56b-9266449ed24f button.colab-df-convert');\n",
              "        buttonEl.style.display =\n",
              "          google.colab.kernel.accessAllowed ? 'block' : 'none';\n",
              "\n",
              "        async function convertToInteractive(key) {\n",
              "          const element = document.querySelector('#df-efc96de1-23a1-4964-b56b-9266449ed24f');\n",
              "          const dataTable =\n",
              "            await google.colab.kernel.invokeFunction('convertToInteractive',\n",
              "                                                     [key], {});\n",
              "          if (!dataTable) return;\n",
              "\n",
              "          const docLinkHtml = 'Like what you see? Visit the ' +\n",
              "            '<a target=\"_blank\" href=https://colab.research.google.com/notebooks/data_table.ipynb>data table notebook</a>'\n",
              "            + ' to learn more about interactive tables.';\n",
              "          element.innerHTML = '';\n",
              "          dataTable['output_type'] = 'display_data';\n",
              "          await google.colab.output.renderOutput(dataTable, element);\n",
              "          const docLink = document.createElement('div');\n",
              "          docLink.innerHTML = docLinkHtml;\n",
              "          element.appendChild(docLink);\n",
              "        }\n",
              "      </script>\n",
              "    </div>\n",
              "  </div>\n",
              "  "
            ]
          },
          "metadata": {},
          "execution_count": 54
        }
      ],
      "source": [
        "df=pd.read_csv('https://raw.githubusercontent.com/przem85/podstawy_sztucznej_inteligencji/main/data/airports.csv', header=None)\n",
        "df"
      ]
    },
    {
      "cell_type": "code",
      "execution_count": 61,
      "metadata": {
        "id": "8_JV_vWA7Cdd",
        "colab": {
          "base_uri": "https://localhost:8080/"
        },
        "outputId": "fb15bc19-c0ff-4111-e73b-eebe569ca103"
      },
      "outputs": [
        {
          "output_type": "stream",
          "name": "stdout",
          "text": [
            "8095         Cambodia\n",
            "8096           Taiwan\n",
            "8097        Australia\n",
            "8098    United States\n",
            "8099            Spain\n",
            "8100           Canada\n",
            "8101           Canada\n",
            "8102           Canada\n",
            "8103           Canada\n",
            "8104           Canada\n",
            "8105    United States\n",
            "8106    United States\n",
            "Name: 3, dtype: object\n",
            "0                        2\n",
            "1                   Madang\n",
            "2                   Madang\n",
            "3         Papua New Guinea\n",
            "4                      MAG\n",
            "5                     AYMD\n",
            "6                -5.207083\n",
            "7                 145.7887\n",
            "8                       20\n",
            "9                     10.0\n",
            "10                       U\n",
            "11    Pacific/Port_Moresby\n",
            "Name: 1, dtype: object \n",
            "\n",
            "0                        2\n",
            "1                   Madang\n",
            "2                   Madang\n",
            "3         Papua New Guinea\n",
            "4                      MAG\n",
            "5                     AYMD\n",
            "6                -5.207083\n",
            "7                 145.7887\n",
            "8                       20\n",
            "9                     10.0\n",
            "10                       U\n",
            "11    Pacific/Port_Moresby\n",
            "Name: 1, dtype: object\n",
            "        0                                        1               2       3   \\\n",
            "658    667                                   Babice          Warsaw  Poland   \n",
            "659    668                              Lech Walesa          Gdansk  Poland   \n",
            "660    669                                   Balice          Krakow  Poland   \n",
            "661    670                                Muchowiec        Katowice  Poland   \n",
            "662    671                                Pyrzowice        Katowice  Poland   \n",
            "663    673                                   Mielec          Mielec  Poland   \n",
            "664    674                                   Lawica          Poznan  Poland   \n",
            "665    675                                 Jasionka         Rzeszow  Poland   \n",
            "666    676                                 Goleniow        Szczecin  Poland   \n",
            "667    677                                Redzikowo          Slupsk  Poland   \n",
            "668    678                                  Swidwin         Shapaja  Poland   \n",
            "669    679                                   Okecie          Warsaw  Poland   \n",
            "670    680                              Strachowice         Wroclaw  Poland   \n",
            "671    681                                 Babimost    Zielona Gora  Poland   \n",
            "4729  5592           Łódź Władysław Reymont Airport            Lodz  Poland   \n",
            "4730  5591  Bydgoszcz Ignacy Jan Paderewski Airport       Bydgoszcz  Poland   \n",
            "5296  6425                           Szczecin-Dabie        Szczecin  Poland   \n",
            "5367  6499                           Aleksandrowice   Bielsko-Biala  Poland   \n",
            "6259  7685      Koszalin - Zegrze Pomorskie Airport        Koszalin  Poland   \n",
            "6382  7807                          Chojna Air Base          Chojna  Poland   \n",
            "6387  7812                                   Gdynia          Gdynia  Poland   \n",
            "6388  7813                                  Malbork         Malbork  Poland   \n",
            "6389  7814                                     Lask            Lask  Poland   \n",
            "6390  7815                              Miroslawiec     Miroslawiec  Poland   \n",
            "6391  7816                                 Krzesiny          Poznan  Poland   \n",
            "6602  8029                                    RADOM           RADOM  Poland   \n",
            "6985  8414                            Warsaw Modlin          Warsaw  Poland   \n",
            "7201  8633                 Inowroclaw Inowr Airport      Inowroclaw  Poland   \n",
            "7202  8634                   Pruszcz Gdansk Airport  Pruszcz Gdansk  Poland   \n",
            "7309  8741                         Gryzliny - Lansk        Gryzliny  Poland   \n",
            "7319  8751                                 Goraszka        Goraszka  Poland   \n",
            "7400  8832                                   Lublin          Lublin  Poland   \n",
            "7415  8849                                 RUDNIKI          RUDNIKI  Poland   \n",
            "7474  8908                            Krakow Glowny          Krakow  Poland   \n",
            "\n",
            "       4     5          6          7    8    9  10             11  \n",
            "658   NaN  EPBC  52.268494  20.911047  352  1.0  E  Europe/Warsaw  \n",
            "659   GDN  EPGD  54.377569  18.466222  489  1.0  E  Europe/Warsaw  \n",
            "660   KRK  EPKK  50.077731  19.784836  791  1.0  E  Europe/Warsaw  \n",
            "661   NaN  EPKM  50.238147  19.034181  909  1.0  E  Europe/Warsaw  \n",
            "662   KTW  EPKT  50.474253  19.080019  995  1.0  E  Europe/Warsaw  \n",
            "663   NaN  EPML  50.322275  21.462131  548  1.0  E  Europe/Warsaw  \n",
            "664   POZ  EPPO  52.421031  16.826325  308  1.0  E  Europe/Warsaw  \n",
            "665   RZE  EPRZ  50.109958  22.019000  675  1.0  E  Europe/Warsaw  \n",
            "666   SZZ  EPSC  53.584731  14.902206  154  1.0  E  Europe/Warsaw  \n",
            "667   OSP  EPSK  54.478889  17.107500  217  1.0  E  Europe/Warsaw  \n",
            "668   NaN  EPSN  53.790639  15.826250  385  1.0  E  Europe/Warsaw  \n",
            "669   WAW  EPWA  52.165750  20.967122  362  1.0  E  Europe/Warsaw  \n",
            "670   WRO  EPWR  51.102683  16.885836  404  1.0  E  Europe/Warsaw  \n",
            "671   IEG  EPZG  52.138517  15.798556  194  1.0  E  Europe/Warsaw  \n",
            "4729  LCJ  EPLL  51.721881  19.398133  604  1.0  E  Europe/Warsaw  \n",
            "4730  BZG  EPBY  53.096800  17.977700  235  1.0  E  Europe/Warsaw  \n",
            "5296  NaN  EPSD  53.471138  14.637750    3  1.0  E  Europe/Warsaw  \n",
            "5367  NaN  EPBA  49.849970  19.020193  860  1.0  E  Europe/Warsaw  \n",
            "6259  OSZ  EPKO  54.041000  16.266000  111  1.0  E  Europe/Warsaw  \n",
            "6382  NaN    \\N  52.939400  14.421700  187  1.0  E  Europe/Warsaw  \n",
            "6387  QYD  EPOK  54.579700  18.517200  144  1.0  E  Europe/Warsaw  \n",
            "6388  NaN  EPMB  54.026944  19.134167   16  1.0  E  Europe/Warsaw  \n",
            "6389  NaN  EPLK  51.551667  19.179058  633  1.0  E  Europe/Warsaw  \n",
            "6390  NaN  EPMI  53.395072  16.082814  459  1.0  E  Europe/Warsaw  \n",
            "6391  NaN  EPKS  52.331719  16.966428  265  1.0  E  Europe/Warsaw  \n",
            "6602  QXR  EPRA  51.231978  21.124183  479  1.0  E  Europe/Warsaw  \n",
            "6985  WMI  EPMO  52.451111  20.651667  341  1.0  E  Europe/Warsaw  \n",
            "7201  NaN  EPIR  52.829444  18.330556  259  1.0  E  Europe/Warsaw  \n",
            "7202  NaN  EPPR  54.248056  18.671667   21  1.0  E  Europe/Warsaw  \n",
            "7309  NaN  EPGR  53.362900  20.204000  520  1.0  E  Europe/Warsaw  \n",
            "7319  NaN  EPGO  52.110400  21.165200  110  1.0  E  Europe/Warsaw  \n",
            "7400  LUZ  EPLB  51.239333  22.714083  203  1.0  E  Europe/Warsaw  \n",
            "7415  CZW  EPRU  50.884722  19.202222  262  1.0  E  Europe/Warsaw  \n",
            "7474  NaN    \\N  50.065556  19.947222  719  1.0  E  Europe/Warsaw  \n",
            "        0                                  1                2   \\\n",
            "0        1                             Goroka           Goroka   \n",
            "1        2                             Madang           Madang   \n",
            "2        3                        Mount Hagen      Mount Hagen   \n",
            "3        4                             Nadzab           Nadzab   \n",
            "4        5         Port Moresby Jacksons Intl     Port Moresby   \n",
            "...    ...                                ...              ...   \n",
            "8102  9537    Mansons Landing Water Aerodrome  Mansons Landing   \n",
            "8103  9538               Port McNeill Airport     Port McNeill   \n",
            "8104  9539       Sullivan Bay Water Aerodrome     Sullivan Bay   \n",
            "8105  9540               Deer Harbor Seaplane      Deer Harbor   \n",
            "8106  9541  San Diego Old Town Transit Center        San Diego   \n",
            "\n",
            "                    3    4     5          6           7     8     9  10  \\\n",
            "0     Papua New Guinea  GKA  AYGA  -1.853699  145.391881  5282  10.0  U   \n",
            "1     Papua New Guinea  MAG  AYMD  -1.587119  145.788700    20  10.0  U   \n",
            "2     Papua New Guinea  HGU  AYMH  -1.776005  144.295861  5388  10.0  U   \n",
            "3     Papua New Guinea  LAE  AYNZ  -2.002484  146.726242   239  10.0  U   \n",
            "4     Papua New Guinea  POM  AYPY  -2.878343  147.220050   146  10.0  U   \n",
            "...                ...  ...   ...        ...         ...   ...   ... ..   \n",
            "8102            Canada  YMU    \\N  15.260320 -124.983333     0  -8.0  A   \n",
            "8103            Canada  YMP    \\N  15.415429 -127.028611   225  -8.0  A   \n",
            "8104            Canada  YTG    \\N  15.509240 -126.833333     0  -8.0  A   \n",
            "8105     United States  DHB    \\N  14.818887 -123.005960     0  -8.0  A   \n",
            "8106     United States  OLT    \\N   9.983785 -117.199500     0  -8.0  A   \n",
            "\n",
            "                        11  \n",
            "0     Pacific/Port_Moresby  \n",
            "1     Pacific/Port_Moresby  \n",
            "2     Pacific/Port_Moresby  \n",
            "3     Pacific/Port_Moresby  \n",
            "4     Pacific/Port_Moresby  \n",
            "...                    ...  \n",
            "8102     America/Vancouver  \n",
            "8103     America/Vancouver  \n",
            "8104     America/Vancouver  \n",
            "8105   America/Los_Angeles  \n",
            "8106   America/Los_Angeles  \n",
            "\n",
            "[8107 rows x 12 columns]\n",
            "['Benin' 'Jersey' 'Isle of Man' 'Luxembourg' 'Swaziland' 'Saint Helena'\n",
            " 'British Indian Ocean Territory' 'Mayotte' 'Gambia' 'Burundi' 'Albania'\n",
            " 'Gibraltar' 'West Bank' 'Midway Islands' 'Barbados' 'Aruba' 'Anguilla'\n",
            " 'Bhutan' 'Christmas Island' 'Norfolk Island' 'Korea' 'Palestine' 'Nauru'\n",
            " 'Tuvalu' 'Monaco' 'Johnston Atoll' 'Niue' 'Cocos (Keeling) Islands'\n",
            " 'Myanmar' 'Wake Island']\n"
          ]
        }
      ],
      "source": [
        "df=pd.read_csv('https://raw.githubusercontent.com/przem85/podstawy_sztucznej_inteligencji/main/data/airports.csv', header=None)\n",
        "print(df[3].tail(12))\n",
        "\n",
        "print(df.loc[1],\"\\n\")\n",
        "print(df.iloc[1])\n",
        "\n",
        "print(df[df[3]==\"Poland\"])\n",
        "\n",
        "df.loc[df[1] != df[2]]\n",
        "\n",
        "df[6]=df[6]*30.48/100\n",
        "print(df)\n",
        "\n",
        "res = df.drop_duplicates(subset=[3], keep=False)[3].unique()\n",
        "print(res)\n"
      ]
    },
    {
      "cell_type": "markdown",
      "metadata": {
        "id": "AaltRFXs7Cde"
      },
      "source": [
        "# Dane do kolejnych zadań\n",
        "Wczytanie dancyh:\n",
        "\n",
        "  * Powinieneś być w stanie zobaczyć wszystkie kolumny i 10 wierszy danych:\n",
        "  * survival – Survival (0 = No; 1 = Yes)\n",
        "  * pclass – Passenger Class (1 = 1st; 2 = 2nd; 3 = 3rd)\n",
        "  * sex – Sex\n",
        "  * age – Age\n",
        "  * sibsp – Number of Siblings/Spouses Aboard\n",
        "  * parch – Number of Parents/Children Aboard\n",
        "  * ticket – Ticket Number\n",
        "  * fare – Passenger Fare\n",
        "  * cabin – Cabin\n",
        "  * embarked – Port of Embarkation (C = Cherbourg; Q = Queenstown; S = Southampton)\n"
      ]
    },
    {
      "cell_type": "code",
      "execution_count": null,
      "metadata": {
        "id": "2cBuyS517Cde",
        "outputId": "cf34a938-b11a-4d01-901d-9324739b853e",
        "colab": {
          "base_uri": "https://localhost:8080/",
          "height": 223
        }
      },
      "outputs": [
        {
          "output_type": "stream",
          "name": "stdout",
          "text": [
            "(891, 12)\n"
          ]
        },
        {
          "output_type": "execute_result",
          "data": {
            "text/plain": [
              "   PassengerId  Survived  Pclass  \\\n",
              "0            1         0       3   \n",
              "1            2         1       1   \n",
              "2            3         1       3   \n",
              "3            4         1       1   \n",
              "4            5         0       3   \n",
              "\n",
              "                                                Name     Sex   Age  SibSp  \\\n",
              "0                            Braund, Mr. Owen Harris    male  22.0      1   \n",
              "1  Cumings, Mrs. John Bradley (Florence Briggs Th...  female  38.0      1   \n",
              "2                             Heikkinen, Miss. Laina  female  26.0      0   \n",
              "3       Futrelle, Mrs. Jacques Heath (Lily May Peel)  female  35.0      1   \n",
              "4                           Allen, Mr. William Henry    male  35.0      0   \n",
              "\n",
              "   Parch            Ticket     Fare Cabin Embarked  \n",
              "0      0         A/5 21171   7.2500   NaN        S  \n",
              "1      0          PC 17599  71.2833   C85        C  \n",
              "2      0  STON/O2. 3101282   7.9250   NaN        S  \n",
              "3      0            113803  53.1000  C123        S  \n",
              "4      0            373450   8.0500   NaN        S  "
            ],
            "text/html": [
              "\n",
              "  <div id=\"df-0d03945e-1637-4474-8f0b-e8ceed30b8c0\">\n",
              "    <div class=\"colab-df-container\">\n",
              "      <div>\n",
              "<style scoped>\n",
              "    .dataframe tbody tr th:only-of-type {\n",
              "        vertical-align: middle;\n",
              "    }\n",
              "\n",
              "    .dataframe tbody tr th {\n",
              "        vertical-align: top;\n",
              "    }\n",
              "\n",
              "    .dataframe thead th {\n",
              "        text-align: right;\n",
              "    }\n",
              "</style>\n",
              "<table border=\"1\" class=\"dataframe\">\n",
              "  <thead>\n",
              "    <tr style=\"text-align: right;\">\n",
              "      <th></th>\n",
              "      <th>PassengerId</th>\n",
              "      <th>Survived</th>\n",
              "      <th>Pclass</th>\n",
              "      <th>Name</th>\n",
              "      <th>Sex</th>\n",
              "      <th>Age</th>\n",
              "      <th>SibSp</th>\n",
              "      <th>Parch</th>\n",
              "      <th>Ticket</th>\n",
              "      <th>Fare</th>\n",
              "      <th>Cabin</th>\n",
              "      <th>Embarked</th>\n",
              "    </tr>\n",
              "  </thead>\n",
              "  <tbody>\n",
              "    <tr>\n",
              "      <th>0</th>\n",
              "      <td>1</td>\n",
              "      <td>0</td>\n",
              "      <td>3</td>\n",
              "      <td>Braund, Mr. Owen Harris</td>\n",
              "      <td>male</td>\n",
              "      <td>22.0</td>\n",
              "      <td>1</td>\n",
              "      <td>0</td>\n",
              "      <td>A/5 21171</td>\n",
              "      <td>7.2500</td>\n",
              "      <td>NaN</td>\n",
              "      <td>S</td>\n",
              "    </tr>\n",
              "    <tr>\n",
              "      <th>1</th>\n",
              "      <td>2</td>\n",
              "      <td>1</td>\n",
              "      <td>1</td>\n",
              "      <td>Cumings, Mrs. John Bradley (Florence Briggs Th...</td>\n",
              "      <td>female</td>\n",
              "      <td>38.0</td>\n",
              "      <td>1</td>\n",
              "      <td>0</td>\n",
              "      <td>PC 17599</td>\n",
              "      <td>71.2833</td>\n",
              "      <td>C85</td>\n",
              "      <td>C</td>\n",
              "    </tr>\n",
              "    <tr>\n",
              "      <th>2</th>\n",
              "      <td>3</td>\n",
              "      <td>1</td>\n",
              "      <td>3</td>\n",
              "      <td>Heikkinen, Miss. Laina</td>\n",
              "      <td>female</td>\n",
              "      <td>26.0</td>\n",
              "      <td>0</td>\n",
              "      <td>0</td>\n",
              "      <td>STON/O2. 3101282</td>\n",
              "      <td>7.9250</td>\n",
              "      <td>NaN</td>\n",
              "      <td>S</td>\n",
              "    </tr>\n",
              "    <tr>\n",
              "      <th>3</th>\n",
              "      <td>4</td>\n",
              "      <td>1</td>\n",
              "      <td>1</td>\n",
              "      <td>Futrelle, Mrs. Jacques Heath (Lily May Peel)</td>\n",
              "      <td>female</td>\n",
              "      <td>35.0</td>\n",
              "      <td>1</td>\n",
              "      <td>0</td>\n",
              "      <td>113803</td>\n",
              "      <td>53.1000</td>\n",
              "      <td>C123</td>\n",
              "      <td>S</td>\n",
              "    </tr>\n",
              "    <tr>\n",
              "      <th>4</th>\n",
              "      <td>5</td>\n",
              "      <td>0</td>\n",
              "      <td>3</td>\n",
              "      <td>Allen, Mr. William Henry</td>\n",
              "      <td>male</td>\n",
              "      <td>35.0</td>\n",
              "      <td>0</td>\n",
              "      <td>0</td>\n",
              "      <td>373450</td>\n",
              "      <td>8.0500</td>\n",
              "      <td>NaN</td>\n",
              "      <td>S</td>\n",
              "    </tr>\n",
              "  </tbody>\n",
              "</table>\n",
              "</div>\n",
              "      <button class=\"colab-df-convert\" onclick=\"convertToInteractive('df-0d03945e-1637-4474-8f0b-e8ceed30b8c0')\"\n",
              "              title=\"Convert this dataframe to an interactive table.\"\n",
              "              style=\"display:none;\">\n",
              "        \n",
              "  <svg xmlns=\"http://www.w3.org/2000/svg\" height=\"24px\"viewBox=\"0 0 24 24\"\n",
              "       width=\"24px\">\n",
              "    <path d=\"M0 0h24v24H0V0z\" fill=\"none\"/>\n",
              "    <path d=\"M18.56 5.44l.94 2.06.94-2.06 2.06-.94-2.06-.94-.94-2.06-.94 2.06-2.06.94zm-11 1L8.5 8.5l.94-2.06 2.06-.94-2.06-.94L8.5 2.5l-.94 2.06-2.06.94zm10 10l.94 2.06.94-2.06 2.06-.94-2.06-.94-.94-2.06-.94 2.06-2.06.94z\"/><path d=\"M17.41 7.96l-1.37-1.37c-.4-.4-.92-.59-1.43-.59-.52 0-1.04.2-1.43.59L10.3 9.45l-7.72 7.72c-.78.78-.78 2.05 0 2.83L4 21.41c.39.39.9.59 1.41.59.51 0 1.02-.2 1.41-.59l7.78-7.78 2.81-2.81c.8-.78.8-2.07 0-2.86zM5.41 20L4 18.59l7.72-7.72 1.47 1.35L5.41 20z\"/>\n",
              "  </svg>\n",
              "      </button>\n",
              "      \n",
              "  <style>\n",
              "    .colab-df-container {\n",
              "      display:flex;\n",
              "      flex-wrap:wrap;\n",
              "      gap: 12px;\n",
              "    }\n",
              "\n",
              "    .colab-df-convert {\n",
              "      background-color: #E8F0FE;\n",
              "      border: none;\n",
              "      border-radius: 50%;\n",
              "      cursor: pointer;\n",
              "      display: none;\n",
              "      fill: #1967D2;\n",
              "      height: 32px;\n",
              "      padding: 0 0 0 0;\n",
              "      width: 32px;\n",
              "    }\n",
              "\n",
              "    .colab-df-convert:hover {\n",
              "      background-color: #E2EBFA;\n",
              "      box-shadow: 0px 1px 2px rgba(60, 64, 67, 0.3), 0px 1px 3px 1px rgba(60, 64, 67, 0.15);\n",
              "      fill: #174EA6;\n",
              "    }\n",
              "\n",
              "    [theme=dark] .colab-df-convert {\n",
              "      background-color: #3B4455;\n",
              "      fill: #D2E3FC;\n",
              "    }\n",
              "\n",
              "    [theme=dark] .colab-df-convert:hover {\n",
              "      background-color: #434B5C;\n",
              "      box-shadow: 0px 1px 3px 1px rgba(0, 0, 0, 0.15);\n",
              "      filter: drop-shadow(0px 1px 2px rgba(0, 0, 0, 0.3));\n",
              "      fill: #FFFFFF;\n",
              "    }\n",
              "  </style>\n",
              "\n",
              "      <script>\n",
              "        const buttonEl =\n",
              "          document.querySelector('#df-0d03945e-1637-4474-8f0b-e8ceed30b8c0 button.colab-df-convert');\n",
              "        buttonEl.style.display =\n",
              "          google.colab.kernel.accessAllowed ? 'block' : 'none';\n",
              "\n",
              "        async function convertToInteractive(key) {\n",
              "          const element = document.querySelector('#df-0d03945e-1637-4474-8f0b-e8ceed30b8c0');\n",
              "          const dataTable =\n",
              "            await google.colab.kernel.invokeFunction('convertToInteractive',\n",
              "                                                     [key], {});\n",
              "          if (!dataTable) return;\n",
              "\n",
              "          const docLinkHtml = 'Like what you see? Visit the ' +\n",
              "            '<a target=\"_blank\" href=https://colab.research.google.com/notebooks/data_table.ipynb>data table notebook</a>'\n",
              "            + ' to learn more about interactive tables.';\n",
              "          element.innerHTML = '';\n",
              "          dataTable['output_type'] = 'display_data';\n",
              "          await google.colab.output.renderOutput(dataTable, element);\n",
              "          const docLink = document.createElement('div');\n",
              "          docLink.innerHTML = docLinkHtml;\n",
              "          element.appendChild(docLink);\n",
              "        }\n",
              "      </script>\n",
              "    </div>\n",
              "  </div>\n",
              "  "
            ]
          },
          "metadata": {},
          "execution_count": 21
        }
      ],
      "source": [
        "df = pd.read_csv('https://raw.githubusercontent.com/przem85/podstawy_sztucznej_inteligencji/main/data/Titanic.csv') \n",
        "print(df.shape)\n",
        "df.head()"
      ]
    },
    {
      "cell_type": "code",
      "execution_count": null,
      "metadata": {
        "id": "qlX5j85h7Cde",
        "outputId": "a4856c56-35b6-4d2b-f8ea-f0e3d3575252"
      },
      "outputs": [
        {
          "data": {
            "text/plain": [
              "Index(['PassengerId', 'Survived', 'Pclass', 'Name', 'Sex', 'Age', 'SibSp',\n",
              "       'Parch', 'Ticket', 'Fare', 'Cabin', 'Embarked'],\n",
              "      dtype='object')"
            ]
          },
          "execution_count": 70,
          "metadata": {},
          "output_type": "execute_result"
        }
      ],
      "source": [
        "df.columns"
      ]
    },
    {
      "cell_type": "markdown",
      "metadata": {
        "id": "y7xNUhP07Cde"
      },
      "source": [
        "# Zadanie 6\n",
        "\n",
        "Usuń kolumny: \"PassengerId\", \"Name\" i \"Ticket\".\n",
        "\n",
        "Powody:\n",
        "\n",
        "  * PassengerId - jest to unikalny numer\n",
        "  * Imię - nie ma wpływu na predykcje\n",
        "  * Bilet - wygląda niechlujnie i jest losowe"
      ]
    },
    {
      "cell_type": "code",
      "execution_count": 62,
      "metadata": {
        "id": "yeIa1UNU7Cde",
        "colab": {
          "base_uri": "https://localhost:8080/",
          "height": 423
        },
        "outputId": "7d8031bc-8436-4cf6-e763-a3472d3c5289"
      },
      "outputs": [
        {
          "output_type": "execute_result",
          "data": {
            "text/plain": [
              "     Survived  Pclass     Sex   Age  SibSp  Parch     Fare Cabin Embarked\n",
              "0           0       3    male  22.0      1      0   7.2500   NaN        S\n",
              "1           1       1  female  38.0      1      0  71.2833   C85        C\n",
              "2           1       3  female  26.0      0      0   7.9250   NaN        S\n",
              "3           1       1  female  35.0      1      0  53.1000  C123        S\n",
              "4           0       3    male  35.0      0      0   8.0500   NaN        S\n",
              "..        ...     ...     ...   ...    ...    ...      ...   ...      ...\n",
              "886         0       2    male  27.0      0      0  13.0000   NaN        S\n",
              "887         1       1  female  19.0      0      0  30.0000   B42        S\n",
              "888         0       3  female   NaN      1      2  23.4500   NaN        S\n",
              "889         1       1    male  26.0      0      0  30.0000  C148        C\n",
              "890         0       3    male  32.0      0      0   7.7500   NaN        Q\n",
              "\n",
              "[891 rows x 9 columns]"
            ],
            "text/html": [
              "\n",
              "  <div id=\"df-983b3d49-2fd5-4b63-9daa-3ddbe1a8b346\">\n",
              "    <div class=\"colab-df-container\">\n",
              "      <div>\n",
              "<style scoped>\n",
              "    .dataframe tbody tr th:only-of-type {\n",
              "        vertical-align: middle;\n",
              "    }\n",
              "\n",
              "    .dataframe tbody tr th {\n",
              "        vertical-align: top;\n",
              "    }\n",
              "\n",
              "    .dataframe thead th {\n",
              "        text-align: right;\n",
              "    }\n",
              "</style>\n",
              "<table border=\"1\" class=\"dataframe\">\n",
              "  <thead>\n",
              "    <tr style=\"text-align: right;\">\n",
              "      <th></th>\n",
              "      <th>Survived</th>\n",
              "      <th>Pclass</th>\n",
              "      <th>Sex</th>\n",
              "      <th>Age</th>\n",
              "      <th>SibSp</th>\n",
              "      <th>Parch</th>\n",
              "      <th>Fare</th>\n",
              "      <th>Cabin</th>\n",
              "      <th>Embarked</th>\n",
              "    </tr>\n",
              "  </thead>\n",
              "  <tbody>\n",
              "    <tr>\n",
              "      <th>0</th>\n",
              "      <td>0</td>\n",
              "      <td>3</td>\n",
              "      <td>male</td>\n",
              "      <td>22.0</td>\n",
              "      <td>1</td>\n",
              "      <td>0</td>\n",
              "      <td>7.2500</td>\n",
              "      <td>NaN</td>\n",
              "      <td>S</td>\n",
              "    </tr>\n",
              "    <tr>\n",
              "      <th>1</th>\n",
              "      <td>1</td>\n",
              "      <td>1</td>\n",
              "      <td>female</td>\n",
              "      <td>38.0</td>\n",
              "      <td>1</td>\n",
              "      <td>0</td>\n",
              "      <td>71.2833</td>\n",
              "      <td>C85</td>\n",
              "      <td>C</td>\n",
              "    </tr>\n",
              "    <tr>\n",
              "      <th>2</th>\n",
              "      <td>1</td>\n",
              "      <td>3</td>\n",
              "      <td>female</td>\n",
              "      <td>26.0</td>\n",
              "      <td>0</td>\n",
              "      <td>0</td>\n",
              "      <td>7.9250</td>\n",
              "      <td>NaN</td>\n",
              "      <td>S</td>\n",
              "    </tr>\n",
              "    <tr>\n",
              "      <th>3</th>\n",
              "      <td>1</td>\n",
              "      <td>1</td>\n",
              "      <td>female</td>\n",
              "      <td>35.0</td>\n",
              "      <td>1</td>\n",
              "      <td>0</td>\n",
              "      <td>53.1000</td>\n",
              "      <td>C123</td>\n",
              "      <td>S</td>\n",
              "    </tr>\n",
              "    <tr>\n",
              "      <th>4</th>\n",
              "      <td>0</td>\n",
              "      <td>3</td>\n",
              "      <td>male</td>\n",
              "      <td>35.0</td>\n",
              "      <td>0</td>\n",
              "      <td>0</td>\n",
              "      <td>8.0500</td>\n",
              "      <td>NaN</td>\n",
              "      <td>S</td>\n",
              "    </tr>\n",
              "    <tr>\n",
              "      <th>...</th>\n",
              "      <td>...</td>\n",
              "      <td>...</td>\n",
              "      <td>...</td>\n",
              "      <td>...</td>\n",
              "      <td>...</td>\n",
              "      <td>...</td>\n",
              "      <td>...</td>\n",
              "      <td>...</td>\n",
              "      <td>...</td>\n",
              "    </tr>\n",
              "    <tr>\n",
              "      <th>886</th>\n",
              "      <td>0</td>\n",
              "      <td>2</td>\n",
              "      <td>male</td>\n",
              "      <td>27.0</td>\n",
              "      <td>0</td>\n",
              "      <td>0</td>\n",
              "      <td>13.0000</td>\n",
              "      <td>NaN</td>\n",
              "      <td>S</td>\n",
              "    </tr>\n",
              "    <tr>\n",
              "      <th>887</th>\n",
              "      <td>1</td>\n",
              "      <td>1</td>\n",
              "      <td>female</td>\n",
              "      <td>19.0</td>\n",
              "      <td>0</td>\n",
              "      <td>0</td>\n",
              "      <td>30.0000</td>\n",
              "      <td>B42</td>\n",
              "      <td>S</td>\n",
              "    </tr>\n",
              "    <tr>\n",
              "      <th>888</th>\n",
              "      <td>0</td>\n",
              "      <td>3</td>\n",
              "      <td>female</td>\n",
              "      <td>NaN</td>\n",
              "      <td>1</td>\n",
              "      <td>2</td>\n",
              "      <td>23.4500</td>\n",
              "      <td>NaN</td>\n",
              "      <td>S</td>\n",
              "    </tr>\n",
              "    <tr>\n",
              "      <th>889</th>\n",
              "      <td>1</td>\n",
              "      <td>1</td>\n",
              "      <td>male</td>\n",
              "      <td>26.0</td>\n",
              "      <td>0</td>\n",
              "      <td>0</td>\n",
              "      <td>30.0000</td>\n",
              "      <td>C148</td>\n",
              "      <td>C</td>\n",
              "    </tr>\n",
              "    <tr>\n",
              "      <th>890</th>\n",
              "      <td>0</td>\n",
              "      <td>3</td>\n",
              "      <td>male</td>\n",
              "      <td>32.0</td>\n",
              "      <td>0</td>\n",
              "      <td>0</td>\n",
              "      <td>7.7500</td>\n",
              "      <td>NaN</td>\n",
              "      <td>Q</td>\n",
              "    </tr>\n",
              "  </tbody>\n",
              "</table>\n",
              "<p>891 rows × 9 columns</p>\n",
              "</div>\n",
              "      <button class=\"colab-df-convert\" onclick=\"convertToInteractive('df-983b3d49-2fd5-4b63-9daa-3ddbe1a8b346')\"\n",
              "              title=\"Convert this dataframe to an interactive table.\"\n",
              "              style=\"display:none;\">\n",
              "        \n",
              "  <svg xmlns=\"http://www.w3.org/2000/svg\" height=\"24px\"viewBox=\"0 0 24 24\"\n",
              "       width=\"24px\">\n",
              "    <path d=\"M0 0h24v24H0V0z\" fill=\"none\"/>\n",
              "    <path d=\"M18.56 5.44l.94 2.06.94-2.06 2.06-.94-2.06-.94-.94-2.06-.94 2.06-2.06.94zm-11 1L8.5 8.5l.94-2.06 2.06-.94-2.06-.94L8.5 2.5l-.94 2.06-2.06.94zm10 10l.94 2.06.94-2.06 2.06-.94-2.06-.94-.94-2.06-.94 2.06-2.06.94z\"/><path d=\"M17.41 7.96l-1.37-1.37c-.4-.4-.92-.59-1.43-.59-.52 0-1.04.2-1.43.59L10.3 9.45l-7.72 7.72c-.78.78-.78 2.05 0 2.83L4 21.41c.39.39.9.59 1.41.59.51 0 1.02-.2 1.41-.59l7.78-7.78 2.81-2.81c.8-.78.8-2.07 0-2.86zM5.41 20L4 18.59l7.72-7.72 1.47 1.35L5.41 20z\"/>\n",
              "  </svg>\n",
              "      </button>\n",
              "      \n",
              "  <style>\n",
              "    .colab-df-container {\n",
              "      display:flex;\n",
              "      flex-wrap:wrap;\n",
              "      gap: 12px;\n",
              "    }\n",
              "\n",
              "    .colab-df-convert {\n",
              "      background-color: #E8F0FE;\n",
              "      border: none;\n",
              "      border-radius: 50%;\n",
              "      cursor: pointer;\n",
              "      display: none;\n",
              "      fill: #1967D2;\n",
              "      height: 32px;\n",
              "      padding: 0 0 0 0;\n",
              "      width: 32px;\n",
              "    }\n",
              "\n",
              "    .colab-df-convert:hover {\n",
              "      background-color: #E2EBFA;\n",
              "      box-shadow: 0px 1px 2px rgba(60, 64, 67, 0.3), 0px 1px 3px 1px rgba(60, 64, 67, 0.15);\n",
              "      fill: #174EA6;\n",
              "    }\n",
              "\n",
              "    [theme=dark] .colab-df-convert {\n",
              "      background-color: #3B4455;\n",
              "      fill: #D2E3FC;\n",
              "    }\n",
              "\n",
              "    [theme=dark] .colab-df-convert:hover {\n",
              "      background-color: #434B5C;\n",
              "      box-shadow: 0px 1px 3px 1px rgba(0, 0, 0, 0.15);\n",
              "      filter: drop-shadow(0px 1px 2px rgba(0, 0, 0, 0.3));\n",
              "      fill: #FFFFFF;\n",
              "    }\n",
              "  </style>\n",
              "\n",
              "      <script>\n",
              "        const buttonEl =\n",
              "          document.querySelector('#df-983b3d49-2fd5-4b63-9daa-3ddbe1a8b346 button.colab-df-convert');\n",
              "        buttonEl.style.display =\n",
              "          google.colab.kernel.accessAllowed ? 'block' : 'none';\n",
              "\n",
              "        async function convertToInteractive(key) {\n",
              "          const element = document.querySelector('#df-983b3d49-2fd5-4b63-9daa-3ddbe1a8b346');\n",
              "          const dataTable =\n",
              "            await google.colab.kernel.invokeFunction('convertToInteractive',\n",
              "                                                     [key], {});\n",
              "          if (!dataTable) return;\n",
              "\n",
              "          const docLinkHtml = 'Like what you see? Visit the ' +\n",
              "            '<a target=\"_blank\" href=https://colab.research.google.com/notebooks/data_table.ipynb>data table notebook</a>'\n",
              "            + ' to learn more about interactive tables.';\n",
              "          element.innerHTML = '';\n",
              "          dataTable['output_type'] = 'display_data';\n",
              "          await google.colab.output.renderOutput(dataTable, element);\n",
              "          const docLink = document.createElement('div');\n",
              "          docLink.innerHTML = docLinkHtml;\n",
              "          element.appendChild(docLink);\n",
              "        }\n",
              "      </script>\n",
              "    </div>\n",
              "  </div>\n",
              "  "
            ]
          },
          "metadata": {},
          "execution_count": 62
        }
      ],
      "source": [
        "df = pd.read_csv('https://raw.githubusercontent.com/przem85/podstawy_sztucznej_inteligencji/main/data/Titanic.csv') \n",
        "df.drop('PassengerId', inplace=True, axis=1)\n",
        "df.drop('Name', inplace=True, axis=1)\n",
        "df.drop('Ticket', inplace=True, axis=1)\n",
        "df"
      ]
    },
    {
      "cell_type": "markdown",
      "metadata": {
        "id": "tHhMsITD7Cdf"
      },
      "source": [
        "# Następnie musimy spojrzeć na kolumnę Cabin.\n",
        "\n",
        "Następnie musimy spojrzeć na kolumnę Cabin. Będziemy leniwi i zmienimy wartości na Tak lub Nie (w zależności czy posiadał kabinę). Lepszym sposobem na to może być podzielenie opisu tak aby uzyskać pierwszą literę, ponieważ zwykle oznacza ona, na którym pokładzie znajdowała się kabina. Może to być użyteczne przy predykcji (ale my na razie jej nie wykonujemy)."
      ]
    },
    {
      "cell_type": "code",
      "execution_count": 25,
      "metadata": {
        "id": "C1jVATAv7Cdf",
        "outputId": "fcf98995-c11e-401a-94d0-c2b8cedb2129",
        "colab": {
          "base_uri": "https://localhost:8080/",
          "height": 423
        }
      },
      "outputs": [
        {
          "output_type": "execute_result",
          "data": {
            "text/plain": [
              "     PassengerId  Survived  Pclass                                      Name  \\\n",
              "0              1         0       3                   Braund, Mr. Owen Harris   \n",
              "2              3         1       3                    Heikkinen, Miss. Laina   \n",
              "4              5         0       3                  Allen, Mr. William Henry   \n",
              "5              6         0       3                          Moran, Mr. James   \n",
              "7              8         0       3            Palsson, Master. Gosta Leonard   \n",
              "..           ...       ...     ...                                       ...   \n",
              "884          885         0       3                    Sutehall, Mr. Henry Jr   \n",
              "885          886         0       3      Rice, Mrs. William (Margaret Norton)   \n",
              "886          887         0       2                     Montvila, Rev. Juozas   \n",
              "888          889         0       3  Johnston, Miss. Catherine Helen \"Carrie\"   \n",
              "890          891         0       3                       Dooley, Mr. Patrick   \n",
              "\n",
              "        Sex   Age  SibSp  Parch            Ticket     Fare Cabin Embarked  \n",
              "0      male  22.0      1      0         A/5 21171   7.2500   NaN        S  \n",
              "2    female  26.0      0      0  STON/O2. 3101282   7.9250   NaN        S  \n",
              "4      male  35.0      0      0            373450   8.0500   NaN        S  \n",
              "5      male   NaN      0      0            330877   8.4583   NaN        Q  \n",
              "7      male   2.0      3      1            349909  21.0750   NaN        S  \n",
              "..      ...   ...    ...    ...               ...      ...   ...      ...  \n",
              "884    male  25.0      0      0   SOTON/OQ 392076   7.0500   NaN        S  \n",
              "885  female  39.0      0      5            382652  29.1250   NaN        Q  \n",
              "886    male  27.0      0      0            211536  13.0000   NaN        S  \n",
              "888  female   NaN      1      2        W./C. 6607  23.4500   NaN        S  \n",
              "890    male  32.0      0      0            370376   7.7500   NaN        Q  \n",
              "\n",
              "[687 rows x 12 columns]"
            ],
            "text/html": [
              "\n",
              "  <div id=\"df-ebd1a08b-c116-48bc-bdf2-a0ad9c40a29e\">\n",
              "    <div class=\"colab-df-container\">\n",
              "      <div>\n",
              "<style scoped>\n",
              "    .dataframe tbody tr th:only-of-type {\n",
              "        vertical-align: middle;\n",
              "    }\n",
              "\n",
              "    .dataframe tbody tr th {\n",
              "        vertical-align: top;\n",
              "    }\n",
              "\n",
              "    .dataframe thead th {\n",
              "        text-align: right;\n",
              "    }\n",
              "</style>\n",
              "<table border=\"1\" class=\"dataframe\">\n",
              "  <thead>\n",
              "    <tr style=\"text-align: right;\">\n",
              "      <th></th>\n",
              "      <th>PassengerId</th>\n",
              "      <th>Survived</th>\n",
              "      <th>Pclass</th>\n",
              "      <th>Name</th>\n",
              "      <th>Sex</th>\n",
              "      <th>Age</th>\n",
              "      <th>SibSp</th>\n",
              "      <th>Parch</th>\n",
              "      <th>Ticket</th>\n",
              "      <th>Fare</th>\n",
              "      <th>Cabin</th>\n",
              "      <th>Embarked</th>\n",
              "    </tr>\n",
              "  </thead>\n",
              "  <tbody>\n",
              "    <tr>\n",
              "      <th>0</th>\n",
              "      <td>1</td>\n",
              "      <td>0</td>\n",
              "      <td>3</td>\n",
              "      <td>Braund, Mr. Owen Harris</td>\n",
              "      <td>male</td>\n",
              "      <td>22.0</td>\n",
              "      <td>1</td>\n",
              "      <td>0</td>\n",
              "      <td>A/5 21171</td>\n",
              "      <td>7.2500</td>\n",
              "      <td>NaN</td>\n",
              "      <td>S</td>\n",
              "    </tr>\n",
              "    <tr>\n",
              "      <th>2</th>\n",
              "      <td>3</td>\n",
              "      <td>1</td>\n",
              "      <td>3</td>\n",
              "      <td>Heikkinen, Miss. Laina</td>\n",
              "      <td>female</td>\n",
              "      <td>26.0</td>\n",
              "      <td>0</td>\n",
              "      <td>0</td>\n",
              "      <td>STON/O2. 3101282</td>\n",
              "      <td>7.9250</td>\n",
              "      <td>NaN</td>\n",
              "      <td>S</td>\n",
              "    </tr>\n",
              "    <tr>\n",
              "      <th>4</th>\n",
              "      <td>5</td>\n",
              "      <td>0</td>\n",
              "      <td>3</td>\n",
              "      <td>Allen, Mr. William Henry</td>\n",
              "      <td>male</td>\n",
              "      <td>35.0</td>\n",
              "      <td>0</td>\n",
              "      <td>0</td>\n",
              "      <td>373450</td>\n",
              "      <td>8.0500</td>\n",
              "      <td>NaN</td>\n",
              "      <td>S</td>\n",
              "    </tr>\n",
              "    <tr>\n",
              "      <th>5</th>\n",
              "      <td>6</td>\n",
              "      <td>0</td>\n",
              "      <td>3</td>\n",
              "      <td>Moran, Mr. James</td>\n",
              "      <td>male</td>\n",
              "      <td>NaN</td>\n",
              "      <td>0</td>\n",
              "      <td>0</td>\n",
              "      <td>330877</td>\n",
              "      <td>8.4583</td>\n",
              "      <td>NaN</td>\n",
              "      <td>Q</td>\n",
              "    </tr>\n",
              "    <tr>\n",
              "      <th>7</th>\n",
              "      <td>8</td>\n",
              "      <td>0</td>\n",
              "      <td>3</td>\n",
              "      <td>Palsson, Master. Gosta Leonard</td>\n",
              "      <td>male</td>\n",
              "      <td>2.0</td>\n",
              "      <td>3</td>\n",
              "      <td>1</td>\n",
              "      <td>349909</td>\n",
              "      <td>21.0750</td>\n",
              "      <td>NaN</td>\n",
              "      <td>S</td>\n",
              "    </tr>\n",
              "    <tr>\n",
              "      <th>...</th>\n",
              "      <td>...</td>\n",
              "      <td>...</td>\n",
              "      <td>...</td>\n",
              "      <td>...</td>\n",
              "      <td>...</td>\n",
              "      <td>...</td>\n",
              "      <td>...</td>\n",
              "      <td>...</td>\n",
              "      <td>...</td>\n",
              "      <td>...</td>\n",
              "      <td>...</td>\n",
              "      <td>...</td>\n",
              "    </tr>\n",
              "    <tr>\n",
              "      <th>884</th>\n",
              "      <td>885</td>\n",
              "      <td>0</td>\n",
              "      <td>3</td>\n",
              "      <td>Sutehall, Mr. Henry Jr</td>\n",
              "      <td>male</td>\n",
              "      <td>25.0</td>\n",
              "      <td>0</td>\n",
              "      <td>0</td>\n",
              "      <td>SOTON/OQ 392076</td>\n",
              "      <td>7.0500</td>\n",
              "      <td>NaN</td>\n",
              "      <td>S</td>\n",
              "    </tr>\n",
              "    <tr>\n",
              "      <th>885</th>\n",
              "      <td>886</td>\n",
              "      <td>0</td>\n",
              "      <td>3</td>\n",
              "      <td>Rice, Mrs. William (Margaret Norton)</td>\n",
              "      <td>female</td>\n",
              "      <td>39.0</td>\n",
              "      <td>0</td>\n",
              "      <td>5</td>\n",
              "      <td>382652</td>\n",
              "      <td>29.1250</td>\n",
              "      <td>NaN</td>\n",
              "      <td>Q</td>\n",
              "    </tr>\n",
              "    <tr>\n",
              "      <th>886</th>\n",
              "      <td>887</td>\n",
              "      <td>0</td>\n",
              "      <td>2</td>\n",
              "      <td>Montvila, Rev. Juozas</td>\n",
              "      <td>male</td>\n",
              "      <td>27.0</td>\n",
              "      <td>0</td>\n",
              "      <td>0</td>\n",
              "      <td>211536</td>\n",
              "      <td>13.0000</td>\n",
              "      <td>NaN</td>\n",
              "      <td>S</td>\n",
              "    </tr>\n",
              "    <tr>\n",
              "      <th>888</th>\n",
              "      <td>889</td>\n",
              "      <td>0</td>\n",
              "      <td>3</td>\n",
              "      <td>Johnston, Miss. Catherine Helen \"Carrie\"</td>\n",
              "      <td>female</td>\n",
              "      <td>NaN</td>\n",
              "      <td>1</td>\n",
              "      <td>2</td>\n",
              "      <td>W./C. 6607</td>\n",
              "      <td>23.4500</td>\n",
              "      <td>NaN</td>\n",
              "      <td>S</td>\n",
              "    </tr>\n",
              "    <tr>\n",
              "      <th>890</th>\n",
              "      <td>891</td>\n",
              "      <td>0</td>\n",
              "      <td>3</td>\n",
              "      <td>Dooley, Mr. Patrick</td>\n",
              "      <td>male</td>\n",
              "      <td>32.0</td>\n",
              "      <td>0</td>\n",
              "      <td>0</td>\n",
              "      <td>370376</td>\n",
              "      <td>7.7500</td>\n",
              "      <td>NaN</td>\n",
              "      <td>Q</td>\n",
              "    </tr>\n",
              "  </tbody>\n",
              "</table>\n",
              "<p>687 rows × 12 columns</p>\n",
              "</div>\n",
              "      <button class=\"colab-df-convert\" onclick=\"convertToInteractive('df-ebd1a08b-c116-48bc-bdf2-a0ad9c40a29e')\"\n",
              "              title=\"Convert this dataframe to an interactive table.\"\n",
              "              style=\"display:none;\">\n",
              "        \n",
              "  <svg xmlns=\"http://www.w3.org/2000/svg\" height=\"24px\"viewBox=\"0 0 24 24\"\n",
              "       width=\"24px\">\n",
              "    <path d=\"M0 0h24v24H0V0z\" fill=\"none\"/>\n",
              "    <path d=\"M18.56 5.44l.94 2.06.94-2.06 2.06-.94-2.06-.94-.94-2.06-.94 2.06-2.06.94zm-11 1L8.5 8.5l.94-2.06 2.06-.94-2.06-.94L8.5 2.5l-.94 2.06-2.06.94zm10 10l.94 2.06.94-2.06 2.06-.94-2.06-.94-.94-2.06-.94 2.06-2.06.94z\"/><path d=\"M17.41 7.96l-1.37-1.37c-.4-.4-.92-.59-1.43-.59-.52 0-1.04.2-1.43.59L10.3 9.45l-7.72 7.72c-.78.78-.78 2.05 0 2.83L4 21.41c.39.39.9.59 1.41.59.51 0 1.02-.2 1.41-.59l7.78-7.78 2.81-2.81c.8-.78.8-2.07 0-2.86zM5.41 20L4 18.59l7.72-7.72 1.47 1.35L5.41 20z\"/>\n",
              "  </svg>\n",
              "      </button>\n",
              "      \n",
              "  <style>\n",
              "    .colab-df-container {\n",
              "      display:flex;\n",
              "      flex-wrap:wrap;\n",
              "      gap: 12px;\n",
              "    }\n",
              "\n",
              "    .colab-df-convert {\n",
              "      background-color: #E8F0FE;\n",
              "      border: none;\n",
              "      border-radius: 50%;\n",
              "      cursor: pointer;\n",
              "      display: none;\n",
              "      fill: #1967D2;\n",
              "      height: 32px;\n",
              "      padding: 0 0 0 0;\n",
              "      width: 32px;\n",
              "    }\n",
              "\n",
              "    .colab-df-convert:hover {\n",
              "      background-color: #E2EBFA;\n",
              "      box-shadow: 0px 1px 2px rgba(60, 64, 67, 0.3), 0px 1px 3px 1px rgba(60, 64, 67, 0.15);\n",
              "      fill: #174EA6;\n",
              "    }\n",
              "\n",
              "    [theme=dark] .colab-df-convert {\n",
              "      background-color: #3B4455;\n",
              "      fill: #D2E3FC;\n",
              "    }\n",
              "\n",
              "    [theme=dark] .colab-df-convert:hover {\n",
              "      background-color: #434B5C;\n",
              "      box-shadow: 0px 1px 3px 1px rgba(0, 0, 0, 0.15);\n",
              "      filter: drop-shadow(0px 1px 2px rgba(0, 0, 0, 0.3));\n",
              "      fill: #FFFFFF;\n",
              "    }\n",
              "  </style>\n",
              "\n",
              "      <script>\n",
              "        const buttonEl =\n",
              "          document.querySelector('#df-ebd1a08b-c116-48bc-bdf2-a0ad9c40a29e button.colab-df-convert');\n",
              "        buttonEl.style.display =\n",
              "          google.colab.kernel.accessAllowed ? 'block' : 'none';\n",
              "\n",
              "        async function convertToInteractive(key) {\n",
              "          const element = document.querySelector('#df-ebd1a08b-c116-48bc-bdf2-a0ad9c40a29e');\n",
              "          const dataTable =\n",
              "            await google.colab.kernel.invokeFunction('convertToInteractive',\n",
              "                                                     [key], {});\n",
              "          if (!dataTable) return;\n",
              "\n",
              "          const docLinkHtml = 'Like what you see? Visit the ' +\n",
              "            '<a target=\"_blank\" href=https://colab.research.google.com/notebooks/data_table.ipynb>data table notebook</a>'\n",
              "            + ' to learn more about interactive tables.';\n",
              "          element.innerHTML = '';\n",
              "          dataTable['output_type'] = 'display_data';\n",
              "          await google.colab.output.renderOutput(dataTable, element);\n",
              "          const docLink = document.createElement('div');\n",
              "          docLink.innerHTML = docLinkHtml;\n",
              "          element.appendChild(docLink);\n",
              "        }\n",
              "      </script>\n",
              "    </div>\n",
              "  </div>\n",
              "  "
            ]
          },
          "metadata": {},
          "execution_count": 25
        }
      ],
      "source": [
        "df = pd.read_csv('https://raw.githubusercontent.com/przem85/podstawy_sztucznej_inteligencji/main/data/Titanic.csv') \n",
        "df.loc[df.Cabin.isnull()]"
      ]
    },
    {
      "cell_type": "markdown",
      "metadata": {
        "id": "Jbp4yhUM7Cdf"
      },
      "source": [
        "# Zadanie 7\n",
        "Utwórz nową kolumną o nazwie HasCabin, która zawiera 1 jeżeli ktoś miał swoją kabinę i 0 jeśli nie."
      ]
    },
    {
      "cell_type": "code",
      "execution_count": 63,
      "metadata": {
        "id": "rJEQrIIF7Cdf",
        "colab": {
          "base_uri": "https://localhost:8080/",
          "height": 423
        },
        "outputId": "912eb90f-70a3-4ca5-adba-28c5b460ee25"
      },
      "outputs": [
        {
          "output_type": "execute_result",
          "data": {
            "text/plain": [
              "     Survived  Pclass     Sex   Age  SibSp  Parch     Fare Cabin Embarked  \\\n",
              "0           0       3    male  22.0      1      0   7.2500   NaN        S   \n",
              "1           1       1  female  38.0      1      0  71.2833   C85        C   \n",
              "2           1       3  female  26.0      0      0   7.9250   NaN        S   \n",
              "3           1       1  female  35.0      1      0  53.1000  C123        S   \n",
              "4           0       3    male  35.0      0      0   8.0500   NaN        S   \n",
              "..        ...     ...     ...   ...    ...    ...      ...   ...      ...   \n",
              "886         0       2    male  27.0      0      0  13.0000   NaN        S   \n",
              "887         1       1  female  19.0      0      0  30.0000   B42        S   \n",
              "888         0       3  female   NaN      1      2  23.4500   NaN        S   \n",
              "889         1       1    male  26.0      0      0  30.0000  C148        C   \n",
              "890         0       3    male  32.0      0      0   7.7500   NaN        Q   \n",
              "\n",
              "     HasCabin  \n",
              "0           0  \n",
              "1           1  \n",
              "2           0  \n",
              "3           1  \n",
              "4           0  \n",
              "..        ...  \n",
              "886         0  \n",
              "887         1  \n",
              "888         0  \n",
              "889         1  \n",
              "890         0  \n",
              "\n",
              "[891 rows x 10 columns]"
            ],
            "text/html": [
              "\n",
              "  <div id=\"df-1d7a350b-0d96-4c0d-b615-e6b47a9c4c63\">\n",
              "    <div class=\"colab-df-container\">\n",
              "      <div>\n",
              "<style scoped>\n",
              "    .dataframe tbody tr th:only-of-type {\n",
              "        vertical-align: middle;\n",
              "    }\n",
              "\n",
              "    .dataframe tbody tr th {\n",
              "        vertical-align: top;\n",
              "    }\n",
              "\n",
              "    .dataframe thead th {\n",
              "        text-align: right;\n",
              "    }\n",
              "</style>\n",
              "<table border=\"1\" class=\"dataframe\">\n",
              "  <thead>\n",
              "    <tr style=\"text-align: right;\">\n",
              "      <th></th>\n",
              "      <th>Survived</th>\n",
              "      <th>Pclass</th>\n",
              "      <th>Sex</th>\n",
              "      <th>Age</th>\n",
              "      <th>SibSp</th>\n",
              "      <th>Parch</th>\n",
              "      <th>Fare</th>\n",
              "      <th>Cabin</th>\n",
              "      <th>Embarked</th>\n",
              "      <th>HasCabin</th>\n",
              "    </tr>\n",
              "  </thead>\n",
              "  <tbody>\n",
              "    <tr>\n",
              "      <th>0</th>\n",
              "      <td>0</td>\n",
              "      <td>3</td>\n",
              "      <td>male</td>\n",
              "      <td>22.0</td>\n",
              "      <td>1</td>\n",
              "      <td>0</td>\n",
              "      <td>7.2500</td>\n",
              "      <td>NaN</td>\n",
              "      <td>S</td>\n",
              "      <td>0</td>\n",
              "    </tr>\n",
              "    <tr>\n",
              "      <th>1</th>\n",
              "      <td>1</td>\n",
              "      <td>1</td>\n",
              "      <td>female</td>\n",
              "      <td>38.0</td>\n",
              "      <td>1</td>\n",
              "      <td>0</td>\n",
              "      <td>71.2833</td>\n",
              "      <td>C85</td>\n",
              "      <td>C</td>\n",
              "      <td>1</td>\n",
              "    </tr>\n",
              "    <tr>\n",
              "      <th>2</th>\n",
              "      <td>1</td>\n",
              "      <td>3</td>\n",
              "      <td>female</td>\n",
              "      <td>26.0</td>\n",
              "      <td>0</td>\n",
              "      <td>0</td>\n",
              "      <td>7.9250</td>\n",
              "      <td>NaN</td>\n",
              "      <td>S</td>\n",
              "      <td>0</td>\n",
              "    </tr>\n",
              "    <tr>\n",
              "      <th>3</th>\n",
              "      <td>1</td>\n",
              "      <td>1</td>\n",
              "      <td>female</td>\n",
              "      <td>35.0</td>\n",
              "      <td>1</td>\n",
              "      <td>0</td>\n",
              "      <td>53.1000</td>\n",
              "      <td>C123</td>\n",
              "      <td>S</td>\n",
              "      <td>1</td>\n",
              "    </tr>\n",
              "    <tr>\n",
              "      <th>4</th>\n",
              "      <td>0</td>\n",
              "      <td>3</td>\n",
              "      <td>male</td>\n",
              "      <td>35.0</td>\n",
              "      <td>0</td>\n",
              "      <td>0</td>\n",
              "      <td>8.0500</td>\n",
              "      <td>NaN</td>\n",
              "      <td>S</td>\n",
              "      <td>0</td>\n",
              "    </tr>\n",
              "    <tr>\n",
              "      <th>...</th>\n",
              "      <td>...</td>\n",
              "      <td>...</td>\n",
              "      <td>...</td>\n",
              "      <td>...</td>\n",
              "      <td>...</td>\n",
              "      <td>...</td>\n",
              "      <td>...</td>\n",
              "      <td>...</td>\n",
              "      <td>...</td>\n",
              "      <td>...</td>\n",
              "    </tr>\n",
              "    <tr>\n",
              "      <th>886</th>\n",
              "      <td>0</td>\n",
              "      <td>2</td>\n",
              "      <td>male</td>\n",
              "      <td>27.0</td>\n",
              "      <td>0</td>\n",
              "      <td>0</td>\n",
              "      <td>13.0000</td>\n",
              "      <td>NaN</td>\n",
              "      <td>S</td>\n",
              "      <td>0</td>\n",
              "    </tr>\n",
              "    <tr>\n",
              "      <th>887</th>\n",
              "      <td>1</td>\n",
              "      <td>1</td>\n",
              "      <td>female</td>\n",
              "      <td>19.0</td>\n",
              "      <td>0</td>\n",
              "      <td>0</td>\n",
              "      <td>30.0000</td>\n",
              "      <td>B42</td>\n",
              "      <td>S</td>\n",
              "      <td>1</td>\n",
              "    </tr>\n",
              "    <tr>\n",
              "      <th>888</th>\n",
              "      <td>0</td>\n",
              "      <td>3</td>\n",
              "      <td>female</td>\n",
              "      <td>NaN</td>\n",
              "      <td>1</td>\n",
              "      <td>2</td>\n",
              "      <td>23.4500</td>\n",
              "      <td>NaN</td>\n",
              "      <td>S</td>\n",
              "      <td>0</td>\n",
              "    </tr>\n",
              "    <tr>\n",
              "      <th>889</th>\n",
              "      <td>1</td>\n",
              "      <td>1</td>\n",
              "      <td>male</td>\n",
              "      <td>26.0</td>\n",
              "      <td>0</td>\n",
              "      <td>0</td>\n",
              "      <td>30.0000</td>\n",
              "      <td>C148</td>\n",
              "      <td>C</td>\n",
              "      <td>1</td>\n",
              "    </tr>\n",
              "    <tr>\n",
              "      <th>890</th>\n",
              "      <td>0</td>\n",
              "      <td>3</td>\n",
              "      <td>male</td>\n",
              "      <td>32.0</td>\n",
              "      <td>0</td>\n",
              "      <td>0</td>\n",
              "      <td>7.7500</td>\n",
              "      <td>NaN</td>\n",
              "      <td>Q</td>\n",
              "      <td>0</td>\n",
              "    </tr>\n",
              "  </tbody>\n",
              "</table>\n",
              "<p>891 rows × 10 columns</p>\n",
              "</div>\n",
              "      <button class=\"colab-df-convert\" onclick=\"convertToInteractive('df-1d7a350b-0d96-4c0d-b615-e6b47a9c4c63')\"\n",
              "              title=\"Convert this dataframe to an interactive table.\"\n",
              "              style=\"display:none;\">\n",
              "        \n",
              "  <svg xmlns=\"http://www.w3.org/2000/svg\" height=\"24px\"viewBox=\"0 0 24 24\"\n",
              "       width=\"24px\">\n",
              "    <path d=\"M0 0h24v24H0V0z\" fill=\"none\"/>\n",
              "    <path d=\"M18.56 5.44l.94 2.06.94-2.06 2.06-.94-2.06-.94-.94-2.06-.94 2.06-2.06.94zm-11 1L8.5 8.5l.94-2.06 2.06-.94-2.06-.94L8.5 2.5l-.94 2.06-2.06.94zm10 10l.94 2.06.94-2.06 2.06-.94-2.06-.94-.94-2.06-.94 2.06-2.06.94z\"/><path d=\"M17.41 7.96l-1.37-1.37c-.4-.4-.92-.59-1.43-.59-.52 0-1.04.2-1.43.59L10.3 9.45l-7.72 7.72c-.78.78-.78 2.05 0 2.83L4 21.41c.39.39.9.59 1.41.59.51 0 1.02-.2 1.41-.59l7.78-7.78 2.81-2.81c.8-.78.8-2.07 0-2.86zM5.41 20L4 18.59l7.72-7.72 1.47 1.35L5.41 20z\"/>\n",
              "  </svg>\n",
              "      </button>\n",
              "      \n",
              "  <style>\n",
              "    .colab-df-container {\n",
              "      display:flex;\n",
              "      flex-wrap:wrap;\n",
              "      gap: 12px;\n",
              "    }\n",
              "\n",
              "    .colab-df-convert {\n",
              "      background-color: #E8F0FE;\n",
              "      border: none;\n",
              "      border-radius: 50%;\n",
              "      cursor: pointer;\n",
              "      display: none;\n",
              "      fill: #1967D2;\n",
              "      height: 32px;\n",
              "      padding: 0 0 0 0;\n",
              "      width: 32px;\n",
              "    }\n",
              "\n",
              "    .colab-df-convert:hover {\n",
              "      background-color: #E2EBFA;\n",
              "      box-shadow: 0px 1px 2px rgba(60, 64, 67, 0.3), 0px 1px 3px 1px rgba(60, 64, 67, 0.15);\n",
              "      fill: #174EA6;\n",
              "    }\n",
              "\n",
              "    [theme=dark] .colab-df-convert {\n",
              "      background-color: #3B4455;\n",
              "      fill: #D2E3FC;\n",
              "    }\n",
              "\n",
              "    [theme=dark] .colab-df-convert:hover {\n",
              "      background-color: #434B5C;\n",
              "      box-shadow: 0px 1px 3px 1px rgba(0, 0, 0, 0.15);\n",
              "      filter: drop-shadow(0px 1px 2px rgba(0, 0, 0, 0.3));\n",
              "      fill: #FFFFFF;\n",
              "    }\n",
              "  </style>\n",
              "\n",
              "      <script>\n",
              "        const buttonEl =\n",
              "          document.querySelector('#df-1d7a350b-0d96-4c0d-b615-e6b47a9c4c63 button.colab-df-convert');\n",
              "        buttonEl.style.display =\n",
              "          google.colab.kernel.accessAllowed ? 'block' : 'none';\n",
              "\n",
              "        async function convertToInteractive(key) {\n",
              "          const element = document.querySelector('#df-1d7a350b-0d96-4c0d-b615-e6b47a9c4c63');\n",
              "          const dataTable =\n",
              "            await google.colab.kernel.invokeFunction('convertToInteractive',\n",
              "                                                     [key], {});\n",
              "          if (!dataTable) return;\n",
              "\n",
              "          const docLinkHtml = 'Like what you see? Visit the ' +\n",
              "            '<a target=\"_blank\" href=https://colab.research.google.com/notebooks/data_table.ipynb>data table notebook</a>'\n",
              "            + ' to learn more about interactive tables.';\n",
              "          element.innerHTML = '';\n",
              "          dataTable['output_type'] = 'display_data';\n",
              "          await google.colab.output.renderOutput(dataTable, element);\n",
              "          const docLink = document.createElement('div');\n",
              "          docLink.innerHTML = docLinkHtml;\n",
              "          element.appendChild(docLink);\n",
              "        }\n",
              "      </script>\n",
              "    </div>\n",
              "  </div>\n",
              "  "
            ]
          },
          "metadata": {},
          "execution_count": 63
        }
      ],
      "source": [
        "df['HasCabin'] = np.where(df['Cabin'].notnull(), 1, 0)\n",
        "df"
      ]
    },
    {
      "cell_type": "markdown",
      "metadata": {
        "id": "j6yLmzG57Cdf"
      },
      "source": [
        "# Zadanie 8\n",
        "Usuń brakujące wartości"
      ]
    },
    {
      "cell_type": "code",
      "execution_count": 64,
      "metadata": {
        "id": "pknGcMly7Cdg",
        "colab": {
          "base_uri": "https://localhost:8080/",
          "height": 423
        },
        "outputId": "42530f58-3f33-40fc-9867-d242424f6bb2"
      },
      "outputs": [
        {
          "output_type": "execute_result",
          "data": {
            "text/plain": [
              "     PassengerId  Survived  Pclass  \\\n",
              "1              2         1       1   \n",
              "3              4         1       1   \n",
              "6              7         0       1   \n",
              "10            11         1       3   \n",
              "11            12         1       1   \n",
              "..           ...       ...     ...   \n",
              "871          872         1       1   \n",
              "872          873         0       1   \n",
              "879          880         1       1   \n",
              "887          888         1       1   \n",
              "889          890         1       1   \n",
              "\n",
              "                                                  Name     Sex   Age  SibSp  \\\n",
              "1    Cumings, Mrs. John Bradley (Florence Briggs Th...  female  38.0      1   \n",
              "3         Futrelle, Mrs. Jacques Heath (Lily May Peel)  female  35.0      1   \n",
              "6                              McCarthy, Mr. Timothy J    male  54.0      0   \n",
              "10                     Sandstrom, Miss. Marguerite Rut  female   4.0      1   \n",
              "11                            Bonnell, Miss. Elizabeth  female  58.0      0   \n",
              "..                                                 ...     ...   ...    ...   \n",
              "871   Beckwith, Mrs. Richard Leonard (Sallie Monypeny)  female  47.0      1   \n",
              "872                           Carlsson, Mr. Frans Olof    male  33.0      0   \n",
              "879      Potter, Mrs. Thomas Jr (Lily Alexenia Wilson)  female  56.0      0   \n",
              "887                       Graham, Miss. Margaret Edith  female  19.0      0   \n",
              "889                              Behr, Mr. Karl Howell    male  26.0      0   \n",
              "\n",
              "     Parch    Ticket     Fare        Cabin Embarked  \n",
              "1        0  PC 17599  71.2833          C85        C  \n",
              "3        0    113803  53.1000         C123        S  \n",
              "6        0     17463  51.8625          E46        S  \n",
              "10       1   PP 9549  16.7000           G6        S  \n",
              "11       0    113783  26.5500         C103        S  \n",
              "..     ...       ...      ...          ...      ...  \n",
              "871      1     11751  52.5542          D35        S  \n",
              "872      0       695   5.0000  B51 B53 B55        S  \n",
              "879      1     11767  83.1583          C50        C  \n",
              "887      0    112053  30.0000          B42        S  \n",
              "889      0    111369  30.0000         C148        C  \n",
              "\n",
              "[183 rows x 12 columns]"
            ],
            "text/html": [
              "\n",
              "  <div id=\"df-72d15bde-3210-486d-9f06-e821a2abf485\">\n",
              "    <div class=\"colab-df-container\">\n",
              "      <div>\n",
              "<style scoped>\n",
              "    .dataframe tbody tr th:only-of-type {\n",
              "        vertical-align: middle;\n",
              "    }\n",
              "\n",
              "    .dataframe tbody tr th {\n",
              "        vertical-align: top;\n",
              "    }\n",
              "\n",
              "    .dataframe thead th {\n",
              "        text-align: right;\n",
              "    }\n",
              "</style>\n",
              "<table border=\"1\" class=\"dataframe\">\n",
              "  <thead>\n",
              "    <tr style=\"text-align: right;\">\n",
              "      <th></th>\n",
              "      <th>PassengerId</th>\n",
              "      <th>Survived</th>\n",
              "      <th>Pclass</th>\n",
              "      <th>Name</th>\n",
              "      <th>Sex</th>\n",
              "      <th>Age</th>\n",
              "      <th>SibSp</th>\n",
              "      <th>Parch</th>\n",
              "      <th>Ticket</th>\n",
              "      <th>Fare</th>\n",
              "      <th>Cabin</th>\n",
              "      <th>Embarked</th>\n",
              "    </tr>\n",
              "  </thead>\n",
              "  <tbody>\n",
              "    <tr>\n",
              "      <th>1</th>\n",
              "      <td>2</td>\n",
              "      <td>1</td>\n",
              "      <td>1</td>\n",
              "      <td>Cumings, Mrs. John Bradley (Florence Briggs Th...</td>\n",
              "      <td>female</td>\n",
              "      <td>38.0</td>\n",
              "      <td>1</td>\n",
              "      <td>0</td>\n",
              "      <td>PC 17599</td>\n",
              "      <td>71.2833</td>\n",
              "      <td>C85</td>\n",
              "      <td>C</td>\n",
              "    </tr>\n",
              "    <tr>\n",
              "      <th>3</th>\n",
              "      <td>4</td>\n",
              "      <td>1</td>\n",
              "      <td>1</td>\n",
              "      <td>Futrelle, Mrs. Jacques Heath (Lily May Peel)</td>\n",
              "      <td>female</td>\n",
              "      <td>35.0</td>\n",
              "      <td>1</td>\n",
              "      <td>0</td>\n",
              "      <td>113803</td>\n",
              "      <td>53.1000</td>\n",
              "      <td>C123</td>\n",
              "      <td>S</td>\n",
              "    </tr>\n",
              "    <tr>\n",
              "      <th>6</th>\n",
              "      <td>7</td>\n",
              "      <td>0</td>\n",
              "      <td>1</td>\n",
              "      <td>McCarthy, Mr. Timothy J</td>\n",
              "      <td>male</td>\n",
              "      <td>54.0</td>\n",
              "      <td>0</td>\n",
              "      <td>0</td>\n",
              "      <td>17463</td>\n",
              "      <td>51.8625</td>\n",
              "      <td>E46</td>\n",
              "      <td>S</td>\n",
              "    </tr>\n",
              "    <tr>\n",
              "      <th>10</th>\n",
              "      <td>11</td>\n",
              "      <td>1</td>\n",
              "      <td>3</td>\n",
              "      <td>Sandstrom, Miss. Marguerite Rut</td>\n",
              "      <td>female</td>\n",
              "      <td>4.0</td>\n",
              "      <td>1</td>\n",
              "      <td>1</td>\n",
              "      <td>PP 9549</td>\n",
              "      <td>16.7000</td>\n",
              "      <td>G6</td>\n",
              "      <td>S</td>\n",
              "    </tr>\n",
              "    <tr>\n",
              "      <th>11</th>\n",
              "      <td>12</td>\n",
              "      <td>1</td>\n",
              "      <td>1</td>\n",
              "      <td>Bonnell, Miss. Elizabeth</td>\n",
              "      <td>female</td>\n",
              "      <td>58.0</td>\n",
              "      <td>0</td>\n",
              "      <td>0</td>\n",
              "      <td>113783</td>\n",
              "      <td>26.5500</td>\n",
              "      <td>C103</td>\n",
              "      <td>S</td>\n",
              "    </tr>\n",
              "    <tr>\n",
              "      <th>...</th>\n",
              "      <td>...</td>\n",
              "      <td>...</td>\n",
              "      <td>...</td>\n",
              "      <td>...</td>\n",
              "      <td>...</td>\n",
              "      <td>...</td>\n",
              "      <td>...</td>\n",
              "      <td>...</td>\n",
              "      <td>...</td>\n",
              "      <td>...</td>\n",
              "      <td>...</td>\n",
              "      <td>...</td>\n",
              "    </tr>\n",
              "    <tr>\n",
              "      <th>871</th>\n",
              "      <td>872</td>\n",
              "      <td>1</td>\n",
              "      <td>1</td>\n",
              "      <td>Beckwith, Mrs. Richard Leonard (Sallie Monypeny)</td>\n",
              "      <td>female</td>\n",
              "      <td>47.0</td>\n",
              "      <td>1</td>\n",
              "      <td>1</td>\n",
              "      <td>11751</td>\n",
              "      <td>52.5542</td>\n",
              "      <td>D35</td>\n",
              "      <td>S</td>\n",
              "    </tr>\n",
              "    <tr>\n",
              "      <th>872</th>\n",
              "      <td>873</td>\n",
              "      <td>0</td>\n",
              "      <td>1</td>\n",
              "      <td>Carlsson, Mr. Frans Olof</td>\n",
              "      <td>male</td>\n",
              "      <td>33.0</td>\n",
              "      <td>0</td>\n",
              "      <td>0</td>\n",
              "      <td>695</td>\n",
              "      <td>5.0000</td>\n",
              "      <td>B51 B53 B55</td>\n",
              "      <td>S</td>\n",
              "    </tr>\n",
              "    <tr>\n",
              "      <th>879</th>\n",
              "      <td>880</td>\n",
              "      <td>1</td>\n",
              "      <td>1</td>\n",
              "      <td>Potter, Mrs. Thomas Jr (Lily Alexenia Wilson)</td>\n",
              "      <td>female</td>\n",
              "      <td>56.0</td>\n",
              "      <td>0</td>\n",
              "      <td>1</td>\n",
              "      <td>11767</td>\n",
              "      <td>83.1583</td>\n",
              "      <td>C50</td>\n",
              "      <td>C</td>\n",
              "    </tr>\n",
              "    <tr>\n",
              "      <th>887</th>\n",
              "      <td>888</td>\n",
              "      <td>1</td>\n",
              "      <td>1</td>\n",
              "      <td>Graham, Miss. Margaret Edith</td>\n",
              "      <td>female</td>\n",
              "      <td>19.0</td>\n",
              "      <td>0</td>\n",
              "      <td>0</td>\n",
              "      <td>112053</td>\n",
              "      <td>30.0000</td>\n",
              "      <td>B42</td>\n",
              "      <td>S</td>\n",
              "    </tr>\n",
              "    <tr>\n",
              "      <th>889</th>\n",
              "      <td>890</td>\n",
              "      <td>1</td>\n",
              "      <td>1</td>\n",
              "      <td>Behr, Mr. Karl Howell</td>\n",
              "      <td>male</td>\n",
              "      <td>26.0</td>\n",
              "      <td>0</td>\n",
              "      <td>0</td>\n",
              "      <td>111369</td>\n",
              "      <td>30.0000</td>\n",
              "      <td>C148</td>\n",
              "      <td>C</td>\n",
              "    </tr>\n",
              "  </tbody>\n",
              "</table>\n",
              "<p>183 rows × 12 columns</p>\n",
              "</div>\n",
              "      <button class=\"colab-df-convert\" onclick=\"convertToInteractive('df-72d15bde-3210-486d-9f06-e821a2abf485')\"\n",
              "              title=\"Convert this dataframe to an interactive table.\"\n",
              "              style=\"display:none;\">\n",
              "        \n",
              "  <svg xmlns=\"http://www.w3.org/2000/svg\" height=\"24px\"viewBox=\"0 0 24 24\"\n",
              "       width=\"24px\">\n",
              "    <path d=\"M0 0h24v24H0V0z\" fill=\"none\"/>\n",
              "    <path d=\"M18.56 5.44l.94 2.06.94-2.06 2.06-.94-2.06-.94-.94-2.06-.94 2.06-2.06.94zm-11 1L8.5 8.5l.94-2.06 2.06-.94-2.06-.94L8.5 2.5l-.94 2.06-2.06.94zm10 10l.94 2.06.94-2.06 2.06-.94-2.06-.94-.94-2.06-.94 2.06-2.06.94z\"/><path d=\"M17.41 7.96l-1.37-1.37c-.4-.4-.92-.59-1.43-.59-.52 0-1.04.2-1.43.59L10.3 9.45l-7.72 7.72c-.78.78-.78 2.05 0 2.83L4 21.41c.39.39.9.59 1.41.59.51 0 1.02-.2 1.41-.59l7.78-7.78 2.81-2.81c.8-.78.8-2.07 0-2.86zM5.41 20L4 18.59l7.72-7.72 1.47 1.35L5.41 20z\"/>\n",
              "  </svg>\n",
              "      </button>\n",
              "      \n",
              "  <style>\n",
              "    .colab-df-container {\n",
              "      display:flex;\n",
              "      flex-wrap:wrap;\n",
              "      gap: 12px;\n",
              "    }\n",
              "\n",
              "    .colab-df-convert {\n",
              "      background-color: #E8F0FE;\n",
              "      border: none;\n",
              "      border-radius: 50%;\n",
              "      cursor: pointer;\n",
              "      display: none;\n",
              "      fill: #1967D2;\n",
              "      height: 32px;\n",
              "      padding: 0 0 0 0;\n",
              "      width: 32px;\n",
              "    }\n",
              "\n",
              "    .colab-df-convert:hover {\n",
              "      background-color: #E2EBFA;\n",
              "      box-shadow: 0px 1px 2px rgba(60, 64, 67, 0.3), 0px 1px 3px 1px rgba(60, 64, 67, 0.15);\n",
              "      fill: #174EA6;\n",
              "    }\n",
              "\n",
              "    [theme=dark] .colab-df-convert {\n",
              "      background-color: #3B4455;\n",
              "      fill: #D2E3FC;\n",
              "    }\n",
              "\n",
              "    [theme=dark] .colab-df-convert:hover {\n",
              "      background-color: #434B5C;\n",
              "      box-shadow: 0px 1px 3px 1px rgba(0, 0, 0, 0.15);\n",
              "      filter: drop-shadow(0px 1px 2px rgba(0, 0, 0, 0.3));\n",
              "      fill: #FFFFFF;\n",
              "    }\n",
              "  </style>\n",
              "\n",
              "      <script>\n",
              "        const buttonEl =\n",
              "          document.querySelector('#df-72d15bde-3210-486d-9f06-e821a2abf485 button.colab-df-convert');\n",
              "        buttonEl.style.display =\n",
              "          google.colab.kernel.accessAllowed ? 'block' : 'none';\n",
              "\n",
              "        async function convertToInteractive(key) {\n",
              "          const element = document.querySelector('#df-72d15bde-3210-486d-9f06-e821a2abf485');\n",
              "          const dataTable =\n",
              "            await google.colab.kernel.invokeFunction('convertToInteractive',\n",
              "                                                     [key], {});\n",
              "          if (!dataTable) return;\n",
              "\n",
              "          const docLinkHtml = 'Like what you see? Visit the ' +\n",
              "            '<a target=\"_blank\" href=https://colab.research.google.com/notebooks/data_table.ipynb>data table notebook</a>'\n",
              "            + ' to learn more about interactive tables.';\n",
              "          element.innerHTML = '';\n",
              "          dataTable['output_type'] = 'display_data';\n",
              "          await google.colab.output.renderOutput(dataTable, element);\n",
              "          const docLink = document.createElement('div');\n",
              "          docLink.innerHTML = docLinkHtml;\n",
              "          element.appendChild(docLink);\n",
              "        }\n",
              "      </script>\n",
              "    </div>\n",
              "  </div>\n",
              "  "
            ]
          },
          "metadata": {},
          "execution_count": 64
        }
      ],
      "source": [
        "df = pd.read_csv('https://raw.githubusercontent.com/przem85/podstawy_sztucznej_inteligencji/main/data/Titanic.csv') \n",
        "df = df.dropna()\n",
        "df"
      ]
    },
    {
      "cell_type": "markdown",
      "metadata": {
        "id": "ExCCX4Pw7Cdg"
      },
      "source": [
        "# Matplotlib - rysowanie wykresów w Pythonie\n",
        "\n",
        "**Matplotlib** jest biblioteką do tworzenia wysokiej jakości wykresów dla języka Python i jego rozszerzenia numerycznego NumPy. Umożliwia prezentację danych w różnych formatach (np. PNG, PDF, XLS). Zapewnia kontrolę nad wyglądem, stylami i właściwościami wykresów, pracę w środowisku interaktywnym, jak i możliwość osadzania wyników w aplikacjach destkopowych czy webowych.\n",
        "\n",
        "Funkcje i narzędzia tej biblioteki są napisane w taki sposób aby jak najbardziej odzwierciedlały metody rysowania wykresów z języka MatLab, dzięki czemu użytkownicy Matlaba w łatwy sposób mogą przenieść się do języka Python.\n",
        "Niektóre zalety korzystania z Pythona, NumPy i matplotlib nad MatLabem:\n",
        "  \n",
        "  * nowoczesny język programowania w pełni funkcjonalny obiektowo, odpowiedni do tworzenia oprogramowania na dużą skalę,\n",
        "  * darmowy (open source),\n",
        "  * wsparcie SVG.\n",
        "\n",
        "Aby skorzystać z biblioteki matplotlib należy ją wcześniej zaimportować, np.:"
      ]
    },
    {
      "cell_type": "code",
      "execution_count": 28,
      "metadata": {
        "id": "4t9vKyjU7Cdg"
      },
      "outputs": [],
      "source": [
        "import matplotlib.pyplot as plt\n",
        "# from matplotlib import pyplot as plt\n",
        "\n",
        "%matplotlib inline"
      ]
    },
    {
      "cell_type": "markdown",
      "metadata": {
        "id": "PFT5Sxdm7Cdg"
      },
      "source": [
        "# Pierwszy wykres"
      ]
    },
    {
      "cell_type": "code",
      "execution_count": null,
      "metadata": {
        "id": "ObHphevz7Cdg",
        "outputId": "1322791e-f671-4aeb-b87a-0efd1599f528",
        "colab": {
          "base_uri": "https://localhost:8080/",
          "height": 265
        }
      },
      "outputs": [
        {
          "output_type": "display_data",
          "data": {
            "text/plain": [
              "<Figure size 432x288 with 1 Axes>"
            ],
            "image/png": "[encoded data removed]"
          },
          "metadata": {
            "needs_background": "light"
          }
        }
      ],
      "source": [
        "plt.plot([1, 5, 2, 7, 4, 1]) # wartości funkcji\n",
        "plt.show()"
      ]
    },
    {
      "cell_type": "code",
      "execution_count": null,
      "metadata": {
        "id": "CgcZVb-27Cdh",
        "outputId": "1802be3f-7d0a-419a-d80c-367892ae3e15",
        "colab": {
          "base_uri": "https://localhost:8080/",
          "height": 265
        }
      },
      "outputs": [
        {
          "output_type": "display_data",
          "data": {
            "text/plain": [
              "<Figure size 432x288 with 1 Axes>"
            ],
            "image/png": "[encoded data removed]"
          },
          "metadata": {
            "needs_background": "light"
          }
        }
      ],
      "source": [
        "plt.plot([1, 2, 4, 7], [-1, 3, -2, 10])\n",
        "plt.show()"
      ]
    },
    {
      "cell_type": "markdown",
      "metadata": {
        "id": "fA4Sb1-K7Cdh"
      },
      "source": [
        "Własności wykresów\n",
        "Za pomocą specjalnych poleceń można też zmieniać właściwości wykresów, takie jak np.: rodzaj linii, kolor, czy też symbole punktów.\n",
        "Rodzaje linii:\n",
        "  \n",
        "  * **\\-** - ciągła,\n",
        "  * **:** - punktowa,\n",
        "  * **-.** - kropka-kreska,\n",
        "  * **--** - kreskowana.\n",
        "\n",
        "Kolory:\n",
        "\n",
        "  * **y** - yellow,\n",
        "  * **m** - magenta,\n",
        "  * **c** - cyan,\n",
        "  * **r** - red,\n",
        "  * **g** - green,\n",
        "  * **b** - blue,\n",
        "  * **w** - white,\n",
        "  * **k** - black.\n",
        "\n",
        "Symbole:\n",
        "\n",
        "  * **.** - punkt,\n",
        "  * **o** - kółko,\n",
        "  * **x** - x,\n",
        "  * **\\+** - plus,\n",
        "  * ** \\* ** - gwiazdka,\n",
        "  * **s** - kwadraty,\n",
        "  * **d** - romb,\n",
        "  * **v** - trójkąt w dół,\n",
        "  * **^** - trójkąt w górę,\n",
        "  * **<** - trójkąt w lewo,\n",
        "  * **\\>** - trójkąt w prawo,\n",
        "  * **p** - pięciokąt,\n",
        "  * **h** - sześciokąt."
      ]
    },
    {
      "cell_type": "code",
      "execution_count": null,
      "metadata": {
        "id": "evtobdCu7Cdh",
        "outputId": "d73ffda6-d856-45ac-c92f-2f6e1156df2e",
        "colab": {
          "base_uri": "https://localhost:8080/",
          "height": 265
        }
      },
      "outputs": [
        {
          "output_type": "display_data",
          "data": {
            "text/plain": [
              "<Figure size 432x288 with 1 Axes>"
            ],
            "image/png": "[encoded data removed]"
          },
          "metadata": {
            "needs_background": "light"
          }
        }
      ],
      "source": [
        "import numpy as np\n",
        "\n",
        "x = np.arange(0., 5., 0.2)\n",
        "\n",
        "plt.plot(x, x, 'r--', x, x**2, 'bs', x, x**3, 'g^')\n",
        "plt.show()"
      ]
    },
    {
      "cell_type": "code",
      "execution_count": null,
      "metadata": {
        "id": "k5DbIzHf7Cdh",
        "outputId": "0c98e2b8-29f6-4b1a-d9ab-d051d2e67b98",
        "colab": {
          "base_uri": "https://localhost:8080/",
          "height": 269
        }
      },
      "outputs": [
        {
          "output_type": "display_data",
          "data": {
            "text/plain": [
              "<Figure size 432x288 with 1 Axes>"
            ],
            "image/png": "[encoded data removed]"
          },
          "metadata": {
            "needs_background": "light"
          }
        }
      ],
      "source": [
        "x = [1,2,3,4]\n",
        "y = [20, 21, 20.5, 20.8]\n",
        "\n",
        "plt.plot(x, y, linestyle=\"dashed\", marker=\"o\", color=\"green\")\n",
        "\n",
        "# ustawienie granic osi X, \n",
        "plt.xlim(0.5,4.5)\n",
        "plt.ylim(19.8,21.2)\n",
        "\n",
        "plt.show()"
      ]
    },
    {
      "cell_type": "code",
      "execution_count": null,
      "metadata": {
        "id": "1TtXPwRs7Cdi",
        "outputId": "682cd398-6a3e-4d13-bb48-e8b505ab5d96",
        "colab": {
          "base_uri": "https://localhost:8080/",
          "height": 286
        }
      },
      "outputs": [
        {
          "output_type": "display_data",
          "data": {
            "text/plain": [
              "<Figure size 432x288 with 1 Axes>"
            ],
            "image/png": "[encoded data removed]"
          },
          "metadata": {
            "needs_background": "light"
          }
        }
      ],
      "source": [
        "x = np.linspace(0, 20, 1000)\n",
        "y1 = np.sin(x)\n",
        "y2 = np.cos(x)\n",
        "\n",
        "# rozmiar czcionki\n",
        "plt.rc(\"font\", size=10)\n",
        "\n",
        "# dodanie legendy\n",
        "plt.plot(x, y1, '-b', label=r'$\\sin(x)$')\n",
        "plt.plot(x, y2, '-r', label='cosine')\n",
        "plt.legend(loc='upper right') # pozycja legendy\n",
        "# plt.legend(loc='upper left', frameon=False)\n",
        "plt.ylim(-1.5, 2.0)\n",
        "\n",
        "plt.title(\"Dwa wykresy\", size=20)\n",
        "\n",
        "plt.show()"
      ]
    },
    {
      "cell_type": "code",
      "execution_count": null,
      "metadata": {
        "id": "BaYaPtMU7Cdi"
      },
      "outputs": [],
      "source": []
    },
    {
      "cell_type": "markdown",
      "metadata": {
        "id": "4D9ZrV5b7Cdj"
      },
      "source": [
        "Więcej na temat wyszczególnienia obiektów na wykresie odsyłam do dokumntacji: [http://matplotlib.org/users/annotations_guide.html]\n"
      ]
    },
    {
      "cell_type": "markdown",
      "metadata": {
        "id": "L9xWHPCI7Cdj"
      },
      "source": [
        "#  Statystyka\n"
      ]
    },
    {
      "cell_type": "code",
      "execution_count": 66,
      "metadata": {
        "id": "l_6H4-aW7Cdj"
      },
      "outputs": [],
      "source": [
        "inFile = 'http://ww2.amstat.org/publications/jse/datasets/babyboom.dat.txt'\n",
        "data = pd.read_csv(inFile, sep='[ ]+', header=None, engine='python',names= ['sex', 'Weight', 'Minutes'])\n",
        "df = data[['Minutes', 'sex', 'Weight']]"
      ]
    },
    {
      "cell_type": "markdown",
      "metadata": {
        "id": "RUC4YMBH7Cdj"
      },
      "source": [
        "  * Narysujmy dane <tt>df.Weight.values</tt> jako szereg czasowy"
      ]
    },
    {
      "cell_type": "code",
      "execution_count": 67,
      "metadata": {
        "id": "b0Sk145G7Cdj",
        "outputId": "ff0b0f27-7991-4364-b593-dd5f4993a351",
        "colab": {
          "base_uri": "https://localhost:8080/",
          "height": 265
        }
      },
      "outputs": [
        {
          "output_type": "display_data",
          "data": {
            "text/plain": [
              "<Figure size 432x288 with 1 Axes>"
            ],
            "image/png": "[encoded data removed]"
          },
          "metadata": {
            "needs_background": "light"
          }
        }
      ],
      "source": [
        "x=df.Weight.values\n",
        "plt.scatter(np.arange(len(x)), x)\n",
        "plt.show()"
      ]
    },
    {
      "cell_type": "markdown",
      "metadata": {
        "id": "6eD0x8YC7Cdk"
      },
      "source": [
        " Narysujmy histogram dla <tt>df.Weight.values</tt>"
      ]
    },
    {
      "cell_type": "code",
      "execution_count": 68,
      "metadata": {
        "id": "xRBE1koQ7Cdk",
        "outputId": "365ff240-3e07-46e2-c43f-e1e3e0bca23f",
        "colab": {
          "base_uri": "https://localhost:8080/",
          "height": 265
        }
      },
      "outputs": [
        {
          "output_type": "display_data",
          "data": {
            "text/plain": [
              "<Figure size 432x288 with 1 Axes>"
            ],
            "image/png": "[encoded data removed]"
          },
          "metadata": {
            "needs_background": "light"
          }
        }
      ],
      "source": [
        "plt.hist(x, bins=25)\n",
        "plt.show()"
      ]
    },
    {
      "cell_type": "markdown",
      "metadata": {
        "id": "qLg620Pz7Cdk"
      },
      "source": [
        "Narysujmy gęstość dla <tt> df.Weight.values</tt> (estymacja jądrowa):"
      ]
    },
    {
      "cell_type": "code",
      "execution_count": 69,
      "metadata": {
        "id": "6Sm1iHgZ7Cdk",
        "outputId": "81ecf9b6-1d57-4fb6-865b-5a86c5ca1f90",
        "colab": {
          "base_uri": "https://localhost:8080/",
          "height": 265
        }
      },
      "outputs": [
        {
          "output_type": "display_data",
          "data": {
            "text/plain": [
              "<Figure size 432x288 with 1 Axes>"
            ],
            "image/png": "[encoded data removed]"
          },
          "metadata": {
            "needs_background": "light"
          }
        }
      ],
      "source": [
        "import seaborn as sns\n",
        "sns.kdeplot(x)\n",
        "plt.show()"
      ]
    },
    {
      "cell_type": "markdown",
      "metadata": {
        "id": "D2lemMbU7Cdk"
      },
      "source": [
        "Narysujmy dystrybuantę empiryczną dla </tt> df.Weight.values<tt>"
      ]
    },
    {
      "cell_type": "code",
      "execution_count": 70,
      "metadata": {
        "id": "uhsg8Eqw7Cdk",
        "outputId": "124b4430-48b3-42e3-a3c6-1a5c43bba58b",
        "colab": {
          "base_uri": "https://localhost:8080/",
          "height": 265
        }
      },
      "outputs": [
        {
          "output_type": "display_data",
          "data": {
            "text/plain": [
              "<Figure size 432x288 with 1 Axes>"
            ],
            "image/png": "[encoded data removed]"
          },
          "metadata": {
            "needs_background": "light"
          }
        }
      ],
      "source": [
        "from scipy import stats\n",
        "plt.plot(stats.cumfreq(x,numbins=25)[0])\n",
        "plt.show()"
      ]
    },
    {
      "cell_type": "markdown",
      "metadata": {
        "id": "-4Wwmqdt7Cdl"
      },
      "source": [
        "Narysujmy wykres pudełkowy dla <tt>df.Weight.values</tt>"
      ]
    },
    {
      "cell_type": "code",
      "execution_count": 71,
      "metadata": {
        "id": "pNSKU99b7Cdl",
        "outputId": "dd776359-1fae-41b6-835b-56e32b390423",
        "colab": {
          "base_uri": "https://localhost:8080/",
          "height": 265
        }
      },
      "outputs": [
        {
          "output_type": "display_data",
          "data": {
            "text/plain": [
              "<Figure size 432x288 with 1 Axes>"
            ],
            "image/png": "[encoded data removed]"
          },
          "metadata": {
            "needs_background": "light"
          }
        }
      ],
      "source": [
        "plt.boxplot(x, sym='*')\n",
        "plt.show()"
      ]
    },
    {
      "cell_type": "markdown",
      "metadata": {
        "id": "aoePphEl7Cdl"
      },
      "source": [
        "Narysujmy wykres skrzypcowy dla <tt>df.Weight.values</tt>"
      ]
    },
    {
      "cell_type": "code",
      "execution_count": 72,
      "metadata": {
        "id": "bJJXtMyh7Cdl",
        "outputId": "c073e210-b666-4886-f2f7-18677d577da8",
        "colab": {
          "base_uri": "https://localhost:8080/",
          "height": 320
        }
      },
      "outputs": [
        {
          "output_type": "stream",
          "name": "stderr",
          "text": [
            "/usr/local/lib/python3.9/dist-packages/seaborn/_decorators.py:36: FutureWarning: Pass the following variable as a keyword arg: x. From version 0.12, the only valid positional argument will be `data`, and passing other arguments without an explicit keyword will result in an error or misinterpretation.\n",
            "  warnings.warn(\n"
          ]
        },
        {
          "output_type": "display_data",
          "data": {
            "text/plain": [
              "<Figure size 432x288 with 1 Axes>"
            ],
            "image/png": "[encoded data removed]"
          },
          "metadata": {
            "needs_background": "light"
          }
        }
      ],
      "source": [
        "sns.violinplot(x)\n",
        "plt.show()"
      ]
    },
    {
      "cell_type": "markdown",
      "metadata": {
        "id": "UXcCRivF7Cdl"
      },
      "source": [
        "# Zadanie\n",
        "Proszę podzielić próbkę na dwie grupy ze względu na płeć (kolumna ``sex'') i narysować dla nich:\n",
        "<ul>\n",
        "<li>wykres w kształcie szeregu czasowego</li>\n",
        "<li>histogramy</li>\n",
        "<li>estymacje gęstości</li>\n",
        "<li>dystrybuanty empiryczne</li>\n",
        "<li>wykresy pudełkowe</li>\n",
        "<li>wykresy skrzypcowe</li>\n",
        "</ul>"
      ]
    },
    {
      "cell_type": "code",
      "execution_count": 73,
      "metadata": {
        "id": "hwqgwW-D7Cdm",
        "outputId": "0bb43ba3-8c84-4b8d-b6f1-3deab2413a4c",
        "colab": {
          "base_uri": "https://localhost:8080/",
          "height": 265
        }
      },
      "outputs": [
        {
          "output_type": "display_data",
          "data": {
            "text/plain": [
              "<Figure size 432x288 with 1 Axes>"
            ],
            "image/png": "[encoded data removed]"
          },
          "metadata": {
            "needs_background": "light"
          }
        }
      ],
      "source": [
        "women = df.loc[df.sex==1]\n",
        "men = df.loc[df.sex==2]\n",
        "women_weight=women.Weight.values\n",
        "men_weight=men.Weight.values\n",
        "plt.scatter(np.arange(len(women_weight)), women_weight,color = 'orange',label='women')\n",
        "plt.scatter(np.arange(len(men_weight)), men_weight,color = 'green', marker=\"d\",label='men')\n",
        "plt.legend(loc='lower right')\n",
        "plt.ylabel(\"Weight [g]\")\n",
        "plt.show()"
      ]
    },
    {
      "cell_type": "code",
      "execution_count": 74,
      "metadata": {
        "id": "HB7iDdfu7Cdm",
        "outputId": "0464d6cb-42ea-4dea-8836-1f83d5379302",
        "colab": {
          "base_uri": "https://localhost:8080/",
          "height": 279
        }
      },
      "outputs": [
        {
          "output_type": "display_data",
          "data": {
            "text/plain": [
              "<Figure size 432x288 with 1 Axes>"
            ],
            "image/png": "[encoded data removed]"
          },
          "metadata": {
            "needs_background": "light"
          }
        }
      ],
      "source": [
        "\n",
        "sns.kdeplot(men_weight, color = 'green', label = 'male')\n",
        "sns.kdeplot(women_weight, color = 'orange', label = 'female')\n",
        "plt.legend(loc='upper right')\n",
        "plt.xlabel('Weight[g]')\n",
        "plt.ylabel('PDF(Weight)')\n",
        "plt.show()"
      ]
    },
    {
      "cell_type": "code",
      "execution_count": 75,
      "metadata": {
        "id": "7fsYCFJx7Cdm",
        "outputId": "69692bb2-4781-438a-b475-b8878afef30b",
        "colab": {
          "base_uri": "https://localhost:8080/",
          "height": 265
        }
      },
      "outputs": [
        {
          "output_type": "display_data",
          "data": {
            "text/plain": [
              "<Figure size 432x288 with 1 Axes>"
            ],
            "image/png": "[encoded data removed]"
          },
          "metadata": {
            "needs_background": "light"
          }
        }
      ],
      "source": [
        "plt.hist(men_weight, color = 'green')\n",
        "plt.hist(women_weight, color = 'orange')\n",
        "plt.show()"
      ]
    },
    {
      "cell_type": "code",
      "execution_count": 76,
      "metadata": {
        "id": "Vhgjtyvc7Cdm",
        "outputId": "af328f57-fd75-4342-b170-1f98cf74545f",
        "colab": {
          "base_uri": "https://localhost:8080/",
          "height": 265
        }
      },
      "outputs": [
        {
          "output_type": "display_data",
          "data": {
            "text/plain": [
              "<Figure size 432x288 with 1 Axes>"
            ],
            "image/png": "[encoded data removed]"
          },
          "metadata": {
            "needs_background": "light"
          }
        }
      ],
      "source": [
        "plt.plot(stats.cumfreq(men_weight,numbins=25)[0])\n",
        "plt.plot(stats.cumfreq(women_weight, numbins=25)[0])\n",
        "plt.show()"
      ]
    },
    {
      "cell_type": "code",
      "execution_count": 77,
      "metadata": {
        "outputId": "77fd5322-cbdf-48b9-e2fa-efcc50fc856b",
        "id": "KfJMu7xx6jwb",
        "colab": {
          "base_uri": "https://localhost:8080/",
          "height": 279
        }
      },
      "outputs": [
        {
          "output_type": "display_data",
          "data": {
            "text/plain": [
              "<Figure size 432x288 with 1 Axes>"
            ],
            "image/png": "[encoded data removed]"
          },
          "metadata": {
            "needs_background": "light"
          }
        }
      ],
      "source": [
        "sns.boxplot(x = 'sex', y = 'Weight', data = df)\n",
        "plt.show()"
      ]
    },
    {
      "cell_type": "code",
      "execution_count": 79,
      "metadata": {
        "id": "ZOuF17W67Cdm",
        "outputId": "f5b06f82-cb85-4d0f-e09c-cda87a6ba257",
        "colab": {
          "base_uri": "https://localhost:8080/",
          "height": 279
        }
      },
      "outputs": [
        {
          "output_type": "display_data",
          "data": {
            "text/plain": [
              "<Figure size 432x288 with 1 Axes>"
            ],
            "image/png": "[encoded data removed]"
          },
          "metadata": {
            "needs_background": "light"
          }
        }
      ],
      "source": [
        "data['sex'] = np.where(df['sex']==1, \"women\", \"men\")\n",
        "\n",
        "sns.violinplot(x=data['sex'],y=data['Weight'])\n",
        "plt.show()"
      ]
    },
    {
      "cell_type": "markdown",
      "metadata": {
        "id": "jKfNDjYs7Cdm"
      },
      "source": [
        "# Zadanie 9\n",
        "\n",
        "\n",
        "## Reguła Trzech Sigm\n",
        "Reguła Trzech Sigm dla danego rozkładu normalnego $N(mean,\\sigma)$ oznacza, że w przedziale $[mean-3\\sigma,mean+3\\sigma]$ znajduje się 99.7\\% wszystkich obserwacji.\n",
        "\n",
        "Napisz program, który:\n",
        "\n",
        "  * rysuje gęstość rozkładu normalnego o zadanych parametrach $mean$ i $\\sigma$,\n",
        "  * wylicza pole pod krzywą\n",
        "  * zaznacza obszar po krzywą\n",
        "\n",
        "Policz prawdopodobieństwa:\n",
        "\n",
        "  * $P(X \\in [mean-\\sigma,mean+\\sigma])$\n",
        "  * $P(X \\in [mean-2\\sigma,mean+2\\sigma])$\n",
        "  * $P(X \\in [mean-3\\sigma,mean+3\\sigma])$\n",
        "\n"
      ]
    },
    {
      "cell_type": "code",
      "execution_count": 80,
      "metadata": {
        "id": "fFwoDDXA7Cdn",
        "outputId": "bf977f90-9ff6-487b-eab3-93b2d53c3894",
        "colab": {
          "base_uri": "https://localhost:8080/",
          "height": 265
        }
      },
      "outputs": [
        {
          "output_type": "display_data",
          "data": {
            "text/plain": [
              "<Figure size 432x288 with 1 Axes>"
            ],
            "image/png": "[encoded data removed]"
          },
          "metadata": {
            "needs_background": "light"
          }
        }
      ],
      "source": [
        "import math\n",
        "mean = 0\n",
        "variance = 1\n",
        "sigma = math.sqrt(variance)\n",
        "x = np.linspace(mean - 3 * sigma, mean + 3 * sigma, 100)\n",
        "plt.plot(x, stats.norm.pdf(x, mean, sigma))\n",
        "plt.show()"
      ]
    },
    {
      "cell_type": "code",
      "execution_count": 53,
      "metadata": {
        "collapsed": true,
        "id": "Geyi8veQ7Cdn",
        "outputId": "632fb215-cb3c-4ff5-f973-4b26828fada0",
        "colab": {
          "base_uri": "https://localhost:8080/",
          "height": 297
        }
      },
      "outputs": [
        {
          "output_type": "display_data",
          "data": {
            "text/plain": [
              "<Figure size 432x288 with 3 Axes>"
            ],
            "image/png": "[encoded data removed]"
          },
          "metadata": {
            "needs_background": "light"
          }
        }
      ],
      "source": [
        "fig, axes = plt.subplots(3,1)\n",
        "x = np.round(np.arange(mean - 3*sigma, mean + 3*sigma,0.01),2)\n",
        "pdf_function = stats.norm.pdf(x, mean, sigma)\n",
        "for a in axes:\n",
        "    a.plot(x,pdf_function)\n",
        "\n",
        "start_first = int(np.where(x == mean - sigma)[0])\n",
        "end_first = int(np.where(x == mean + sigma)[0])\n",
        "area_first = np.trapz(y=pdf_function[start_first:end_first],x=x[start_first:end_first])\n",
        "axes[0].fill_between(x[start_first:end_first],pdf_function[start_first:end_first], color='blue')\n",
        "axes[0].text(-0.5,0.2,\"Area: %.3f\" % area_first,bbox={'facecolor':'white'})\n",
        "\n",
        "\n",
        "start_second = int(np.where(x == mean - 2*sigma)[0])\n",
        "end_second = int(np.where(x == mean + 2*sigma)[0])\n",
        "area_second = np.trapz(y=pdf_function[start_second:end_second],x=x[start_second:end_second])\n",
        "axes[1].fill_between(x[start_second:end_second],pdf_function[start_second:end_second], color='blue')\n",
        "axes[1].text(-0.5,0.2,\"Area: %.3f\" % area_second,bbox={'facecolor':'white'})\n",
        "\n",
        "\n",
        "area = np.trapz(y=pdf_function,x=x)\n",
        "axes[2].fill_between(x,pdf_function, color='blue')\n",
        "axes[2].text(-0.5,0.2,\"Area: %.3f\" % area,bbox={'facecolor':'white'})\n",
        "axes[2].get_shared_x_axes().join(axes[1], axes[2])\n",
        "\n",
        "\n",
        "fig.tight_layout()"
      ]
    }
  ],
  "metadata": {
    "kernelspec": {
      "display_name": "Python 3",
      "language": "python",
      "name": "python3"
    },
    "language_info": {
      "codemirror_mode": {
        "name": "ipython",
        "version": 3
      },
      "file_extension": ".py",
      "mimetype": "text/x-python",
      "name": "python",
      "nbconvert_exporter": "python",
      "pygments_lexer": "ipython3",
      "version": "3.7.3"
    },
    "colab": {
      "provenance": []
    }
  },
  "nbformat": 4,
  "nbformat_minor": 0
}