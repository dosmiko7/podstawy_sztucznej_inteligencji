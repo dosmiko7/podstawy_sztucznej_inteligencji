{
  "cells": [
    {
      "cell_type": "markdown",
      "metadata": {
        "id": "view-in-github",
        "colab_type": "text"
      },
      "source": [
        "<a href=\"https://colab.research.google.com/github/dosmiko7/podstawy_sztucznej_inteligencji/blob/main/Z06_C_train_test_split.ipynb\" target=\"_parent\"><img src=\"https://colab.research.google.com/assets/colab-badge.svg\" alt=\"Open In Colab\"/></a>"
      ]
    },
    {
      "cell_type": "markdown",
      "metadata": {
        "id": "rVSROamWTaNj"
      },
      "source": [
        "# Train test split\n"
      ]
    },
    {
      "cell_type": "code",
      "execution_count": 1,
      "metadata": {
        "collapsed": true,
        "id": "NGOj-3pXTaNl"
      },
      "outputs": [],
      "source": [
        "import numpy as np\n",
        "import pandas as pd\n",
        "import scipy.stats as stats\n",
        "import sklearn.linear_model as lm\n",
        "from sklearn import datasets, linear_model\n",
        "import matplotlib.pyplot as plt\n",
        "\n",
        "from sklearn.preprocessing import PolynomialFeatures\n",
        "from sklearn.pipeline import make_pipeline\n",
        "\n",
        "from sklearn import  metrics"
      ]
    },
    {
      "cell_type": "markdown",
      "metadata": {
        "id": "OSDFHxG4TaNo"
      },
      "source": [
        "Rozważmy następujący zbiór punktów:"
      ]
    },
    {
      "cell_type": "code",
      "execution_count": 2,
      "metadata": {
        "id": "4e3nx1crTaNp",
        "outputId": "412ea34e-728c-45ee-d112-51f7c4778854",
        "colab": {
          "base_uri": "https://localhost:8080/",
          "height": 430
        }
      },
      "outputs": [
        {
          "output_type": "display_data",
          "data": {
            "text/plain": [
              "<Figure size 640x480 with 1 Axes>"
            ],
            "image/png": "[encoded data removed]"
          },
          "metadata": {}
        }
      ],
      "source": [
        "x = stats.uniform(0,3).rvs(100)\n",
        "f = lambda x: ((x*2-1)*(x**2-2)*(x-2)+3)\n",
        "y = f(x) + stats.norm(0,0.3).rvs(len(x))\n",
        "plt.plot(x, y, 'ok', ms=10);\n",
        "plt.show()"
      ]
    },
    {
      "cell_type": "markdown",
      "metadata": {
        "id": "uIt_Mw6LTaNq"
      },
      "source": [
        "# Przykład\n",
        "Podziel zbiór danych na część testową i treningową. \n",
        "Naucz model na części treningowej i ocen wyniki na części testowej."
      ]
    },
    {
      "cell_type": "code",
      "execution_count": 3,
      "metadata": {
        "id": "xbtfXyAwTaNq",
        "outputId": "74a59f08-29ad-49c5-fc30-a04375a8dc9a",
        "colab": {
          "base_uri": "https://localhost:8080/"
        }
      },
      "outputs": [
        {
          "output_type": "stream",
          "name": "stdout",
          "text": [
            "(60,) (60,)\n",
            "(40,) (40,)\n"
          ]
        }
      ],
      "source": [
        "from sklearn.model_selection import train_test_split\n",
        "X_train, X_test, y_train, y_test = train_test_split(x, y, test_size=0.4, random_state=0)\n",
        "\n",
        "print(X_train.shape, y_train.shape)\n",
        "print(X_test.shape, y_test.shape)"
      ]
    },
    {
      "cell_type": "code",
      "execution_count": 4,
      "metadata": {
        "collapsed": true,
        "id": "p_c8CS5dTaNr"
      },
      "outputs": [],
      "source": [
        "X_train=np.vstack(X_train)\n",
        "X_test=np.vstack(X_test)"
      ]
    },
    {
      "cell_type": "code",
      "execution_count": 5,
      "metadata": {
        "id": "C1JJXXR6TaNs",
        "outputId": "8ecd32f6-325e-4fe8-b12d-5758c5f952d7",
        "colab": {
          "base_uri": "https://localhost:8080/"
        }
      },
      "outputs": [
        {
          "output_type": "execute_result",
          "data": {
            "text/plain": [
              "array([ 6.92074957,  1.27001315, 22.20932057,  1.27301314,  4.31580575,\n",
              "        2.14767363, 10.27343914, 13.9674549 ,  1.22507826,  8.7886385 ,\n",
              "       10.10423152,  3.16232366,  9.03487622,  9.30176805,  3.69498993,\n",
              "        1.22372019,  4.19984005, 12.99719608,  1.74547004,  6.315504  ,\n",
              "       15.22141727,  2.78152168,  1.31027227,  1.34623063,  1.23521193,\n",
              "       11.05813144,  6.20996248,  2.25038668, 12.80378961, 15.93621952,\n",
              "        1.71740113,  2.20269775,  2.25748645,  6.58324458, 20.43100556,\n",
              "        3.5710237 ,  7.75791436,  7.08230939,  5.38662047,  1.25111473])"
            ]
          },
          "metadata": {},
          "execution_count": 5
        }
      ],
      "source": [
        "model2 = make_pipeline(PolynomialFeatures(2), linear_model.LinearRegression())\n",
        "model2.fit(X_train, y_train)\n",
        "model2.predict(X_test)"
      ]
    },
    {
      "cell_type": "code",
      "execution_count": 6,
      "metadata": {
        "id": "p2_AsVVqTaNt",
        "outputId": "2a950489-70cb-4242-ba3e-deff783a2ae0",
        "colab": {
          "base_uri": "https://localhost:8080/"
        }
      },
      "outputs": [
        {
          "output_type": "stream",
          "name": "stdout",
          "text": [
            "Explained variance score: 0.6913134172043973\n",
            "Explained variance score: 0.6913134172043973\n",
            "Median absolute error: 2.799433415697238\n",
            "Mean squared error: 16.62269409628142\n",
            "Mean absolute errors: 3.1498122586104516\n"
          ]
        }
      ],
      "source": [
        "print(\"Explained variance score: {}\".format( metrics.explained_variance_score(y_test, model2.predict(X_test)) ))\n",
        "print(\"Explained variance score: {}\".format( metrics.explained_variance_score(y_test, model2.predict(X_test)) ))\n",
        "print(\"Median absolute error: {}\".format( metrics.median_absolute_error(y_test, model2.predict(X_test)) ))\n",
        "print(\"Mean squared error: {}\".format( metrics.mean_squared_error(y_test, model2.predict(X_test)) ))\n",
        "print(\"Mean absolute errors: {}\".format(metrics.mean_absolute_error(y_test, model2.predict(X_test)) ))"
      ]
    },
    {
      "cell_type": "markdown",
      "metadata": {
        "id": "ArRPH0ORTaNu"
      },
      "source": [
        "# Zadanie\n",
        "Wylicz powyższe miary na zbiorze testowym dla wszystkich modeli nauczonych na trainie:\n",
        "\n",
        "- regrsji linowej\n",
        "- regrsji wielomianowej stopnia 2\n",
        "- regrsji wielomianowej stopnia 3\n",
        "- regrsji wielomianowej stopnia 4\n",
        "- regrsji wielomianowej stopnia 5\n",
        "- regrsji wielomianowej stopnia 25"
      ]
    },
    {
      "cell_type": "code",
      "execution_count": 7,
      "metadata": {
        "collapsed": true,
        "id": "BBU-ZMr6TaNv",
        "outputId": "fbec646f-5ecc-40e8-e42b-8d685429113a",
        "colab": {
          "base_uri": "https://localhost:8080/"
        }
      },
      "outputs": [
        {
          "output_type": "stream",
          "name": "stdout",
          "text": [
            "linear\n",
            "Explained variance score: 0.3748407664337532\n",
            "Explained variance score: 0.3748407664337532\n",
            "Median absolute error: 3.182957974089165\n",
            "Mean squared error: 34.16300372685504\n",
            "Mean absolute errors: 4.036926268553607\n",
            "2nd degree\n",
            "Explained variance score: 0.6913134172043973\n",
            "Explained variance score: 0.6913134172043973\n",
            "Median absolute error: 2.799433415697238\n",
            "Mean squared error: 16.62269409628142\n",
            "Mean absolute errors: 3.1498122586104516\n",
            "3rd degree\n",
            "Explained variance score: 0.9859782946127923\n",
            "Explained variance score: 0.9859782946127923\n",
            "Median absolute error: 0.5428547791031356\n",
            "Mean squared error: 0.7484136265733333\n",
            "Mean absolute errors: 0.5985835364716026\n",
            "4th degree\n",
            "Explained variance score: 0.9982405851431672\n",
            "Explained variance score: 0.9982405851431672\n",
            "Median absolute error: 0.18668750692085267\n",
            "Mean squared error: 0.09471387759628613\n",
            "Mean absolute errors: 0.23781488216421004\n",
            "5th degree\n",
            "Explained variance score: 0.9982692322763251\n",
            "Explained variance score: 0.9982692322763251\n",
            "Median absolute error: 0.19542799606886163\n",
            "Mean squared error: 0.09298986485472874\n",
            "Mean absolute errors: 0.2350803658097181\n",
            "5th degree\n",
            "Explained variance score: -0.7402882446682026\n",
            "Explained variance score: -0.7402882446682026\n",
            "Median absolute error: 0.18409139287731446\n",
            "Mean squared error: 94.99770324051346\n",
            "Mean absolute errors: 1.8060877718417376\n"
          ]
        }
      ],
      "source": [
        "model0 = make_pipeline( linear_model.LinearRegression())\n",
        "model0.fit(X_train, y_train)\n",
        "model0.predict(X_test)\n",
        "print(\"linear\")\n",
        "print(\"Explained variance score: {}\".format( metrics.explained_variance_score(y_test, model0.predict(X_test)) ))\n",
        "print(\"Explained variance score: {}\".format( metrics.explained_variance_score(y_test, model0.predict(X_test)) ))\n",
        "print(\"Median absolute error: {}\".format( metrics.median_absolute_error(y_test, model0.predict(X_test)) ))\n",
        "print(\"Mean squared error: {}\".format( metrics.mean_squared_error(y_test, model0.predict(X_test)) ))\n",
        "print(\"Mean absolute errors: {}\".format(metrics.mean_absolute_error(y_test, model0.predict(X_test)) ))\n",
        "\n",
        "model2= make_pipeline(PolynomialFeatures(2), linear_model.LinearRegression())\n",
        "model2.fit(X_train, y_train)\n",
        "model2.predict(X_test)\n",
        "print(\"2nd degree\")\n",
        "print(\"Explained variance score: {}\".format( metrics.explained_variance_score(y_test, model2.predict(X_test)) ))\n",
        "print(\"Explained variance score: {}\".format( metrics.explained_variance_score(y_test, model2.predict(X_test)) ))\n",
        "print(\"Median absolute error: {}\".format( metrics.median_absolute_error(y_test, model2.predict(X_test)) ))\n",
        "print(\"Mean squared error: {}\".format( metrics.mean_squared_error(y_test, model2.predict(X_test)) ))\n",
        "print(\"Mean absolute errors: {}\".format(metrics.mean_absolute_error(y_test, model2.predict(X_test)) ))\n",
        "\n",
        "model3= make_pipeline(PolynomialFeatures(3), linear_model.LinearRegression())\n",
        "model3.fit(X_train, y_train)\n",
        "model3.predict(X_test)\n",
        "print(\"3rd degree\")\n",
        "print(\"Explained variance score: {}\".format( metrics.explained_variance_score(y_test, model3.predict(X_test)) ))\n",
        "print(\"Explained variance score: {}\".format( metrics.explained_variance_score(y_test, model3.predict(X_test)) ))\n",
        "print(\"Median absolute error: {}\".format( metrics.median_absolute_error(y_test, model3.predict(X_test)) ))\n",
        "print(\"Mean squared error: {}\".format( metrics.mean_squared_error(y_test, model3.predict(X_test)) ))\n",
        "print(\"Mean absolute errors: {}\".format(metrics.mean_absolute_error(y_test, model3.predict(X_test)) ))\n",
        "\n",
        "model4= make_pipeline(PolynomialFeatures(4), linear_model.LinearRegression())\n",
        "model4.fit(X_train, y_train)\n",
        "model4.predict(X_test)\n",
        "print(\"4th degree\")\n",
        "print(\"Explained variance score: {}\".format( metrics.explained_variance_score(y_test, model4.predict(X_test)) ))\n",
        "print(\"Explained variance score: {}\".format( metrics.explained_variance_score(y_test, model4.predict(X_test)) ))\n",
        "print(\"Median absolute error: {}\".format( metrics.median_absolute_error(y_test, model4.predict(X_test)) ))\n",
        "print(\"Mean squared error: {}\".format( metrics.mean_squared_error(y_test, model4.predict(X_test)) ))\n",
        "print(\"Mean absolute errors: {}\".format(metrics.mean_absolute_error(y_test, model4.predict(X_test)) ))\n",
        "\n",
        "\n",
        "model5= make_pipeline(PolynomialFeatures(5), linear_model.LinearRegression())\n",
        "model5.fit(X_train, y_train)\n",
        "model5.predict(X_test)\n",
        "print(\"5th degree\")\n",
        "print(\"Explained variance score: {}\".format( metrics.explained_variance_score(y_test, model5.predict(X_test)) ))\n",
        "print(\"Explained variance score: {}\".format( metrics.explained_variance_score(y_test, model5.predict(X_test)) ))\n",
        "print(\"Median absolute error: {}\".format( metrics.median_absolute_error(y_test, model5.predict(X_test)) ))\n",
        "print(\"Mean squared error: {}\".format( metrics.mean_squared_error(y_test, model5.predict(X_test)) ))\n",
        "print(\"Mean absolute errors: {}\".format(metrics.mean_absolute_error(y_test, model5.predict(X_test)) ))\n",
        "\n",
        "model25= make_pipeline(PolynomialFeatures(25), linear_model.LinearRegression())\n",
        "model25.fit(X_train, y_train)\n",
        "model25.predict(X_test)\n",
        "print(\"5th degree\")\n",
        "print(\"Explained variance score: {}\".format( metrics.explained_variance_score(y_test, model25.predict(X_test)) ))\n",
        "print(\"Explained variance score: {}\".format( metrics.explained_variance_score(y_test, model25.predict(X_test)) ))\n",
        "print(\"Median absolute error: {}\".format( metrics.median_absolute_error(y_test, model25.predict(X_test)) ))\n",
        "print(\"Mean squared error: {}\".format( metrics.mean_squared_error(y_test, model25.predict(X_test)) ))\n",
        "print(\"Mean absolute errors: {}\".format(metrics.mean_absolute_error(y_test, model25.predict(X_test)) ))"
      ]
    }
  ],
  "metadata": {
    "kernelspec": {
      "display_name": "Python 3",
      "language": "python",
      "name": "python3"
    },
    "language_info": {
      "codemirror_mode": {
        "name": "ipython",
        "version": 3
      },
      "file_extension": ".py",
      "mimetype": "text/x-python",
      "name": "python",
      "nbconvert_exporter": "python",
      "pygments_lexer": "ipython3",
      "version": "3.10.2"
    },
    "colab": {
      "provenance": [],
      "include_colab_link": true
    }
  },
  "nbformat": 4,
  "nbformat_minor": 0
}