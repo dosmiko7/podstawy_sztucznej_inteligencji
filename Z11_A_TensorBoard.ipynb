{
  "cells": [
    {
      "attachments": {},
      "cell_type": "markdown",
      "metadata": {
        "colab_type": "text",
        "id": "view-in-github"
      },
      "source": [
        "<a href=\"https://colab.research.google.com/github/mladbago/podstawy_sztucznej_inteligencji/blob/main/Z11_A_TensorBoard.ipynb\" target=\"_parent\"><img src=\"https://colab.research.google.com/assets/colab-badge.svg\" alt=\"Open In Colab\"/></a>"
      ]
    },
    {
      "cell_type": "code",
      "execution_count": 1,
      "metadata": {
        "colab": {
          "base_uri": "https://localhost:8080/"
        },
        "id": "i_222piVOqDP",
        "outputId": "7f842cff-1346-45a7-9827-6794e3f58216"
      },
      "outputs": [
        {
          "name": "stdout",
          "output_type": "stream",
          "text": [
            "2.12.0\n",
            "2.12.0\n"
          ]
        }
      ],
      "source": [
        "import tensorflow as tf\n",
        "from tensorflow import keras\n",
        "print(tf.__version__)\n",
        "\n",
        "print(keras.__version__)"
      ]
    },
    {
      "cell_type": "code",
      "execution_count": 2,
      "metadata": {
        "id": "55ZjJ_qgOqDT"
      },
      "outputs": [],
      "source": [
        "import numpy as np\n",
        "import pandas as pd\n",
        "import matplotlib.pyplot as plt\n",
        "import os"
      ]
    },
    {
      "cell_type": "code",
      "execution_count": null,
      "metadata": {
        "colab": {
          "base_uri": "https://localhost:8080/",
          "height": 409
        },
        "id": "-1tmdA2DOqDT",
        "outputId": "47fb85f1-4482-43e2-8ac0-81489e722ef3"
      },
      "outputs": [],
      "source": [
        "# Wczytaj dane treningowe i testowe\n",
        "import numpy as np\n",
        "import matplotlib.pyplot as plt\n",
        "import pandas as pd\n",
        "\n",
        "train_set = pd.read_csv('https://raw.githubusercontent.com/dosmiko7/podstawy_sztucznej_inteligencji/main/Dane/adult/adult.data', sep=\", \",header = None)\n",
        "test_set = pd.read_csv('https://raw.githubusercontent.com/dosmiko7/podstawy_sztucznej_inteligencji/main/Dane/adult/adult.test', sep=\", \",skiprows = 1, header = None) # Make sure to skip a row for the test set\n",
        "\n",
        "col_labels = ['age', 'workclass', 'fnlwgt', 'education', 'education_num', 'marital_status', 'occupation', \n",
        "              'relationship', 'race', 'sex', 'capital_gain', 'capital_loss', 'hours_per_week', 'native_country',\n",
        "             'wage_class']\n",
        "train_set.columns = col_labels\n",
        "test_set.columns = col_labels\n",
        "\n",
        "train = train_set.replace('?', np.nan).dropna()\n",
        "test = test_set.replace('?', np.nan).dropna()\n",
        "\n",
        "train_set.head()\n"
      ]
    },
    {
      "attachments": {},
      "cell_type": "markdown",
      "metadata": {
        "id": "ZF_loxucOqDU"
      },
      "source": [
        "# Zad.\n",
        "Zróbmy szybki preprocesing"
      ]
    },
    {
      "cell_type": "code",
      "execution_count": 4,
      "metadata": {
        "id": "Yy2dFLZhOqDV"
      },
      "outputs": [],
      "source": [
        "dataset = pd.concat([train,test])\n",
        "\n",
        "dataset['wage_class'] = dataset.wage_class.replace({'<=50K.': 0,'<=50K':0, '>50K.':1, '>50K':1})\n",
        "\n",
        "dataset.drop([\"fnlwgt\"],axis=1,inplace=True)\n",
        "\n",
        "dataset.drop([\"education\"],axis=1,inplace=True)\n",
        "\n",
        "x = dataset.groupby('native_country')[\"wage_class\"].mean()\n",
        "\n",
        "d = dict(pd.cut(x[x.index!=\" United-States\"],5,labels=range(5)))\n",
        "\n",
        "dataset['native_country'] = dataset['native_country'].replace(d)\n",
        "\n",
        "dataset = pd.get_dummies(dataset,drop_first=True)\n",
        "\n",
        "train = dataset.iloc[:train.shape[0]]\n",
        "test = dataset.iloc[train.shape[0]:]\n",
        "\n",
        "X_train = train.drop(\"wage_class\",axis=1)\n",
        "y_train = train.wage_class\n",
        "\n",
        "X_test = test.drop(\"wage_class\",axis=1)\n",
        "y_test = test.wage_class\n"
      ]
    },
    {
      "attachments": {},
      "cell_type": "markdown",
      "metadata": {
        "id": "pbbJv6UUOqDW"
      },
      "source": [
        "# TensorBoard"
      ]
    },
    {
      "cell_type": "code",
      "execution_count": 5,
      "metadata": {
        "id": "7TiWq5M1OqDX"
      },
      "outputs": [],
      "source": [
        "root_logdir = os.path.join(os.curdir, \"my_logs\")"
      ]
    },
    {
      "cell_type": "code",
      "execution_count": 6,
      "metadata": {
        "colab": {
          "base_uri": "https://localhost:8080/",
          "height": 36
        },
        "id": "T3nMHNozOqDX",
        "outputId": "deec5d56-5b3d-4bfe-a7f4-b4e1b857483f"
      },
      "outputs": [
        {
          "data": {
            "application/vnd.google.colaboratory.intrinsic+json": {
              "type": "string"
            },
            "text/plain": [
              "'./my_logs/run_2023_05_31-17_40_29'"
            ]
          },
          "execution_count": 6,
          "metadata": {},
          "output_type": "execute_result"
        }
      ],
      "source": [
        "def get_run_logdir():\n",
        "    import time\n",
        "    run_id = time.strftime(\"run_%Y_%m_%d-%H_%M_%S\")\n",
        "    return os.path.join(root_logdir, run_id)\n",
        "\n",
        "run_logdir = get_run_logdir()\n",
        "run_logdir"
      ]
    },
    {
      "cell_type": "code",
      "execution_count": 7,
      "metadata": {
        "id": "58LS_Yd6OqDX"
      },
      "outputs": [],
      "source": [
        "keras.backend.clear_session()\n",
        "np.random.seed(42)\n",
        "tf.random.set_seed(42)"
      ]
    },
    {
      "cell_type": "code",
      "execution_count": null,
      "metadata": {
        "id": "7daqSraUOqDY"
      },
      "outputs": [],
      "source": []
    },
    {
      "cell_type": "code",
      "execution_count": 8,
      "metadata": {
        "colab": {
          "base_uri": "https://localhost:8080/"
        },
        "id": "VbHrP5gjOqDY",
        "outputId": "ef074141-121a-4c7b-80b4-acb6e9ac5c9b"
      },
      "outputs": [
        {
          "name": "stdout",
          "output_type": "stream",
          "text": [
            "Model: \"sequential\"\n",
            "_________________________________________________________________\n",
            " Layer (type)                Output Shape              Param #   \n",
            "=================================================================\n",
            " dense (Dense)               (None, 100)               4200      \n",
            "                                                                 \n",
            " dense_1 (Dense)             (None, 50)                5050      \n",
            "                                                                 \n",
            " dense_2 (Dense)             (None, 10)                510       \n",
            "                                                                 \n",
            " dense_3 (Dense)             (None, 1)                 11        \n",
            "                                                                 \n",
            "=================================================================\n",
            "Total params: 9,771\n",
            "Trainable params: 9,771\n",
            "Non-trainable params: 0\n",
            "_________________________________________________________________\n"
          ]
        }
      ],
      "source": [
        "from keras.models import Sequential\n",
        "from keras.layers import Dense\n",
        "\n",
        "from keras.callbacks import History\n",
        "\n",
        "history = History()\n",
        "model = Sequential()\n",
        "model.add(Dense(100,activation=\"sigmoid\",input_shape=(X_train.shape[1],)))\n",
        "model.add(Dense(50,activation=\"sigmoid\"))\n",
        "model.add(Dense(10,activation=\"sigmoid\"))\n",
        "model.add(Dense(1,activation=\"sigmoid\"))\n",
        "model.summary()"
      ]
    },
    {
      "cell_type": "code",
      "execution_count": 9,
      "metadata": {
        "id": "5-klkIWQOqDZ"
      },
      "outputs": [],
      "source": [
        "model.compile(loss=\"binary_crossentropy\",optimizer=\"Adam\", metrics=[\"accuracy\"])"
      ]
    },
    {
      "cell_type": "code",
      "execution_count": 10,
      "metadata": {
        "colab": {
          "base_uri": "https://localhost:8080/"
        },
        "id": "l5mPOI79OqDa",
        "outputId": "81cfe444-244e-418a-f489-096ef971dc24"
      },
      "outputs": [
        {
          "name": "stdout",
          "output_type": "stream",
          "text": [
            "Epoch 1/30\n",
            "943/943 [==============================] - 3s 3ms/step - loss: 0.4467 - accuracy: 0.7885 - val_loss: 0.3979 - val_accuracy: 0.8021\n",
            "Epoch 2/30\n",
            "943/943 [==============================] - 2s 2ms/step - loss: 0.3798 - accuracy: 0.8108 - val_loss: 0.3738 - val_accuracy: 0.8113\n",
            "Epoch 3/30\n",
            "943/943 [==============================] - 2s 2ms/step - loss: 0.3761 - accuracy: 0.8109 - val_loss: 0.3683 - val_accuracy: 0.8202\n",
            "Epoch 4/30\n",
            "943/943 [==============================] - 2s 2ms/step - loss: 0.3742 - accuracy: 0.8121 - val_loss: 0.4026 - val_accuracy: 0.8092\n",
            "Epoch 5/30\n",
            "943/943 [==============================] - 2s 2ms/step - loss: 0.3719 - accuracy: 0.8126 - val_loss: 0.3662 - val_accuracy: 0.8163\n",
            "Epoch 6/30\n",
            "943/943 [==============================] - 2s 2ms/step - loss: 0.3703 - accuracy: 0.8120 - val_loss: 0.3723 - val_accuracy: 0.8075\n",
            "Epoch 7/30\n",
            "943/943 [==============================] - 2s 2ms/step - loss: 0.3706 - accuracy: 0.8148 - val_loss: 0.3671 - val_accuracy: 0.8186\n",
            "Epoch 8/30\n",
            "943/943 [==============================] - 2s 2ms/step - loss: 0.3698 - accuracy: 0.8146 - val_loss: 0.3715 - val_accuracy: 0.8139\n",
            "Epoch 9/30\n",
            "943/943 [==============================] - 2s 2ms/step - loss: 0.3681 - accuracy: 0.8152 - val_loss: 0.3749 - val_accuracy: 0.8108\n",
            "Epoch 10/30\n",
            "943/943 [==============================] - 2s 2ms/step - loss: 0.3676 - accuracy: 0.8152 - val_loss: 0.3649 - val_accuracy: 0.8122\n",
            "Epoch 11/30\n",
            "943/943 [==============================] - 2s 2ms/step - loss: 0.3647 - accuracy: 0.8150 - val_loss: 0.3659 - val_accuracy: 0.8131\n",
            "Epoch 12/30\n",
            "943/943 [==============================] - 2s 2ms/step - loss: 0.3663 - accuracy: 0.8142 - val_loss: 0.3628 - val_accuracy: 0.8163\n",
            "Epoch 13/30\n",
            "943/943 [==============================] - 2s 2ms/step - loss: 0.3666 - accuracy: 0.8151 - val_loss: 0.3634 - val_accuracy: 0.8162\n",
            "Epoch 14/30\n",
            "943/943 [==============================] - 2s 2ms/step - loss: 0.3637 - accuracy: 0.8170 - val_loss: 0.3628 - val_accuracy: 0.8163\n",
            "Epoch 15/30\n",
            "943/943 [==============================] - 2s 2ms/step - loss: 0.3653 - accuracy: 0.8167 - val_loss: 0.3703 - val_accuracy: 0.8079\n",
            "Epoch 16/30\n",
            "943/943 [==============================] - 2s 2ms/step - loss: 0.3670 - accuracy: 0.8152 - val_loss: 0.3639 - val_accuracy: 0.8148\n",
            "Epoch 17/30\n",
            "943/943 [==============================] - 2s 2ms/step - loss: 0.3653 - accuracy: 0.8165 - val_loss: 0.3631 - val_accuracy: 0.8179\n",
            "Epoch 18/30\n",
            "943/943 [==============================] - 2s 2ms/step - loss: 0.3650 - accuracy: 0.8161 - val_loss: 0.3798 - val_accuracy: 0.8039\n",
            "Epoch 19/30\n",
            "943/943 [==============================] - 2s 2ms/step - loss: 0.3639 - accuracy: 0.8173 - val_loss: 0.3637 - val_accuracy: 0.8165\n",
            "Epoch 20/30\n",
            "943/943 [==============================] - 2s 2ms/step - loss: 0.3641 - accuracy: 0.8162 - val_loss: 0.3634 - val_accuracy: 0.8167\n",
            "Epoch 21/30\n",
            "943/943 [==============================] - 2s 2ms/step - loss: 0.3649 - accuracy: 0.8166 - val_loss: 0.3649 - val_accuracy: 0.8156\n",
            "Epoch 22/30\n",
            "943/943 [==============================] - 2s 2ms/step - loss: 0.3628 - accuracy: 0.8169 - val_loss: 0.3642 - val_accuracy: 0.8160\n",
            "Epoch 23/30\n",
            "943/943 [==============================] - 2s 2ms/step - loss: 0.3626 - accuracy: 0.8164 - val_loss: 0.3634 - val_accuracy: 0.8149\n",
            "Epoch 24/30\n",
            "943/943 [==============================] - 2s 2ms/step - loss: 0.3630 - accuracy: 0.8179 - val_loss: 0.3627 - val_accuracy: 0.8172\n",
            "Epoch 25/30\n",
            "943/943 [==============================] - 2s 2ms/step - loss: 0.3639 - accuracy: 0.8146 - val_loss: 0.3625 - val_accuracy: 0.8177\n",
            "Epoch 26/30\n",
            "943/943 [==============================] - 2s 2ms/step - loss: 0.3618 - accuracy: 0.8159 - val_loss: 0.3622 - val_accuracy: 0.8174\n",
            "Epoch 27/30\n",
            "943/943 [==============================] - 2s 2ms/step - loss: 0.3632 - accuracy: 0.8192 - val_loss: 0.3704 - val_accuracy: 0.8110\n",
            "Epoch 28/30\n",
            "943/943 [==============================] - 2s 2ms/step - loss: 0.3636 - accuracy: 0.8144 - val_loss: 0.3663 - val_accuracy: 0.8137\n",
            "Epoch 29/30\n",
            "943/943 [==============================] - 2s 2ms/step - loss: 0.3613 - accuracy: 0.8170 - val_loss: 0.3654 - val_accuracy: 0.8194\n",
            "Epoch 30/30\n",
            "943/943 [==============================] - 2s 2ms/step - loss: 0.3621 - accuracy: 0.8163 - val_loss: 0.3627 - val_accuracy: 0.8175\n"
          ]
        }
      ],
      "source": [
        "from keras.callbacks import TensorBoard \n",
        "\n",
        "tensorboard_cb = TensorBoard(run_logdir)\n",
        "history = model.fit(X_train, y_train, epochs=30, validation_data=(X_test, y_test), callbacks=[tensorboard_cb])"
      ]
    },
    {
      "attachments": {},
      "cell_type": "markdown",
      "metadata": {
        "id": "mB6wPbxqOqDb"
      },
      "source": [
        "o start the TensorBoard server, one option is to open a terminal, if needed activate the virtualenv where you installed TensorBoard, go to this notebook's directory, then type:\n",
        "\n",
        "```python\n",
        "$ tensorboard --logdir=./my_logs --port=6006\n",
        "```\n",
        "\n",
        "You can then open your web browser to localhost:6006 and use TensorBoard. Once you are done, press Ctrl-C in the terminal window, this will shutdown the TensorBoard server.\n",
        "\n",
        "Alternatively, you can load TensorBoard's Jupyter extension and run it like this:\n",
        "\n",
        "```python\n",
        "%load_ext tensorboard\n",
        "%tensorboard --logdir=./my_logs --port=6006\n",
        "```"
      ]
    },
    {
      "attachments": {},
      "cell_type": "markdown",
      "metadata": {
        "id": "aK4Jkx2COqDb"
      },
      "source": [
        "Gdyby nie działał tensorboard\n",
        "\n",
        "https://github.com/pytorch/pytorch/issues/22676\n",
        "```python\n",
        "pip uninstall tb-nightly tensorboardX tensorboard\n",
        "pip install tensorboard\n",
        "```"
      ]
    },
    {
      "attachments": {},
      "cell_type": "markdown",
      "metadata": {
        "id": "B6Z43oUqOqDc"
      },
      "source": [
        "# Zad\n",
        "\n",
        "* Naucz dowolny model na zbiorze MNIST.\n",
        "* Wyświetl krzywe uczenia w tensorboard"
      ]
    },
    {
      "cell_type": "code",
      "execution_count": 11,
      "metadata": {
        "colab": {
          "base_uri": "https://localhost:8080/"
        },
        "id": "pDfyW8eDOqDc",
        "outputId": "c50ceb07-de26-4735-ff0d-a19789f8d1ee"
      },
      "outputs": [
        {
          "name": "stdout",
          "output_type": "stream",
          "text": [
            "Downloading data from https://storage.googleapis.com/tensorflow/tf-keras-datasets/mnist.npz\n",
            "11490434/11490434 [==============================] - 0s 0us/step\n"
          ]
        }
      ],
      "source": [
        "import datetime\n",
        "mnist = tf.keras.datasets.mnist\n",
        "\n",
        "(x_train, y_train),(x_test, y_test) = mnist.load_data()\n",
        "x_train, x_test = x_train / 255.0, x_test / 255.0\n",
        "\n",
        "def create_model():\n",
        "  return tf.keras.models.Sequential([\n",
        "    tf.keras.layers.Flatten(input_shape=(28, 28)),\n",
        "    tf.keras.layers.Dense(512, activation='relu'),\n",
        "    tf.keras.layers.Dropout(0.2),\n",
        "    tf.keras.layers.Dense(10, activation='softmax')\n",
        "  ])"
      ]
    },
    {
      "cell_type": "code",
      "execution_count": 12,
      "metadata": {
        "colab": {
          "base_uri": "https://localhost:8080/"
        },
        "id": "i9C5NZGmOqDc",
        "outputId": "f9a31f17-bbc8-48d6-9199-21e90dbc41e9"
      },
      "outputs": [
        {
          "name": "stdout",
          "output_type": "stream",
          "text": [
            "Epoch 1/5\n",
            "1875/1875 [==============================] - 14s 7ms/step - loss: 0.2210 - accuracy: 0.9353 - val_loss: 0.1046 - val_accuracy: 0.9684\n",
            "Epoch 2/5\n",
            "1875/1875 [==============================] - 8s 4ms/step - loss: 0.0979 - accuracy: 0.9697 - val_loss: 0.0891 - val_accuracy: 0.9713\n",
            "Epoch 3/5\n",
            "1875/1875 [==============================] - 9s 5ms/step - loss: 0.0691 - accuracy: 0.9779 - val_loss: 0.0659 - val_accuracy: 0.9790\n",
            "Epoch 4/5\n",
            "1875/1875 [==============================] - 8s 4ms/step - loss: 0.0529 - accuracy: 0.9829 - val_loss: 0.0730 - val_accuracy: 0.9784\n",
            "Epoch 5/5\n",
            "1875/1875 [==============================] - 8s 5ms/step - loss: 0.0437 - accuracy: 0.9860 - val_loss: 0.0680 - val_accuracy: 0.9786\n"
          ]
        },
        {
          "data": {
            "text/plain": [
              "<keras.callbacks.History at 0x7f03b90ca590>"
            ]
          },
          "execution_count": 12,
          "metadata": {},
          "output_type": "execute_result"
        }
      ],
      "source": [
        "model = create_model()\n",
        "model.compile(optimizer='adam',\n",
        "              loss='sparse_categorical_crossentropy',\n",
        "              metrics=['accuracy'])\n",
        "\n",
        "log_dir = \"logs/fit/\" + datetime.datetime.now().strftime(\"%Y%m%d-%H%M%S\")\n",
        "tensorboard_callback = tf.keras.callbacks.TensorBoard(log_dir=log_dir, histogram_freq=1)\n",
        "\n",
        "model.fit(x=x_train, \n",
        "          y=y_train, \n",
        "          epochs=5, \n",
        "          validation_data=(x_test, y_test), \n",
        "          callbacks=[tensorboard_callback])"
      ]
    }
  ],
  "metadata": {
    "colab": {
      "include_colab_link": true,
      "provenance": []
    },
    "kernelspec": {
      "display_name": "Python 3",
      "language": "python",
      "name": "python3"
    },
    "language_info": {
      "codemirror_mode": {
        "name": "ipython",
        "version": 3
      },
      "file_extension": ".py",
      "mimetype": "text/x-python",
      "name": "python",
      "nbconvert_exporter": "python",
      "pygments_lexer": "ipython3",
      "version": "3.7.3"
    }
  },
  "nbformat": 4,
  "nbformat_minor": 0
}
